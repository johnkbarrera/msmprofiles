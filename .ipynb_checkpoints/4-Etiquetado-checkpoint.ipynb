{
 "cells": [
  {
   "cell_type": "markdown",
   "metadata": {},
   "source": [
    "# JOIN GROUPS"
   ]
  },
  {
   "cell_type": "code",
   "execution_count": 1,
   "metadata": {},
   "outputs": [],
   "source": [
    "import numpy as np\n",
    "import datetime\n",
    "from datetime import date\n",
    "import json\n",
    "import pylab\n",
    "import pandas as pd\n",
    "import matplotlib.pyplot as plt\n",
    "import os, sys\n",
    "from sklearn.preprocessing import normalize"
   ]
  },
  {
   "cell_type": "code",
   "execution_count": 2,
   "metadata": {},
   "outputs": [
    {
     "data": {
      "text/plain": [
       "['Config.conf']"
      ]
     },
     "execution_count": 2,
     "metadata": {},
     "output_type": "execute_result"
    }
   ],
   "source": [
    "import configparser\n",
    "Config = configparser.ConfigParser()\n",
    "Config.read(\"Config.conf\")"
   ]
  },
  {
   "cell_type": "code",
   "execution_count": 3,
   "metadata": {},
   "outputs": [],
   "source": [
    "def ConfigSectionMap(section):\n",
    "    dict1 = {}\n",
    "    options = Config.options(section)\n",
    "    for option in options:\n",
    "        try:\n",
    "            dict1[option] = Config.get(section, option)\n",
    "            if dict1[option] == -1:\n",
    "                DebugPrint(\"skip: %s\" % option)\n",
    "        except:\n",
    "            print(\"exception on %s!\" % option)\n",
    "            dict1[option] = None\n",
    "    return dict1"
   ]
  },
  {
   "cell_type": "markdown",
   "metadata": {},
   "source": [
    "# RESULTADOS"
   ]
  },
  {
   "cell_type": "markdown",
   "metadata": {},
   "source": [
    "## Unimos los resultados por cada mccg"
   ]
  },
  {
   "cell_type": "markdown",
   "metadata": {},
   "source": [
    "Juntamos los datos originales con sus etiquetas de cluster individuale y cluster colectivo correspondientes.\n",
    "\n",
    "<div>Utulizamos solo 2 variables para el ahorro de memoria. </div>"
   ]
  },
  {
   "cell_type": "code",
   "execution_count": 4,
   "metadata": {
    "scrolled": true
   },
   "outputs": [],
   "source": [
    "# choosen files\n",
    "\n",
    "footprint = ConfigSectionMap(\"f2\")['footprints']\n",
    "individual_clusters = ConfigSectionMap(\"f3\")['ic_cluster']\n",
    "individual_labels = ConfigSectionMap(\"f3\")['ic_label'] \n",
    "collective_clusters = ConfigSectionMap(\"f3\")['cc_cluster']\n",
    "collective_labels = ConfigSectionMap(\"f3\")['cc_label'] \n",
    "                                                     "
   ]
  },
  {
   "cell_type": "code",
   "execution_count": 5,
   "metadata": {},
   "outputs": [],
   "source": [
    "# read file collective_labels\n",
    "b = pd.read_csv(collective_labels, sep=\";\", header=0, index_col=False, low_memory=False)[['CO_ID', 'INDIVIDUAL_CLUSTER', 'COLLECTIVE_CLUSTER']] \n",
    "# read file individual_labels\n",
    "a = pd.read_csv(individual_labels, sep=\";\", header=0, index_col=False, dtype={'WEEK': str,'YEAR': str}, low_memory=False)[['CO_ID', 'YEAR', 'WEEK', 'INDIVIDUAL_CLUSTER']]"
   ]
  },
  {
   "cell_type": "code",
   "execution_count": 6,
   "metadata": {},
   "outputs": [],
   "source": [
    "b = pd.merge(a, b, on=['CO_ID', 'INDIVIDUAL_CLUSTER'])\n",
    "del(a)"
   ]
  },
  {
   "cell_type": "code",
   "execution_count": 7,
   "metadata": {
    "scrolled": false
   },
   "outputs": [],
   "source": [
    "a = pd.read_csv(footprint, sep=\",\", header=0, dtype={'YEAR': str,'WEEK': str}, low_memory=False)   ## read file"
   ]
  },
  {
   "cell_type": "code",
   "execution_count": 8,
   "metadata": {},
   "outputs": [],
   "source": [
    "a = pd.merge(a, b, on=['CO_ID','YEAR', 'WEEK'])\n",
    "del(b)"
   ]
  },
  {
   "cell_type": "code",
   "execution_count": 9,
   "metadata": {},
   "outputs": [
    {
     "data": {
      "text/plain": [
       "616"
      ]
     },
     "execution_count": 9,
     "metadata": {},
     "output_type": "execute_result"
    }
   ],
   "source": [
    "len(a)"
   ]
  },
  {
   "cell_type": "code",
   "execution_count": 10,
   "metadata": {},
   "outputs": [
    {
     "name": "stdout",
     "output_type": "stream",
     "text": [
      "Done\n"
     ]
    }
   ],
   "source": [
    "path_res = ConfigSectionMap(\"f4\")['union']\n",
    "a.to_csv(path_res,index=False)\n",
    "del a\n",
    "print('Done')"
   ]
  },
  {
   "cell_type": "code",
   "execution_count": null,
   "metadata": {},
   "outputs": [],
   "source": []
  }
 ],
 "metadata": {
  "kernelspec": {
   "display_name": "Python 3",
   "language": "python",
   "name": "python3"
  },
  "language_info": {
   "codemirror_mode": {
    "name": "ipython",
    "version": 3
   },
   "file_extension": ".py",
   "mimetype": "text/x-python",
   "name": "python",
   "nbconvert_exporter": "python",
   "pygments_lexer": "ipython3",
   "version": "3.6.5"
  },
  "toc": {
   "base_numbering": 1,
   "nav_menu": {},
   "number_sections": false,
   "sideBar": true,
   "skip_h1_title": false,
   "title_cell": "Table of Contents",
   "title_sidebar": "Contents",
   "toc_cell": false,
   "toc_position": {
    "height": "calc(100% - 180px)",
    "left": "10px",
    "top": "150px",
    "width": "280px"
   },
   "toc_section_display": true,
   "toc_window_display": true
  }
 },
 "nbformat": 4,
 "nbformat_minor": 2
}
