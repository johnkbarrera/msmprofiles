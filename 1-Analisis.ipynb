{
 "cells": [
  {
   "cell_type": "markdown",
   "metadata": {},
   "source": [
    "# Analisis"
   ]
  },
  {
   "cell_type": "code",
   "execution_count": 1,
   "metadata": {},
   "outputs": [],
   "source": [
    "import numpy as np\n",
    "\n",
    "import matplotlib\n",
    "matplotlib.use('Agg')\n",
    "import pylab as plt\n",
    "import datetime\n",
    "import pandas as pd\n",
    "from matplotlib.ticker import FormatStrFormatter"
   ]
  },
  {
   "cell_type": "code",
   "execution_count": 2,
   "metadata": {},
   "outputs": [],
   "source": [
    "path = \"../data\"   #Path server \n",
    "#path = \"./data\" \n",
    "\n",
    "p_header=\"%s/header.txt\" %(path)\n",
    "p_data=\"%s/mobile_consume.csv\" %(path)"
   ]
  },
  {
   "cell_type": "code",
   "execution_count": 3,
   "metadata": {
    "scrolled": true
   },
   "outputs": [
    {
     "name": "stdout",
     "output_type": "stream",
     "text": [
      "Loaded Data\n"
     ]
    }
   ],
   "source": [
    "header = pd.read_csv(p_header)\n",
    "data = pd.read_csv(p_data , header = None)\n",
    "data.columns = list(header)\n",
    "print(\"Loaded Data\")"
   ]
  },
  {
   "cell_type": "code",
   "execution_count": 4,
   "metadata": {
    "scrolled": false
   },
   "outputs": [],
   "source": [
    "#data.head()"
   ]
  },
  {
   "cell_type": "code",
   "execution_count": 5,
   "metadata": {},
   "outputs": [],
   "source": [
    "data[\"BILLCYCLE\"] = data[\"BILLCYCLE\"].fillna(9)"
   ]
  },
  {
   "cell_type": "code",
   "execution_count": 6,
   "metadata": {},
   "outputs": [
    {
     "name": "stdout",
     "output_type": "stream",
     "text": [
      "Ploting...\n"
     ]
    }
   ],
   "source": [
    "data['F_TRAFICO'] = pd.to_datetime(data['F_TRAFICO'])\n",
    "data['WEEK_DAY'] = data['F_TRAFICO'].dt.dayofweek\n",
    "print(\"Ploting...\")"
   ]
  },
  {
   "cell_type": "code",
   "execution_count": 7,
   "metadata": {
    "scrolled": true
   },
   "outputs": [
    {
     "name": "stdout",
     "output_type": "stream",
     "text": [
      "Finalizado\n"
     ]
    }
   ],
   "source": [
    "fig, axes = plt.subplots(1, 4, figsize=(14,2), sharex='col')\n",
    "ax1, ax2, ax3, ax4 = axes.flatten()\n",
    "plt.subplots_adjust(top=1, bottom=0.08, left=0.10, right=0.95, hspace=0.55, wspace=0.55)\n",
    "\n",
    "y = data.groupby(['CO_ID']).count()      # Us por cliente\n",
    "y = y[\"BILLCYCLE\"].tolist()\n",
    "mu = np.mean(y)\n",
    "median = np.median(y)\n",
    "sigma = np.var(y)\n",
    "text = '$\\mu=%.2f$\\n$\\mathrm{median}=%.2f$\\n$\\sigma=%.2f$' % (mu, median, sigma)\n",
    "ax1.hist(y,10)\n",
    "ax1.set_title('Sesiones por Cliente')\n",
    "ax1.set_xlabel('Sessions')\n",
    "ax1.set_ylabel('N° de Clientes')\n",
    "ax1.text(0.15, 0.85, text, transform=ax1.transAxes, fontsize=10, verticalalignment='top')\n",
    "\n",
    "tag =[' ','Madrugada','Mañana','Tarde','Noche']  \n",
    "y = data.groupby(['HORA']).sum()['GB_TOTAL']\n",
    "x = y.index\n",
    "y = y.values\n",
    "ax2.bar(x,y,0.7,color='green')\n",
    "ax2.set_xticklabels(data['HORA'].unique())\n",
    "ax2.set_xticklabels(tag, rotation=70)\n",
    "ax2.set_title('Consumo por Turnos')\n",
    "ax2.set_xlabel('Horas')\n",
    "ax2.set_ylabel('GBs')\n",
    "\n",
    "y = data.groupby(['WEEK_DAY']).sum()['GB_TOTAL']\n",
    "tag =['Mon','Tue','Wed','Thu','Fri','Sat','Sun']  \n",
    "ax3.bar(y.index,y.values,0.7,color='Orange')\n",
    "ax3.plot(y.index,y.values,'-',color='#ff0000')\n",
    "ax3.plot(y.index,y.values,'ob',color='#990000')\n",
    "ax3.set_title('Consumo Mobil por Dia')\n",
    "ax3.set_xlabel('Dias')\n",
    "ax3.set_ylabel('GBs')\n",
    "\n",
    "y = data.groupby(['BILLCYCLE']).sum()['GB_TOTAL']\n",
    "ax4.set_xticklabels(x, rotation=45)\n",
    "ax4.bar(y.index,y.values,color='Red')\n",
    "ax4.set_title('Consumo Mobil por Billcycle')\n",
    "ax4.set_xlabel('Billcycle')\n",
    "ax4.set_ylabel('GBs')\n",
    "\n",
    "plt.savefig(\"./resultados/Analisis.png\",dpi = 1000)\n",
    "print(\"Finalizado\")"
   ]
  },
  {
   "cell_type": "code",
   "execution_count": null,
   "metadata": {},
   "outputs": [],
   "source": []
  },
  {
   "cell_type": "code",
   "execution_count": null,
   "metadata": {},
   "outputs": [],
   "source": []
  }
 ],
 "metadata": {
  "kernelspec": {
   "display_name": "Python 3",
   "language": "python",
   "name": "python3"
  },
  "language_info": {
   "codemirror_mode": {
    "name": "ipython",
    "version": 3
   },
   "file_extension": ".py",
   "mimetype": "text/x-python",
   "name": "python",
   "nbconvert_exporter": "python",
   "pygments_lexer": "ipython3",
   "version": "3.6.5"
  },
  "toc": {
   "base_numbering": 1,
   "nav_menu": {},
   "number_sections": true,
   "sideBar": true,
   "skip_h1_title": false,
   "title_cell": "Table of Contents",
   "title_sidebar": "Contents",
   "toc_cell": false,
   "toc_position": {},
   "toc_section_display": true,
   "toc_window_display": true
  }
 },
 "nbformat": 4,
 "nbformat_minor": 2
}
