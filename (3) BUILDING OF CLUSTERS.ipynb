{
 "cells": [
  {
   "cell_type": "markdown",
   "metadata": {},
   "source": [
    "# CLUSTERS"
   ]
  },
  {
   "cell_type": "code",
   "execution_count": 2,
   "metadata": {},
   "outputs": [],
   "source": [
    "import numpy as np\n",
    "import json\n",
    "import pylab\n",
    "import pandas as pd\n",
    "import matplotlib.pyplot as plt\n",
    "import os, sys"
   ]
  },
  {
   "cell_type": "markdown",
   "metadata": {},
   "source": [
    "## Cargando datos"
   ]
  },
  {
   "cell_type": "markdown",
   "metadata": {},
   "source": [
    "### Definimos los MCCG de la data"
   ]
  },
  {
   "cell_type": "code",
   "execution_count": 3,
   "metadata": {},
   "outputs": [
    {
     "data": {
      "text/plain": [
       "array([ 2,  3,  4,  5,  6,  8,  9, 10, 11, 12, 13, 14, 15, 16, 17, 18, 19,\n",
       "       21, 22, 23, 25, 26, 27, 28])"
      ]
     },
     "execution_count": 3,
     "metadata": {},
     "output_type": "execute_result"
    }
   ],
   "source": [
    "# cargamos los datos iniciales para obtener la lista de mccgs\n",
    "data_original = pd.read_csv('./SOURCES/data.csv')\n",
    "mccgs = data_original.groupby(['mccg']).min().index.values # Obtenemos lista de mccgs\n",
    "del data_original\n",
    "mccgs"
   ]
  },
  {
   "cell_type": "markdown",
   "metadata": {},
   "source": [
    "Creamos parte de la cabecera que es dinamica de acuerdo al número de mccgs"
   ]
  },
  {
   "cell_type": "code",
   "execution_count": 4,
   "metadata": {},
   "outputs": [],
   "source": [
    "title = ''\n",
    "for i in range(len(mccgs)):\n",
    "    for j in range(4):            # numero de turnos\n",
    "        for k in range(7):            # numero de dias\n",
    "            title = title+';'+'m'+str(mccgs[i])+'t'+str(j)+'d'+str(k)\n",
    "title = title+'\\n'"
   ]
  },
  {
   "cell_type": "markdown",
   "metadata": {},
   "source": [
    "## Funciones de Apoyo (clusters)"
   ]
  },
  {
   "cell_type": "markdown",
   "metadata": {},
   "source": [
    "**process_footprint**: guarda en una lista los resultados de **bench_k_means** de cada K y recibe como parametros:\n",
    "1. **data**: los datos que seran clusterizados\n",
    "2. **tests**: ingresamos el rango de los posibles K, en este caso tomamos: **{1,2,3,...,len(data)}**\n",
    "3. **log**: True para imprimir el momento actual y el k que estamos procesando\n",
    "\n",
    "\n",
    "Para cada cliente que tiene  S'=< U(1),U(2),...,U(m)>  con m<=n\n",
    "\n",
    "Entrada      Entrada S'\n",
    "             Salida F = {f1,f2,...,fo}    con o<=m\n",
    "\n",
    "**Procesamos los footprints (U)**\n",
    "\n",
    "    para i de 1 a u-longitud         \n",
    "    Usando \"MiniBatchKMeans\" obtenemos la inercia\n",
    "        k = [1,2,3,...,u-longitud]\n",
    "        inercia = [?,?,?,...,?]\n",
    "   **salida: s1:{k,inercia}**\n",
    "  \n",
    " <br>\n",
    "  \n",
    "**MiniBatchKMeans**"
   ]
  },
  {
   "cell_type": "code",
   "execution_count": 5,
   "metadata": {},
   "outputs": [],
   "source": [
    "def process_footprint(data,tests,log=False):\n",
    "    from sklearn.cluster import MiniBatchKMeans\n",
    "    #KMeans(init='k-means++', n_clusters=k, n_init=10)\n",
    "    import datetime\n",
    "    K={}  #  Creamos una lista vacia\n",
    "    # Probamos para cada K\n",
    "    for k in tests:\n",
    "        if k<=len(data):\n",
    "            if log:\n",
    "                print(\"%s: processing %s\"%(datetime.datetime.now(),k))\n",
    "            \n",
    "            # Cargamos en K(indice k) = los resultados de \"MiniBatchKMeans\"\n",
    "            K[k]=bench_k_means(MiniBatchKMeans(init='k-means++', n_clusters=k, batch_size=100,\n",
    "                      n_init=10, max_no_improvement=10, verbose=0,\n",
    "                      random_state=0),name=\"k-means++\", data=data)\n",
    "            \n",
    "    return K"
   ]
  },
  {
   "cell_type": "markdown",
   "metadata": {},
   "source": [
    "\n",
    "\n",
    "\n",
    "\n",
    "**bench_k_means** recibe como entrada el modelo **MiniBatchKMeans**\n",
    "<div>Obtenemos:</div>\n",
    "1. inercia: suma de las distancias al cuadrado de cada objeto del Cluster a su centroide.\n",
    "2. duracion\n",
    "3. estimador\n",
    "\n"
   ]
  },
  {
   "cell_type": "code",
   "execution_count": 6,
   "metadata": {},
   "outputs": [],
   "source": [
    "def bench_k_means(estimator, name, data,distance_function=None):\n",
    "    from sklearn import metrics\n",
    "    from sklearn.metrics import silhouette_samples, silhouette_score\n",
    "    import time\n",
    "    t0 = time.time()\n",
    "    if distance_function:\n",
    "        estimator.fit(data,distance_function)\n",
    "    else:\n",
    "        estimator.fit(data)\n",
    "    #cluster_labels = estimator.fit_predict(data)\n",
    "    #silhouette_score_ = silhouette_score(data, cluster_labels)\n",
    "    \n",
    "    inertia=estimator.inertia_\n",
    "    duration=time.time() - t0\n",
    "    return {'inertia':inertia,'duration':duration, 'estimator':estimator}#,'silhouette':silhouette_score_}"
   ]
  },
  {
   "cell_type": "markdown",
   "metadata": {},
   "source": [
    "Mejor k    **compute_best_k** recibe como parametros:\n",
    "1. **x**: los datos que seran clusterizados\n",
    "2. **y**: inercias\n",
    "3. **occurrencies**: numero de elementos, posibles Ks\n",
    "3. **plot**: True para plotear SSE's elbow graph \n",
    "3. **points**: numero de puntos a interpólar\n",
    "3. **sf**:  factor used to smooth\n",
    "\n",
    "\n",
    "\n",
    "    Generamos 1000 puntos con el comportamiento de s1 con la funcion \"UnivariateSpline\"\n",
    "Donde: tenemos 'k,inercia'\n",
    "\n",
    "    salida: s_final = get_change_point(k',inercia')           # MEJOR K\n",
    "         "
   ]
  },
  {
   "cell_type": "code",
   "execution_count": 7,
   "metadata": {},
   "outputs": [],
   "source": [
    "def compute_best_k(x,y,occurrencies, plot=False,points=1000,sf=0.9):\n",
    "    import numpy as np\n",
    "    \n",
    "    if len(x)<5:\n",
    "        b_k = max(1, round(np.sqrt(occurrencies/2)))\n",
    "        if plot:\n",
    "            import pylab\n",
    "            pylab.plot(x,y)\n",
    "            pylab.scatter(x[b_k],y[b_k],s=20, marker='o')\n",
    "            pylab.text(x[b_k],y[b_k],\"bestK %s\" %(b_k))\n",
    "            return b_k,pylab\n",
    "\n",
    "        return b_k\n",
    "    \n",
    "    from scipy.interpolate import interp1d\n",
    "    from scipy.interpolate import UnivariateSpline\n",
    "    spl = UnivariateSpline(x, y)\n",
    "    spl.set_smoothing_factor(sf)\n",
    "    xs = np.linspace(min(x), max(x), points)\n",
    "    ys = spl(xs)\n",
    "    idx_better_k=get_change_point(xs, ys)\n",
    "    if plot:\n",
    "        import pylab\n",
    "        pylab.plot(xs,ys)\n",
    "        \n",
    "        pylab.scatter(xs[idx_better_k],ys[idx_better_k],s=20, marker='o')\n",
    "        pylab.text(xs[idx_better_k],ys[idx_better_k],\"bestK %s\" %(np.round(xs[idx_better_k])))\n",
    "        return int(np.round(xs[idx_better_k])),pylab\n",
    "    return int(np.round(xs[idx_better_k]))"
   ]
  },
  {
   "cell_type": "markdown",
   "metadata": {},
   "source": [
    "Definimos **get_change_point**: \n",
    "<div>Busca encontrar el punto ideal en los datos ingresados.</div>\n",
    " \n",
    "**get_change_point**\n",
    "\n",
    "    Entrada: x,y (vector)                                         # indice y valor de los puntos interpolados\n",
    "    PARA i de o a length(x ó y)\n",
    "        C = closest_point_on_segment(A={xo,yo}, B={xf,yf}, X={xi,yi})    # salida C = {c1, c2}\n",
    "        d = raiz_2[ (c1-xi)^2 + (c2-yi)^2 ]\n",
    "        SI d > max_d\n",
    "            max_d = d\n",
    "            index = 1\n",
    "        FIN\n",
    "    FIN\n",
    "    Salida: index\n",
    "FIN \n"
   ]
  },
  {
   "cell_type": "code",
   "execution_count": 8,
   "metadata": {},
   "outputs": [],
   "source": [
    "def get_change_point(x, y):\n",
    "    \"\"\"\n",
    "         Elección del mejor K\n",
    "         :: param x: lista de valores de K\n",
    "         :: param y: lista de valores de SSE\n",
    "    \"\"\"\n",
    "    import math\n",
    "    max_d = -float('infinity')\n",
    "    index = 0\n",
    "\n",
    "    for i in range(0, len(x)):\n",
    "        c = closest_point_on_segment(a=[x[0], y[0]], b=[x[len(x)-1], y[len(y)-1]], p=[x[i], y[i]])\n",
    "        d = math.sqrt((c[0]-x[i])**2 + (c[1]-y[i])**2)\n",
    "        if d > max_d:\n",
    "            max_d = d\n",
    "            index = i\n",
    "    \n",
    "    return index"
   ]
  },
  {
   "cell_type": "markdown",
   "metadata": {},
   "source": [
    "definimos **closest_point_on_segment**\n",
    "<div>Retorna el </div>\n",
    "\n",
    "**closest_point_on_segment**\n",
    "\n",
    "    Entrada: A={xo,yo}, B={xf,yf}, X={xi,yi} (listas)    # el primer, ultimo e i-esimo punto interpolado\n",
    "    delta_x = xf - xo\n",
    "    delta_y = yf - yo\n",
    "    \n",
    "    SI delta_x y delta_y == 0\n",
    "        Salida = X\n",
    "    FIN\n",
    "    \n",
    "    U = [(xi-x0) * delta_y] + [(yi-yo) * delta_x]  \n",
    "        / ( delta_x ^ 2 + delta_y ^ 2 )\n",
    "    \n",
    "    SI U < 0\n",
    "        Salida = A      \n",
    "    SINO_SI U > 1\n",
    "        Salida = B      \n",
    "    SINO\n",
    "        cp_x = xo + u * delta_x\n",
    "        cp_y = yo + u * delta_y\n",
    "        Salida = { cp_x , cp_y }\n",
    "    FIN\n",
    "FIN   "
   ]
  },
  {
   "cell_type": "code",
   "execution_count": 9,
   "metadata": {},
   "outputs": [],
   "source": [
    "def closest_point_on_segment(a, b, p):\n",
    "    sx1 = a[0]\n",
    "    sx2 = b[0]\n",
    "    sy1 = a[1]\n",
    "    sy2 = b[1]\n",
    "    px = p[0]\n",
    "    py = p[1]\n",
    "\n",
    "    x_delta = sx2 - sx1\n",
    "    y_delta = sy2 - sy1\n",
    "\n",
    "    if x_delta == 0 and y_delta == 0:\n",
    "        return p\n",
    "\n",
    "    u = ((px - sx1) * x_delta + (py - sy1) * y_delta) / (x_delta * x_delta + y_delta *  y_delta)\n",
    "    if u < 0:\n",
    "        closest_point = a\n",
    "    elif u > 1:\n",
    "        closest_point = b\n",
    "    else:\n",
    "        cp_x = sx1 + u * x_delta\n",
    "        cp_y = sy1 + u * y_delta\n",
    "        closest_point = [cp_x, cp_y]\n",
    "\n",
    "    return closest_point\n",
    "\t"
   ]
  },
  {
   "cell_type": "markdown",
   "metadata": {},
   "source": [
    "# Clusters Individuales (f)"
   ]
  },
  {
   "cell_type": "markdown",
   "metadata": {},
   "source": [
    "Para cada cliente que tiene  S'=< U(1),U(2),...,U(m)>     con m<=n\n",
    "\n",
    "Entrada      \n",
    "1. Entrada S'\n",
    "2. Salida F = {f1,f2,...,fo}    con o<=m      \n",
    "            "
   ]
  },
  {
   "cell_type": "markdown",
   "metadata": {},
   "source": [
    "**process_data** \n",
    "\n",
    "    Entrada: datos a clusterizar\n",
    "        obtienen la lista de Ks y su inercia\n",
    "        selecciona el mejor k\n",
    "    Salida: centroides y etiquetas"
   ]
  },
  {
   "cell_type": "code",
   "execution_count": 9,
   "metadata": {},
   "outputs": [],
   "source": [
    "def process_data(to_cluster):\n",
    "    K=process_footprint(to_cluster,np.arange(1,len(to_cluster)+1))\n",
    "    \n",
    "    # Choose k\n",
    "    x=list(K.keys())\n",
    "    y=[K[k]['inertia'] for k in K]\n",
    "    best_k=compute_best_k(x,y,len(to_cluster))\n",
    "    \n",
    "    #print(str(contador)+' => clustering: '+str(clientes[n_cliente])+' len data: '+str(len(data))+\" best k: \"+str(best_k))\n",
    "\n",
    "    # clustering\n",
    "    if best_k==1:\n",
    "        #to few records\n",
    "        cluster_centers = [np.average(to_cluster,axis=0)]\n",
    "        labels = [0]*len(to_cluster)  \n",
    "    else:\n",
    "        cluster_centers = K[best_k]['estimator'].cluster_centers_\n",
    "        labels = K[best_k]['estimator'].labels_\n",
    "\n",
    "    return cluster_centers,labels\n"
   ]
  },
  {
   "cell_type": "code",
   "execution_count": 10,
   "metadata": {},
   "outputs": [
    {
     "name": "stderr",
     "output_type": "stream",
     "text": [
      "/home/jkn/anaconda3/lib/python3.6/site-packages/scipy/interpolate/fitpack2.py:226: UserWarning: \n",
      "The maximal number of iterations maxit (set to 20 by the program)\n",
      "allowed for finding a smoothing spline with fp=s has been reached: s\n",
      "too small.\n",
      "There is an approximation returned but the corresponding weighted sum\n",
      "of squared residuals does not satisfy the condition abs(fp-s)/s < tol.\n",
      "  warnings.warn(message)\n"
     ]
    },
    {
     "name": "stdout",
     "output_type": "stream",
     "text": [
      "Done\n"
     ]
    }
   ],
   "source": [
    "file='./RESULTADOS/U' \n",
    "footprint=\"%s.footprint\" %(file)\n",
    "individual_clusters=\"%s.individual_footprint.clusters\" %(file)\n",
    "individual_labels=\"%s.individual_footprint.labels\" %(file)   \n",
    "\n",
    "# Extraemos la lista de clientes sin repetir\n",
    "data_temp = pd.read_csv(footprint)\n",
    "clientes =  data_temp.groupby('customer_id').customer_id.count().index\n",
    "    \n",
    "# Numero de filas del archivo\n",
    "f=open(footprint)\n",
    "num_rows = len(f.readlines())-1\n",
    "f.close()\n",
    "\n",
    "f=open(footprint)\n",
    "fw=open(individual_clusters,'w')        # File de Centroides\n",
    "fw2=open(individual_labels,'w')         # File de Labels\n",
    "fw.write('customer_tag;individual_cluster'+title)                # Escribimos la cabecera (Centroides)\n",
    "fw2.write('customer_tag;year;week;individual_cluster'+title)     # Escribimos la cabecera (Labels)\n",
    "f.readline()        # Saltamos la primera fila (cabecera)\n",
    "\n",
    "footprints_clustered=0 ##\n",
    "footprints_clusters=0  ##\n",
    "\n",
    "n_cliente=0           # Indica el nuemro del cliente que estamos reccoriendo\n",
    "contador = 0          # Indica en número de registro en el que estamos\n",
    "data=[]             # buffer vacio\n",
    "\n",
    "# Reading individual footprint (line to line)\n",
    "for row in f:\n",
    "    row=row.strip().split(',') # leemos cada elemento de la linea parseada por \",\"\n",
    "    uid=row[0]\n",
    "    year=row[1]\n",
    "    week=row[2]\n",
    "    size=float(row[6])\n",
    "    profile=np.array([float(el) for el in row[7:]])  # Lo que deberiamos ingresar al modelos para clusterizar,(el cubo)\n",
    "    \n",
    "    \n",
    "    # Individual clustering\n",
    "    if uid==clientes[n_cliente]: # Para cada fila donde los \"uid\" son iguales \n",
    "        data.append(((uid,year,week),profile))     # Añadimos a buffer \"data\"\n",
    "        contador+=1                                # El número de filas leídas se incrementa en 1\n",
    "        \n",
    "    else: #final de cliente\n",
    "        #---------------------------------------------------------------------\n",
    "        # procesar data\n",
    "        #---------------------------------------------------------------------\n",
    "        to_cluster=[el[1] for el in data]\n",
    "        temporal= process_data(to_cluster) # procesamos la data para obtener los centroides y labels\n",
    "        cluster_centers_=temporal[0]\n",
    "        labels_=temporal[1]\n",
    "\n",
    "        #export individual centroids\n",
    "        for i in np.arange(len(cluster_centers_)):\n",
    "            string=\"%s;%s;%s\\n\"%(clientes[n_cliente],i\n",
    "                                 ,';'.join([str(el) for el in cluster_centers_[i]])) #uid,cluster_id,centroid\n",
    "            fw.write(string)\n",
    "            footprints_clusters+=1\n",
    "        fw.flush()\n",
    "\n",
    "        #export original data and labels\n",
    "        for i in np.arange(len(data)):\n",
    "            uid2=data[i][0]\n",
    "            profile2=data[i][1]\n",
    "            label2=labels_[i]\n",
    "            string=\"%s;%s;%s;%s;%s\\n\" %(uid2[0],uid2[1],uid2[2],label2\n",
    "                                        ,';'.join([str(el) for el in profile2]))#uid,year,week,cluster_id,profile\n",
    "            fw2.write(string)\n",
    "            footprints_clustered+=1\n",
    "        fw2.flush()\n",
    "        #---------------------------------------------------------------------\n",
    "        #---------------------------------------------------------------------\n",
    "\n",
    "\n",
    "\n",
    "        data=[] # buffer se vacia e inicia para un nuevo cliente\n",
    "        data.append(((uid,year,week),profile))      # Añadimos a buffer \"data\" del nuevo cliente\n",
    "        contador+=1                                 # El número de filas leídas se incrementa en 1\n",
    "        n_cliente+=1                                # El índice de cliente se incrementa en 1\n",
    "\n",
    "    if contador == num_rows:        # Para el ultimo cliente y ultima fila\n",
    "        #---------------------------------------------------------------------\n",
    "        # procesar data\n",
    "        #---------------------------------------------------------------------\n",
    "        to_cluster=[el[1] for el in data]\n",
    "        temporal= process_data(to_cluster)  # procesamos la data para obtener los centroides y labels\n",
    "        cluster_centers_=temporal[0]\n",
    "        labels_=temporal[1]\n",
    "\n",
    "        #export individual centroids\n",
    "        for i in np.arange(len(cluster_centers_)):\n",
    "            string=\"%s;%s;%s\\n\"%(uid,i,';'.join([str(el) for el in cluster_centers_[i]])) #uid,cluster_id,centroid\n",
    "            fw.write(string)\n",
    "            footprints_clusters+=1\n",
    "        fw.flush()\n",
    "\n",
    "        #export original data and labels\n",
    "        for i in np.arange(len(data)):\n",
    "            uid2=data[i][0]\n",
    "            profile2=data[i][1]\n",
    "            label2=labels_[i]\n",
    "            string=\"%s;%s;%s;%s;%s\\n\" %(uid2[0],uid2[1],uid2[2],label2\n",
    "                                                        ,';'.join([str(el) for el in profile2]))#uid,year,week,cluster_id,profile\n",
    "            fw2.write(string)\n",
    "            footprints_clustered+=1\n",
    "        fw2.flush()\n",
    "        #---------------------------------------------------------------------\n",
    "        #---------------------------------------------------------------------\n",
    "\n",
    "fw.close()\n",
    "fw2.close() \n",
    "print('Done')            \n",
    "    "
   ]
  },
  {
   "cell_type": "markdown",
   "metadata": {},
   "source": [
    "# Clusters Colectivos (g)"
   ]
  },
  {
   "cell_type": "code",
   "execution_count": 10,
   "metadata": {},
   "outputs": [
    {
     "name": "stdout",
     "output_type": "stream",
     "text": [
      "2018-09-21 14:20:16.805977: processing 1\n",
      "2018-09-21 14:20:18.721990: processing 2\n",
      "2018-09-21 14:20:20.383861: processing 3\n",
      "2018-09-21 14:20:22.112428: processing 4\n",
      "2018-09-21 14:20:23.749828: processing 5\n",
      "2018-09-21 14:20:25.445711: processing 6\n",
      "2018-09-21 14:20:27.116502: processing 7\n",
      "2018-09-21 14:20:28.794074: processing 8\n",
      "2018-09-21 14:20:30.613260: processing 9\n",
      "2018-09-21 14:20:32.368751: processing 10\n",
      "2018-09-21 14:20:34.265356: processing 11\n",
      "2018-09-21 14:20:36.188570: processing 12\n",
      "2018-09-21 14:20:38.148084: processing 13\n",
      "2018-09-21 14:20:39.954272: processing 14\n",
      "2018-09-21 14:20:41.878180: processing 15\n",
      "2018-09-21 14:20:43.784354: processing 16\n",
      "2018-09-21 14:20:45.685187: processing 17\n",
      "2018-09-21 14:20:47.895654: processing 18\n",
      "2018-09-21 14:20:50.134074: processing 19\n",
      "2018-09-21 14:20:52.084494: processing 20\n",
      "2018-09-21 14:20:54.147620: processing 21\n",
      "2018-09-21 14:20:56.468665: processing 22\n",
      "2018-09-21 14:20:58.616769: processing 23\n",
      "2018-09-21 14:21:00.859893: processing 24\n",
      "2018-09-21 14:21:03.237911: processing 25\n",
      "2018-09-21 14:21:05.637226: processing 26\n",
      "2018-09-21 14:21:08.313469: processing 27\n",
      "2018-09-21 14:21:11.034542: processing 28\n",
      "2018-09-21 14:21:13.525296: processing 29\n",
      "2018-09-21 14:21:16.014172: processing 30\n",
      "2018-09-21 14:21:18.631742: processing 31\n",
      "2018-09-21 14:21:21.239946: processing 32\n",
      "2018-09-21 14:21:23.759060: processing 33\n",
      "2018-09-21 14:21:26.296443: processing 34\n",
      "2018-09-21 14:21:28.824416: processing 35\n",
      "2018-09-21 14:21:31.305672: processing 36\n",
      "2018-09-21 14:21:33.823157: processing 37\n",
      "2018-09-21 14:21:36.253565: processing 38\n",
      "2018-09-21 14:21:38.511873: processing 39\n",
      "2018-09-21 14:21:41.387914: processing 40\n",
      "2018-09-21 14:21:43.767237: processing 41\n",
      "2018-09-21 14:21:46.269386: processing 42\n",
      "2018-09-21 14:21:48.831946: processing 43\n",
      "2018-09-21 14:21:51.720132: processing 44\n",
      "2018-09-21 14:21:54.282169: processing 45\n",
      "2018-09-21 14:21:56.671134: processing 46\n",
      "2018-09-21 14:21:59.334532: processing 47\n",
      "2018-09-21 14:22:02.067437: processing 48\n",
      "2018-09-21 14:22:04.809575: processing 49\n",
      "2018-09-21 14:22:07.035027: processing 50\n",
      "2018-09-21 14:22:09.596722: processing 51\n",
      "2018-09-21 14:22:12.394957: processing 52\n",
      "2018-09-21 14:22:15.050536: processing 53\n",
      "2018-09-21 14:22:17.514053: processing 54\n",
      "2018-09-21 14:22:19.966123: processing 55\n",
      "2018-09-21 14:22:22.567407: processing 56\n",
      "2018-09-21 14:22:25.790133: processing 57\n",
      "2018-09-21 14:22:28.686374: processing 58\n",
      "2018-09-21 14:22:32.134842: processing 59\n",
      "2018-09-21 14:22:34.813008: processing 60\n",
      "2018-09-21 14:22:37.312625: processing 61\n",
      "2018-09-21 14:22:39.870039: processing 62\n",
      "2018-09-21 14:22:42.448688: processing 63\n",
      "2018-09-21 14:22:44.818312: processing 64\n",
      "2018-09-21 14:22:47.478422: processing 65\n",
      "2018-09-21 14:22:50.268766: processing 66\n",
      "2018-09-21 14:22:53.026595: processing 67\n",
      "2018-09-21 14:22:56.260956: processing 68\n",
      "2018-09-21 14:22:59.398380: processing 69\n",
      "2018-09-21 14:23:03.019678: processing 70\n",
      "2018-09-21 14:23:05.792049: processing 71\n",
      "2018-09-21 14:23:08.322243: processing 72\n",
      "2018-09-21 14:23:10.688527: processing 73\n",
      "2018-09-21 14:23:13.057594: processing 74\n",
      "2018-09-21 14:23:15.663011: processing 75\n",
      "2018-09-21 14:23:19.091006: processing 76\n",
      "2018-09-21 14:23:23.229202: processing 77\n",
      "2018-09-21 14:23:25.747167: processing 78\n",
      "2018-09-21 14:23:28.178608: processing 79\n",
      "2018-09-21 14:23:31.285133: processing 80\n",
      "67\n"
     ]
    },
    {
     "name": "stderr",
     "output_type": "stream",
     "text": [
      "/home/jkn/anaconda3/lib/python3.6/site-packages/scipy/interpolate/fitpack2.py:226: UserWarning: \n",
      "The maximal number of iterations maxit (set to 20 by the program)\n",
      "allowed for finding a smoothing spline with fp=s has been reached: s\n",
      "too small.\n",
      "There is an approximation returned but the corresponding weighted sum\n",
      "of squared residuals does not satisfy the condition abs(fp-s)/s < tol.\n",
      "  warnings.warn(message)\n"
     ]
    },
    {
     "data": {
      "image/png": "[encoded data removed]",
      "text/plain": [
       "<Figure size 432x288 with 1 Axes>"
      ]
     },
     "metadata": {},
     "output_type": "display_data"
    }
   ],
   "source": [
    "file='./RESULTADOS/U' \n",
    "individual_footprint=\"%s.individual_footprint\" %(file)\n",
    "individual_clusters=\"%s.clusters\" %(individual_footprint)\n",
    "collective_clusters=\"%s.collective_footprint.clusters\" %(file)\n",
    "collective_labels=\"%s.collective_footprint.labels\" %(file)\n",
    "    \n",
    "f=open(individual_clusters)   #  uid,cluster_id,profile\n",
    "f.readline()                  #  Saltamos una linea\n",
    "\n",
    "data=[]\n",
    "for row in f:\n",
    "    row=row.strip().split(';')\n",
    "    uid=row[0]\n",
    "    cluster_id=row[1]\n",
    "    individual_profile=np.array([float(el) for el in row[2:]])\n",
    "    data.append(((uid,cluster_id),individual_profile))\n",
    "\n",
    "to_cluster=[el[1] for el in data]\n",
    "    \n",
    "if len(to_cluster) >= 80:\n",
    "    tests=np.arange(1,80+1)\n",
    "else:\n",
    "    tests=np.arange(1,len(to_cluster)+1)\n",
    "# tests=list(tests)+list(np.arange(50,150,5))\n",
    "K=process_footprint(to_cluster,tests,log=True)\n",
    "# K=process_footprint(to_cluster,np.arange(1,len(to_cluster)+1),log=True)\n",
    "\n",
    "import pickle\n",
    "# pickle.dump( K, open( \"%s.models.p\" %(file), \"wb\" ) )\n",
    "    \n",
    "# Choose K for global clustering \n",
    "%matplotlib inline\n",
    "x=sorted(K.keys())\n",
    "y=[K[k]['inertia'] for k in x]\n",
    "best_k,pylab=compute_best_k(x,y,len(to_cluster),plot=True,points=500)\n",
    "\n",
    "print(best_k)\n",
    "# best_k=2 #a mano\n",
    "plt.title(\"Collective clustering\",fontsize=16)\n",
    "plt.ylabel(\"SSE\",fontsize=16)\n",
    "plt.xlabel(\"K\",fontsize=16)\n",
    "plt.tight_layout()\n",
    "plt.show()\n",
    "# pylab.savefig('%s.png' %(raw_data),dpi=200)\n",
    "\n",
    "import pandas as pd\n",
    "df_sse=pd.DataFrame([x,y]).T\n",
    "df_sse.columns=['x','y']\n",
    "#df_sse.to_csv('%s.png.sse.csv' %(raw_data),index=False)"
   ]
  },
  {
   "cell_type": "code",
   "execution_count": 11,
   "metadata": {},
   "outputs": [
    {
     "name": "stdout",
     "output_type": "stream",
     "text": [
      "Done\n"
     ]
    }
   ],
   "source": [
    " # EXPORTANDO RESULTADOS\n",
    "cluster_centers_=K[best_k]['estimator'].cluster_centers_\n",
    "labels_=K[best_k]['estimator'].labels_\n",
    "fw=open(collective_clusters,\"w\")\n",
    "fw2=open(collective_labels,\"w\")\n",
    "fw.write('collective_cluster'+title)\n",
    "fw2.write('customer_tag;individual_cluster;collective_cluster'+title)\n",
    "\n",
    "#export individual centroids\n",
    "for j in np.arange(len(cluster_centers_)):\n",
    "    string=\"%s;%s\\n\"%(j,';'.join([str(el) for el in cluster_centers_[j]])) #cluster_id,centroid\n",
    "    fw.write(string)\n",
    "fw.flush()\n",
    "\n",
    "#export original data and labels\n",
    "for j in np.arange(len(data)):\n",
    "    uid=data[j][0]\n",
    "    profile=data[j][1]\n",
    "    label=labels_[j]\n",
    "    string=\"%s;%s;%s;%s\\n\" %(uid[0],uid[1],label\n",
    "                                    ,';'.join([str(el) for el in profile]))#uid,individual_cluster_id,collective_cluster_id,profile\n",
    "    fw2.write(string)\n",
    "fw2.flush()\n",
    "\n",
    "print('Done')"
   ]
  },
  {
   "cell_type": "code",
   "execution_count": null,
   "metadata": {},
   "outputs": [],
   "source": []
  },
  {
   "cell_type": "code",
   "execution_count": null,
   "metadata": {},
   "outputs": [],
   "source": []
  }
 ],
 "metadata": {
  "kernelspec": {
   "display_name": "Python 3",
   "language": "python",
   "name": "python3"
  },
  "language_info": {
   "codemirror_mode": {
    "name": "ipython",
    "version": 3
   },
   "file_extension": ".py",
   "mimetype": "text/x-python",
   "name": "python",
   "nbconvert_exporter": "python",
   "pygments_lexer": "ipython3",
   "version": "3.6.5"
  },
  "toc": {
   "base_numbering": 1,
   "nav_menu": {},
   "number_sections": false,
   "sideBar": true,
   "skip_h1_title": false,
   "title_cell": "Table of Contents",
   "title_sidebar": "Contents",
   "toc_cell": false,
   "toc_position": {
    "height": "calc(100% - 180px)",
    "left": "10px",
    "top": "150px",
    "width": "280px"
   },
   "toc_section_display": true,
   "toc_window_display": true
  }
 },
 "nbformat": 4,
 "nbformat_minor": 2
}
