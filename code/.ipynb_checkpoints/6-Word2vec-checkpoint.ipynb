{
 "cells": [
  {
   "cell_type": "markdown",
   "metadata": {},
   "source": [
    "# Predicción de comportamientos con Word2vec"
   ]
  },
  {
   "cell_type": "markdown",
   "metadata": {},
   "source": [
    "## Importando Datos"
   ]
  },
  {
   "cell_type": "markdown",
   "metadata": {},
   "source": [
    "### Extrayendo la secuencia de Comportamientos Colectivos de los Clientes"
   ]
  },
  {
   "cell_type": "code",
   "execution_count": 1,
   "metadata": {},
   "outputs": [],
   "source": [
    "import pandas as pd\n",
    "import gensim\n",
    "from gensim import corpora, models, similarities"
   ]
  },
  {
   "cell_type": "code",
   "execution_count": 2,
   "metadata": {},
   "outputs": [],
   "source": [
    "# data = pd.read_csv(\"../resultados/mobile_consume1_results.csv\")\n",
    "data = pd.read_csv(\"../../resultados/mobile_consume1_results.csv\")"
   ]
  },
  {
   "cell_type": "code",
   "execution_count": 3,
   "metadata": {},
   "outputs": [],
   "source": [
    "# Lista de Clientes\n",
    "clientes = data.CO_ID.unique()"
   ]
  },
  {
   "cell_type": "code",
   "execution_count": 4,
   "metadata": {},
   "outputs": [],
   "source": [
    "# Lista de Periodos para la Opcion 1\n",
    "year_min = min(data.YEAR) \n",
    "year_max = max(data.YEAR) \n",
    "week_min = min(data.WEEK) \n",
    "week_max = max(data.WEEK) \n",
    "\n",
    "periodos = []\n",
    "\n",
    "if year_min == year_max:\n",
    "    year = year_min\n",
    "    for week in range(week_min,week_max+1):\n",
    "        weeks = \"\"\n",
    "        if week < 10:\n",
    "            weeks = \"0\"+str(week)\n",
    "        else:\n",
    "            weeks = str(week)\n",
    "        periodos.append(str(year)+\"-\"+weeks)\n",
    "        \n",
    "else:\n",
    "    for year in range(year_min,year_max+1):\n",
    "        if year == year_min:\n",
    "            for week in range(week_min,53):\n",
    "                \n",
    "                weeks = \"\"\n",
    "                if week < 10:\n",
    "                    weeks = \"0\"+str(week)\n",
    "                else:\n",
    "                    weeks = str(week)\n",
    "                periodos.append(str(year)+\"-\"+weeks)\n",
    "                #print(year,weeks)\n",
    "                \n",
    "        elif year == year_max:   \n",
    "            for week in range(1,week_max+1):\n",
    "                \n",
    "                weeks = \"\"\n",
    "                if week < 10:\n",
    "                    weeks = \"0\"+str(week)\n",
    "                else:\n",
    "                    weeks = str(week)\n",
    "                periodos.append(str(year)+\"-\"+weeks)\n",
    "                #print(year,weeks)\n",
    "                \n",
    "        else:    \n",
    "            for week in range(1,53):\n",
    "            \n",
    "                weeks = \"\"\n",
    "                if week < 10:\n",
    "                    weeks = \"0\"+str(week)\n",
    "                else:\n",
    "                    weeks = str(week)\n",
    "                periodos.append(str(year)+\"-\"+weeks)\n",
    "                #print(year,weeks)\n"
   ]
  },
  {
   "cell_type": "markdown",
   "metadata": {},
   "source": [
    "## Construyendo CORPUS "
   ]
  },
  {
   "cell_type": "markdown",
   "metadata": {},
   "source": [
    "### Opción 1 (considerando \"SinActividad\")"
   ]
  },
  {
   "cell_type": "code",
   "execution_count": 5,
   "metadata": {},
   "outputs": [],
   "source": [
    "# Construyendo CORPUS CON CADA TEMPORADA DE CLIENTES (considerando las temporadas vacias)\n",
    "\n",
    "comportamientos=[]\n",
    "    \n",
    "for index, cliente in enumerate(clientes):\n",
    "    lista = []\n",
    "    for index, periodo in enumerate(periodos):\n",
    "        lista.append(\"SinActividad\")\n",
    "        \n",
    "    comportamientos.append(lista)\n",
    "    "
   ]
  },
  {
   "cell_type": "code",
   "execution_count": 6,
   "metadata": {},
   "outputs": [],
   "source": [
    "lista_periodos = list(periodos)\n",
    "\n",
    "for i in range(len(data)):\n",
    "    # en la comportamiendo del cliente i\n",
    "    fila = data.loc[i,['CO_ID','YEAR','WEEK','COLLECTIVE_CLUSTER']]\n",
    "    # en el indice del cliente i_c  y del periodo i_p \n",
    "    index_c = list(clientes).index(int(fila[0]))\n",
    "    week = \"\"\n",
    "    if int(fila[2]) < 10:\n",
    "        week = \"0\" + str(int(fila[2]))\n",
    "    else:\n",
    "        week = str(int(fila[2]))\n",
    "    tem = str(int(fila[1]))+\"-\"+week\n",
    "    index_p = lista_periodos.index(tem)\n",
    "        \n",
    "    try:\n",
    "        num = \"\"\n",
    "        if int(fila[3]) < 10:\n",
    "            num = \"0\" + str(int(fila[3]))\n",
    "        else:\n",
    "            num = str(int(fila[3]))\n",
    "        \n",
    "        comportamientos[index_c][index_p] = \"cluster_\"+num\n",
    "    except Exception as e:\n",
    "        print(\"Oops!  That was no valid index.  Try again...\")\n",
    "    "
   ]
  },
  {
   "cell_type": "code",
   "execution_count": 7,
   "metadata": {},
   "outputs": [],
   "source": [
    "tok_corp = comportamientos"
   ]
  },
  {
   "cell_type": "markdown",
   "metadata": {},
   "source": [
    "### Opción 2 (sin considerar \"SinActividad\")"
   ]
  },
  {
   "cell_type": "code",
   "execution_count": 8,
   "metadata": {},
   "outputs": [],
   "source": [
    "tok_corp2 = []\n",
    "\n",
    "for cli in clientes:\n",
    "    data_i = data[(data.CO_ID == cli)]\n",
    "    lista_i = list(data_i.COLLECTIVE_CLUSTER)\n",
    "\n",
    "    for j in range(len(lista_i)):\n",
    "        dat = \"\"\n",
    "        if int(str(lista_i[j])) < 10:\n",
    "            dat = \"0\" + str(lista_i[j])\n",
    "        else:\n",
    "            dat = str(int(fila[2]))\n",
    "            \n",
    "        lista_i[j] = \"cluster_\"+dat\n",
    "    tok_corp2.append(lista_i)\n",
    "    "
   ]
  },
  {
   "cell_type": "code",
   "execution_count": 9,
   "metadata": {
    "scrolled": true
   },
   "outputs": [
    {
     "data": {
      "text/plain": [
       "['cluster_03',\n",
       " 'cluster_32',\n",
       " 'cluster_32',\n",
       " 'cluster_32',\n",
       " 'cluster_32',\n",
       " 'cluster_32',\n",
       " 'cluster_32',\n",
       " 'cluster_32',\n",
       " 'cluster_32',\n",
       " 'cluster_32',\n",
       " 'cluster_32',\n",
       " 'cluster_32']"
      ]
     },
     "execution_count": 9,
     "metadata": {},
     "output_type": "execute_result"
    }
   ],
   "source": [
    "tok_corp2[5]"
   ]
  },
  {
   "cell_type": "markdown",
   "metadata": {},
   "source": [
    "## Modelo"
   ]
  },
  {
   "cell_type": "code",
   "execution_count": 33,
   "metadata": {},
   "outputs": [],
   "source": [
    "from gensim.models import KeyedVectors"
   ]
  },
  {
   "cell_type": "code",
   "execution_count": null,
   "metadata": {},
   "outputs": [],
   "source": []
  },
  {
   "cell_type": "code",
   "execution_count": 11,
   "metadata": {},
   "outputs": [],
   "source": [
    "model = gensim.models.Word2Vec(tok_corp, min_count=1, window=5, size=7 , workers=4)"
   ]
  },
  {
   "cell_type": "code",
   "execution_count": 12,
   "metadata": {},
   "outputs": [],
   "source": [
    "model.vocabulary.max_final_vocab"
   ]
  },
  {
   "cell_type": "code",
   "execution_count": 13,
   "metadata": {},
   "outputs": [],
   "source": [
    "# Diccionario\n",
    "\n",
    "# sorted(model.wv.index2word)"
   ]
  },
  {
   "cell_type": "code",
   "execution_count": 14,
   "metadata": {
    "scrolled": true
   },
   "outputs": [
    {
     "name": "stdout",
     "output_type": "stream",
     "text": [
      "['SinActividad', 'cluster_00', 'cluster_01', 'cluster_02', 'cluster_03', 'cluster_04', 'cluster_05', 'cluster_06', 'cluster_07', 'cluster_08', 'cluster_09', 'cluster_10', 'cluster_11', 'cluster_12', 'cluster_13', 'cluster_14', 'cluster_15', 'cluster_16', 'cluster_17', 'cluster_18', 'cluster_19', 'cluster_20', 'cluster_21', 'cluster_22', 'cluster_23', 'cluster_24', 'cluster_25', 'cluster_26', 'cluster_27', 'cluster_28', 'cluster_29', 'cluster_30', 'cluster_31', 'cluster_32', 'cluster_33', 'cluster_34', 'cluster_35', 'cluster_36', 'cluster_37', 'cluster_38', 'cluster_39', 'cluster_40', 'cluster_41', 'cluster_42', 'cluster_43', 'cluster_44', 'cluster_45', 'cluster_46', 'cluster_47', 'cluster_48', 'cluster_49', 'cluster_50', 'cluster_51', 'cluster_52', 'cluster_53', 'cluster_54', 'cluster_55', 'cluster_56', 'cluster_57', 'cluster_58', 'cluster_59', 'cluster_60', 'cluster_61', 'cluster_62', 'cluster_63', 'cluster_64', 'cluster_65', 'cluster_66', 'cluster_67', 'cluster_68', 'cluster_69']\n",
      "Cantidad = 71\n"
     ]
    }
   ],
   "source": [
    "# VOCABULARIO\n",
    "\n",
    "print(sorted(list(model.wv.vocab.keys())))\n",
    "print(\"Cantidad = \"+str(len(model.wv.vocab)))"
   ]
  },
  {
   "cell_type": "markdown",
   "metadata": {},
   "source": [
    "### Resultados"
   ]
  },
  {
   "cell_type": "code",
   "execution_count": 15,
   "metadata": {
    "scrolled": true
   },
   "outputs": [
    {
     "data": {
      "text/plain": [
       "[('cluster_49', 0.021794721),\n",
       " ('cluster_25', 0.021263428),\n",
       " ('cluster_66', 0.019949611),\n",
       " ('cluster_04', 0.019614207),\n",
       " ('cluster_15', 0.019488247),\n",
       " ('cluster_33', 0.019132052),\n",
       " ('cluster_42', 0.019127838),\n",
       " ('cluster_27', 0.01908764),\n",
       " ('cluster_46', 0.019075947),\n",
       " ('cluster_47', 0.019051751)]"
      ]
     },
     "execution_count": 15,
     "metadata": {},
     "output_type": "execute_result"
    }
   ],
   "source": [
    "model.predict_output_word([\"SinActividad\",\"SinActividad\"])"
   ]
  },
  {
   "cell_type": "code",
   "execution_count": null,
   "metadata": {},
   "outputs": [],
   "source": []
  },
  {
   "cell_type": "code",
   "execution_count": null,
   "metadata": {},
   "outputs": [],
   "source": []
  },
  {
   "cell_type": "code",
   "execution_count": 16,
   "metadata": {},
   "outputs": [
    {
     "data": {
      "text/plain": [
       "(0, 5)"
      ]
     },
     "execution_count": 16,
     "metadata": {},
     "output_type": "execute_result"
    }
   ],
   "source": [
    "model.train([['hello','wordld'],['hello','hello','humf']], total_examples=1, epochs=1)"
   ]
  },
  {
   "cell_type": "code",
   "execution_count": 17,
   "metadata": {
    "scrolled": false
   },
   "outputs": [
    {
     "name": "stderr",
     "output_type": "stream",
     "text": [
      "/home/jkn/anaconda3/lib/python3.6/site-packages/ipykernel_launcher.py:1: DeprecationWarning: Call to deprecated `most_similar` (Method will be removed in 4.0.0, use self.wv.most_similar() instead).\n",
      "  \"\"\"Entry point for launching an IPython kernel.\n",
      "/home/jkn/anaconda3/lib/python3.6/site-packages/gensim/matutils.py:737: FutureWarning: Conversion of the second argument of issubdtype from `int` to `np.signedinteger` is deprecated. In future, it will be treated as `np.int64 == np.dtype(int).type`.\n",
      "  if np.issubdtype(vec.dtype, np.int):\n"
     ]
    },
    {
     "data": {
      "text/plain": [
       "[('cluster_09', 0.9636391997337341),\n",
       " ('cluster_41', 0.9567033052444458),\n",
       " ('cluster_44', 0.952129602432251),\n",
       " ('cluster_35', 0.9502036571502686),\n",
       " ('cluster_47', 0.9448263049125671),\n",
       " ('cluster_32', 0.9308363199234009),\n",
       " ('cluster_59', 0.9084036946296692),\n",
       " ('cluster_04', 0.9034002423286438),\n",
       " ('cluster_00', 0.8985491991043091),\n",
       " ('cluster_19', 0.8889477849006653)]"
      ]
     },
     "execution_count": 17,
     "metadata": {},
     "output_type": "execute_result"
    }
   ],
   "source": [
    "model.most_similar(\"cluster_27\")"
   ]
  },
  {
   "cell_type": "code",
   "execution_count": 18,
   "metadata": {},
   "outputs": [
    {
     "name": "stderr",
     "output_type": "stream",
     "text": [
      "/home/jkn/anaconda3/lib/python3.6/site-packages/ipykernel_launcher.py:1: DeprecationWarning: Call to deprecated `most_similar` (Method will be removed in 4.0.0, use self.wv.most_similar() instead).\n",
      "  \"\"\"Entry point for launching an IPython kernel.\n",
      "/home/jkn/anaconda3/lib/python3.6/site-packages/gensim/matutils.py:737: FutureWarning: Conversion of the second argument of issubdtype from `int` to `np.signedinteger` is deprecated. In future, it will be treated as `np.int64 == np.dtype(int).type`.\n",
      "  if np.issubdtype(vec.dtype, np.int):\n"
     ]
    },
    {
     "data": {
      "text/plain": [
       "[('cluster_32', 0.9930981397628784),\n",
       " ('cluster_09', 0.9743544459342957),\n",
       " ('cluster_47', 0.9700594544410706),\n",
       " ('cluster_41', 0.9656633138656616),\n",
       " ('cluster_27', 0.9502036571502686),\n",
       " ('cluster_44', 0.9472894668579102),\n",
       " ('cluster_69', 0.9378883838653564),\n",
       " ('cluster_39', 0.9317026734352112),\n",
       " ('cluster_04', 0.9312668442726135),\n",
       " ('cluster_59', 0.9311103820800781)]"
      ]
     },
     "execution_count": 18,
     "metadata": {},
     "output_type": "execute_result"
    }
   ],
   "source": [
    "model.most_similar(\"cluster_35\")"
   ]
  },
  {
   "cell_type": "code",
   "execution_count": 19,
   "metadata": {},
   "outputs": [],
   "source": [
    "import random"
   ]
  },
  {
   "cell_type": "code",
   "execution_count": 20,
   "metadata": {},
   "outputs": [],
   "source": [
    "prueba = []\n",
    "\n",
    "\"\"\"for i in range(3): \n",
    "    prueba.append(\"cluster_\"+str(random.randint(0,69))+\".0\")\n",
    "    \"\"\"\n",
    "prueba = ['cluster_29',\"cluster_00\", \"SinActividad\", \"SinActividad\"]"
   ]
  },
  {
   "cell_type": "code",
   "execution_count": 21,
   "metadata": {},
   "outputs": [
    {
     "data": {
      "text/plain": [
       "['cluster_29', 'cluster_00', 'SinActividad', 'SinActividad']"
      ]
     },
     "execution_count": 21,
     "metadata": {},
     "output_type": "execute_result"
    }
   ],
   "source": [
    "prueba"
   ]
  },
  {
   "cell_type": "code",
   "execution_count": 22,
   "metadata": {},
   "outputs": [
    {
     "data": {
      "text/plain": [
       "[('cluster_27', 0.033819754),\n",
       " ('cluster_00', 0.03133183),\n",
       " ('cluster_41', 0.030471044),\n",
       " ('cluster_04', 0.029714506),\n",
       " ('cluster_47', 0.029706858)]"
      ]
     },
     "execution_count": 22,
     "metadata": {},
     "output_type": "execute_result"
    }
   ],
   "source": [
    "# Predicion de la siguiente palabra\n",
    "\n",
    "model.predict_output_word(prueba, topn=5)"
   ]
  },
  {
   "cell_type": "code",
   "execution_count": 23,
   "metadata": {
    "scrolled": true
   },
   "outputs": [
    {
     "data": {
      "text/plain": [
       "[('cluster_27', 0.033819754),\n",
       " ('cluster_00', 0.03133183),\n",
       " ('cluster_41', 0.030471044),\n",
       " ('cluster_04', 0.029714506),\n",
       " ('cluster_47', 0.029706858),\n",
       " ('cluster_44', 0.027837915),\n",
       " ('cluster_35', 0.02639033),\n",
       " ('cluster_09', 0.024013968),\n",
       " ('cluster_69', 0.023763232),\n",
       " ('cluster_46', 0.023181709),\n",
       " ('cluster_29', 0.022694677),\n",
       " ('cluster_34', 0.022310123),\n",
       " ('cluster_33', 0.021997245),\n",
       " ('cluster_19', 0.021935444),\n",
       " ('cluster_32', 0.021859458),\n",
       " ('cluster_14', 0.021735394),\n",
       " ('cluster_51', 0.021435406),\n",
       " ('cluster_37', 0.021334266),\n",
       " ('cluster_59', 0.020906426),\n",
       " ('cluster_55', 0.020255348)]"
      ]
     },
     "execution_count": 23,
     "metadata": {},
     "output_type": "execute_result"
    }
   ],
   "source": [
    "model.predict_output_word(prueba, topn=20)"
   ]
  },
  {
   "cell_type": "code",
   "execution_count": 24,
   "metadata": {
    "scrolled": false
   },
   "outputs": [
    {
     "name": "stderr",
     "output_type": "stream",
     "text": [
      "/home/jkn/anaconda3/lib/python3.6/site-packages/ipykernel_launcher.py:3: DeprecationWarning: Call to deprecated `__getitem__` (Method will be removed in 4.0.0, use self.wv.__getitem__() instead).\n",
      "  This is separate from the ipykernel package so we can avoid doing imports until\n"
     ]
    },
    {
     "data": {
      "text/plain": [
       "array([ 1.349627  ,  1.7760633 ,  2.882443  , -2.6276634 ,  0.66805416,\n",
       "       -2.716671  , -3.1148107 ], dtype=float32)"
      ]
     },
     "execution_count": 24,
     "metadata": {},
     "output_type": "execute_result"
    }
   ],
   "source": [
    "# Modelos\n",
    "\n",
    "model[\"cluster_00\"]"
   ]
  },
  {
   "cell_type": "code",
   "execution_count": 25,
   "metadata": {},
   "outputs": [
    {
     "name": "stderr",
     "output_type": "stream",
     "text": [
      "/home/jkn/anaconda3/lib/python3.6/site-packages/ipykernel_launcher.py:1: DeprecationWarning: Call to deprecated `__getitem__` (Method will be removed in 4.0.0, use self.wv.__getitem__() instead).\n",
      "  \"\"\"Entry point for launching an IPython kernel.\n"
     ]
    },
    {
     "data": {
      "text/plain": [
       "array([ 0.20838904,  0.73789966, -0.02116717,  0.18305701,  0.05565107,\n",
       "        0.11075396, -0.87686175], dtype=float32)"
      ]
     },
     "execution_count": 25,
     "metadata": {},
     "output_type": "execute_result"
    }
   ],
   "source": [
    "model[\"SinActividad\"]"
   ]
  },
  {
   "cell_type": "code",
   "execution_count": 26,
   "metadata": {},
   "outputs": [
    {
     "name": "stderr",
     "output_type": "stream",
     "text": [
      "/home/jkn/anaconda3/lib/python3.6/site-packages/ipykernel_launcher.py:3: DeprecationWarning: Call to deprecated `most_similar` (Method will be removed in 4.0.0, use self.wv.most_similar() instead).\n",
      "  This is separate from the ipykernel package so we can avoid doing imports until\n",
      "/home/jkn/anaconda3/lib/python3.6/site-packages/gensim/matutils.py:737: FutureWarning: Conversion of the second argument of issubdtype from `int` to `np.signedinteger` is deprecated. In future, it will be treated as `np.int64 == np.dtype(int).type`.\n",
      "  if np.issubdtype(vec.dtype, np.int):\n"
     ]
    },
    {
     "data": {
      "text/plain": [
       "[('cluster_51', 0.5924944877624512),\n",
       " ('cluster_40', 0.5663644671440125),\n",
       " ('cluster_59', 0.5621618032455444),\n",
       " ('cluster_12', 0.5459011793136597),\n",
       " ('cluster_08', 0.5458507537841797),\n",
       " ('cluster_07', 0.5406271815299988),\n",
       " ('cluster_49', 0.5287001132965088),\n",
       " ('cluster_09', 0.5232423543930054),\n",
       " ('cluster_57', 0.5221646428108215),\n",
       " ('cluster_63', 0.5128747224807739)]"
      ]
     },
     "execution_count": 26,
     "metadata": {},
     "output_type": "execute_result"
    }
   ],
   "source": [
    "# Parecidos\n",
    "\n",
    "model.most_similar([\"SinActividad\"])"
   ]
  },
  {
   "cell_type": "code",
   "execution_count": 27,
   "metadata": {},
   "outputs": [
    {
     "name": "stderr",
     "output_type": "stream",
     "text": [
      "/home/jkn/anaconda3/lib/python3.6/site-packages/ipykernel_launcher.py:1: DeprecationWarning: Call to deprecated `syn1neg` (Attribute will be removed in 4.0.0, use self.trainables.syn1neg instead).\n",
      "  \"\"\"Entry point for launching an IPython kernel.\n"
     ]
    },
    {
     "data": {
      "text/plain": [
       "array([[-6.15039468e-01, -8.94409299e-01, -2.90683866e-01,\n",
       "        -3.68683606e-01, -3.51480126e-01, -4.74804729e-01,\n",
       "         7.13657677e-01],\n",
       "       [-1.07441711e+00, -1.14973962e+00, -6.51080132e-01,\n",
       "        -4.89499032e-01, -5.71514785e-01, -2.19496354e-01,\n",
       "         6.07826054e-01],\n",
       "       [-6.69174373e-01, -8.86852622e-01, -8.57328549e-02,\n",
       "        -2.17936471e-01, -1.73064470e-01, -1.81660816e-01,\n",
       "         1.13148665e+00],\n",
       "       [-5.67719340e-01, -1.48524153e+00, -2.58248538e-01,\n",
       "        -2.38022059e-01, -1.63565606e-01, -3.28897029e-01,\n",
       "         4.68497127e-01],\n",
       "       [-1.72754169e-01, -1.16660941e+00,  1.12292074e-01,\n",
       "        -6.87969148e-01, -1.76433213e-02, -8.30398023e-01,\n",
       "         1.10130274e+00],\n",
       "       [-6.23133183e-01, -8.97173047e-01,  2.71558791e-01,\n",
       "        -1.79057911e-01, -4.56858009e-01, -1.01302350e+00,\n",
       "         1.02903438e+00],\n",
       "       [-4.02135015e-01, -9.53957081e-01, -3.44399154e-01,\n",
       "        -7.16827750e-01, -6.80238426e-01, -1.70902801e+00,\n",
       "         9.25748169e-01],\n",
       "       [-5.36002159e-01, -1.07331288e+00,  3.18992645e-01,\n",
       "        -7.13250935e-01, -5.49830735e-01, -4.07153368e-03,\n",
       "         3.28179240e-01],\n",
       "       [-1.05501342e+00, -7.39826143e-01, -4.46074307e-01,\n",
       "        -6.56822100e-02,  1.66799575e-01, -6.91825569e-01,\n",
       "         2.57817090e-01],\n",
       "       [-2.04385713e-01, -9.94989753e-01, -6.50703549e-01,\n",
       "        -6.08671904e-01, -1.31088167e-01, -3.27708334e-01,\n",
       "         3.26120794e-01],\n",
       "       [-4.22056943e-01, -1.06100941e+00, -4.30106699e-01,\n",
       "         4.27277833e-02,  4.03020740e-01, -1.26302338e+00,\n",
       "         1.41881061e+00],\n",
       "       [-6.03056192e-01, -1.16417718e+00, -3.10050935e-01,\n",
       "         1.01623639e-01, -7.75493324e-01, -1.14083253e-01,\n",
       "         2.34846532e-01],\n",
       "       [-5.09962201e-01, -2.06094027e-01, -2.48762473e-01,\n",
       "        -1.07744026e+00, -3.72755587e-01, -4.70151246e-01,\n",
       "         1.13345194e+00],\n",
       "       [-3.12841862e-01, -7.59565711e-01, -6.08598113e-01,\n",
       "        -1.01941369e-01,  8.59970078e-02, -1.19764999e-01,\n",
       "         6.93909883e-01],\n",
       "       [-4.95381624e-01, -8.73063028e-01, -3.63848388e-01,\n",
       "        -2.67680269e-02,  2.03615382e-01, -7.27960914e-02,\n",
       "         6.70187056e-01],\n",
       "       [-1.10722572e-01, -5.79412460e-01, -6.06677473e-01,\n",
       "        -5.19529469e-02, -2.79144138e-01, -2.31047377e-01,\n",
       "         8.26095641e-01],\n",
       "       [-9.18203294e-01, -5.43159902e-01,  3.49026352e-01,\n",
       "        -6.88088000e-01,  3.37442368e-01, -3.07738215e-01,\n",
       "         6.88231051e-01],\n",
       "       [-2.42128953e-01, -5.66771328e-01, -1.10826425e-01,\n",
       "        -3.31452399e-01,  3.17727588e-03, -2.04443991e-01,\n",
       "         5.78570068e-01],\n",
       "       [-5.17620087e-01, -6.35187089e-01,  9.18942392e-02,\n",
       "        -4.20925558e-01,  2.06056267e-01,  3.98825575e-03,\n",
       "         4.49494720e-01],\n",
       "       [-4.44794297e-01, -8.30042243e-01, -2.85889506e-01,\n",
       "         1.43147800e-02,  2.11298078e-01, -5.85562810e-02,\n",
       "         4.44866270e-01],\n",
       "       [-5.40707767e-01, -8.52568388e-01, -4.83701646e-01,\n",
       "        -1.49752527e-01,  2.79767990e-01,  1.34998560e-01,\n",
       "         6.04404628e-01],\n",
       "       [-1.18473649e-01, -6.83664143e-01, -3.26499268e-02,\n",
       "        -2.00594693e-01, -1.20610200e-01,  2.31378600e-02,\n",
       "         5.70413172e-01],\n",
       "       [-5.68378627e-01, -7.99058020e-01, -1.29594669e-01,\n",
       "        -2.13987693e-01,  7.64692500e-02,  8.78964290e-02,\n",
       "         2.88281798e-01],\n",
       "       [-5.19095600e-01, -7.13012636e-01,  3.34204257e-01,\n",
       "        -1.11364031e+00, -3.02379817e-01, -9.90810513e-01,\n",
       "         5.80573618e-01],\n",
       "       [-2.07062200e-01, -5.00927269e-01, -1.94462627e-01,\n",
       "        -7.51370043e-02,  3.83059937e-03, -4.13539439e-01,\n",
       "         7.17801929e-01],\n",
       "       [-3.29134107e-01, -9.12545681e-01,  6.61953911e-02,\n",
       "        -4.94375467e-01, -6.98750699e-03,  2.31769770e-01,\n",
       "         4.44924504e-01],\n",
       "       [ 2.31010154e-01, -8.14846873e-01,  1.51823342e-01,\n",
       "        -5.30951858e-01, -4.67717648e-01,  7.57069327e-03,\n",
       "         1.33036387e+00],\n",
       "       [-3.18025351e-01, -6.12767994e-01, -1.41740814e-01,\n",
       "        -1.22777835e-01,  3.54985297e-01, -2.50505120e-01,\n",
       "         6.33792579e-01],\n",
       "       [-5.94464168e-02, -9.62437570e-01, -3.41190308e-01,\n",
       "         2.99154907e-01, -4.31923866e-01, -2.37160563e-01,\n",
       "         4.20640320e-01],\n",
       "       [-2.64352411e-01, -8.35991383e-01,  6.87419325e-02,\n",
       "        -4.25393403e-01,  2.70427540e-02,  2.51185536e-01,\n",
       "         3.84878874e-01],\n",
       "       [-2.71985263e-01, -5.63456476e-01,  3.95036340e-01,\n",
       "        -3.54359150e-01,  1.07794441e-01, -4.81470287e-01,\n",
       "         7.87024379e-01],\n",
       "       [-2.03408509e-01, -4.25415993e-01, -1.19569466e-01,\n",
       "        -2.22617164e-02, -2.45687261e-04, -3.17501664e-01,\n",
       "         6.79376900e-01],\n",
       "       [-1.17869988e-01, -7.13641584e-01, -2.67976373e-01,\n",
       "         5.16752526e-02, -2.79394984e-02, -3.90597358e-02,\n",
       "         4.23036158e-01],\n",
       "       [ 4.89461310e-02, -6.21395230e-01,  1.17808999e-02,\n",
       "         5.86911477e-02, -2.35557586e-01, -6.01917684e-01,\n",
       "         9.76143837e-01],\n",
       "       [ 1.10911399e-01, -8.74943316e-01, -3.22657675e-01,\n",
       "        -8.06994498e-01, -1.49701285e+00, -1.46100330e+00,\n",
       "         1.58721542e+00],\n",
       "       [-2.52100199e-01, -5.71931183e-01,  2.50124156e-01,\n",
       "        -2.33123213e-01, -1.43290266e-01, -7.53600597e-02,\n",
       "         3.82538676e-01],\n",
       "       [-3.27237129e-01, -6.05080485e-01,  2.81886965e-01,\n",
       "        -1.93794489e-01,  8.97719786e-02, -3.75920355e-01,\n",
       "         3.42095375e-01],\n",
       "       [-3.94485950e-01, -7.80526340e-01, -1.59005925e-01,\n",
       "        -2.36935794e-01,  9.63488594e-03,  2.34231815e-01,\n",
       "         1.31632671e-01],\n",
       "       [-2.26886481e-01, -5.64799130e-01,  2.15159103e-01,\n",
       "        -3.22564840e-01,  8.80042650e-03,  5.76801375e-02,\n",
       "         4.97646779e-01],\n",
       "       [-3.39721255e-02, -7.09853768e-01, -1.14526890e-01,\n",
       "         4.46579397e-01, -3.74639452e-01, -5.12283623e-01,\n",
       "         3.72458935e-01],\n",
       "       [-2.21391514e-01, -3.18690658e-01,  1.53160223e-03,\n",
       "        -2.15651393e-01,  1.68809947e-02, -4.68454033e-01,\n",
       "         7.50484586e-01],\n",
       "       [-1.81022301e-01, -3.36091846e-01,  5.83177619e-03,\n",
       "        -1.08637199e-01, -7.80012310e-02, -6.48369789e-01,\n",
       "         7.58408070e-01],\n",
       "       [-1.89269051e-01, -4.07060444e-01, -5.86631987e-03,\n",
       "        -6.90225661e-02,  1.15054376e-01, -3.79523546e-01,\n",
       "         6.07230842e-01],\n",
       "       [-2.50259116e-02, -9.50532913e-01, -2.20583677e-02,\n",
       "         1.99894145e-01, -2.11954251e-01, -9.81476307e-01,\n",
       "         5.23705304e-01],\n",
       "       [-2.02728212e-01, -3.32533449e-01,  2.72862375e-01,\n",
       "        -3.21768880e-01, -1.16080880e-01, -5.51106632e-01,\n",
       "         1.04658890e+00],\n",
       "       [-4.83666450e-01, -2.75492400e-01, -1.31234527e-01,\n",
       "        -6.36032104e-01, -1.07942748e+00, -1.00837135e+00,\n",
       "         6.88164294e-01],\n",
       "       [-2.22078919e-01, -3.58810008e-01,  2.56503046e-01,\n",
       "        -3.54225546e-01, -3.13658975e-02, -3.70222658e-01,\n",
       "         5.39277792e-01],\n",
       "       [-2.56408572e-01, -4.09322113e-01,  2.20139027e-01,\n",
       "        -3.93518537e-01, -1.21503070e-01, -6.14144802e-01,\n",
       "         4.42610890e-01],\n",
       "       [-5.10189056e-01, -2.23091692e-01, -5.28862536e-01,\n",
       "        -3.73082399e-01, -7.72376209e-02, -1.11141431e+00,\n",
       "         1.54660332e+00],\n",
       "       [-1.65871754e-01, -4.30997789e-01,  2.40083605e-01,\n",
       "        -2.36569494e-01, -1.05176069e-01, -4.53491122e-01,\n",
       "         5.66829443e-01],\n",
       "       [-3.33749771e-01, -3.15918893e-01,  2.55329728e-01,\n",
       "        -3.81291121e-01, -7.13576898e-02, -3.72467190e-01,\n",
       "         5.07208109e-01],\n",
       "       [-2.66395509e-01, -4.27765131e-01,  2.03613952e-01,\n",
       "        -4.12113845e-01,  1.10765465e-01, -1.74696997e-01,\n",
       "         4.92179483e-01],\n",
       "       [-1.06798917e-01, -4.64822471e-01, -7.92994350e-02,\n",
       "         1.14601783e-01, -2.67883539e-01, -3.67388248e-01,\n",
       "         4.15392101e-01],\n",
       "       [-1.99334532e-01, -4.21154618e-01,  2.60246962e-01,\n",
       "        -3.67594153e-01, -9.31289271e-02, -3.83681685e-01,\n",
       "         5.29532254e-01],\n",
       "       [-2.01989517e-01, -6.17106974e-01,  2.64927521e-02,\n",
       "         1.36316761e-01, -2.05933854e-01, -6.98881149e-01,\n",
       "         4.04457152e-01],\n",
       "       [-1.09996989e-01, -4.63004202e-01,  2.38597780e-01,\n",
       "        -1.95608377e-01, -1.50840670e-01, -6.87724411e-01,\n",
       "         8.59201193e-01],\n",
       "       [-3.14063072e-01, -3.47020149e-01, -1.37755880e-02,\n",
       "        -1.24014527e-01, -5.47299720e-02, -7.22991824e-01,\n",
       "         8.07002842e-01],\n",
       "       [-2.44715899e-01, -3.86848599e-01,  2.89008915e-01,\n",
       "        -4.86182809e-01, -3.35723758e-01, -7.46063113e-01,\n",
       "         7.94874787e-01],\n",
       "       [-2.67296702e-01, -4.19629633e-01,  2.17233971e-02,\n",
       "        -4.56321627e-01, -3.18166018e-01, -1.07674980e+00,\n",
       "         1.28238928e+00],\n",
       "       [-1.06457688e-01, -5.06316900e-01,  1.78953514e-01,\n",
       "        -3.31215382e-01, -9.66414809e-02, -4.76863027e-01,\n",
       "         7.06567943e-01],\n",
       "       [-2.17332929e-01, -3.67560744e-01,  3.22758034e-02,\n",
       "        -2.76628584e-01, -2.19419584e-01, -8.87294412e-01,\n",
       "         9.87925828e-01],\n",
       "       [-4.57447201e-01, -4.67015237e-01, -6.68196455e-02,\n",
       "        -8.85693952e-02,  2.86624074e-01, -1.37277499e-01,\n",
       "         5.00607550e-01],\n",
       "       [-1.63487911e-01, -4.67511594e-01, -7.74911419e-02,\n",
       "        -7.12297335e-02, -2.09305704e-01, -6.71398461e-01,\n",
       "         4.88224179e-01],\n",
       "       [-3.76984030e-01, -4.22069758e-01,  1.26463056e-01,\n",
       "        -3.02000254e-01, -1.82439849e-01, -7.93268263e-01,\n",
       "         8.98777544e-01],\n",
       "       [-1.49551928e-01, -5.52039742e-01, -1.54858783e-01,\n",
       "         2.31532403e-03, -1.53095186e-01, -7.59243846e-01,\n",
       "         6.60081089e-01],\n",
       "       [-4.39719528e-01, -3.96638900e-01, -1.70546576e-01,\n",
       "        -1.89186901e-01, -2.09607914e-01, -9.39122021e-01,\n",
       "         8.98436666e-01],\n",
       "       [-3.13247323e-01, -4.75093544e-01,  7.74415061e-02,\n",
       "        -3.86478543e-01, -1.55003548e-01, -9.96661603e-01,\n",
       "         9.20490265e-01],\n",
       "       [-3.21146339e-01, -3.68863106e-01, -2.30112568e-01,\n",
       "        -1.62961185e-01, -3.05984765e-01, -9.86720204e-01,\n",
       "         9.21688437e-01],\n",
       "       [-3.11058640e-01, -5.61844230e-01,  3.28178078e-01,\n",
       "        -5.43412685e-01, -3.68486404e-01, -7.23935843e-01,\n",
       "         7.46437192e-01],\n",
       "       [-1.89008012e-01, -5.38627088e-01,  1.30850881e-01,\n",
       "        -5.01744568e-01, -3.90913785e-01, -6.43944263e-01,\n",
       "         7.06614494e-01],\n",
       "       [-3.63606870e-01, -3.22307467e-01, -1.45380005e-01,\n",
       "        -2.66761005e-01, -5.07295370e-01, -7.74725080e-01,\n",
       "         1.09848857e+00]], dtype=float32)"
      ]
     },
     "execution_count": 27,
     "metadata": {},
     "output_type": "execute_result"
    }
   ],
   "source": [
    "model.syn1neg"
   ]
  },
  {
   "cell_type": "markdown",
   "metadata": {},
   "source": [
    "### Referencias"
   ]
  },
  {
   "cell_type": "code",
   "execution_count": null,
   "metadata": {},
   "outputs": [],
   "source": [
    "\n",
    "# https://github.com/RaRe-Technologies/gensim/tree/develop/docs/notebooks\n",
    "    "
   ]
  },
  {
   "cell_type": "code",
   "execution_count": null,
   "metadata": {},
   "outputs": [],
   "source": []
  },
  {
   "cell_type": "code",
   "execution_count": null,
   "metadata": {},
   "outputs": [],
   "source": []
  },
  {
   "cell_type": "code",
   "execution_count": null,
   "metadata": {},
   "outputs": [],
   "source": []
  },
  {
   "cell_type": "code",
   "execution_count": null,
   "metadata": {},
   "outputs": [],
   "source": []
  }
 ],
 "metadata": {
  "kernelspec": {
   "display_name": "Python 3",
   "language": "python",
   "name": "python3"
  },
  "language_info": {
   "codemirror_mode": {
    "name": "ipython",
    "version": 3
   },
   "file_extension": ".py",
   "mimetype": "text/x-python",
   "name": "python",
   "nbconvert_exporter": "python",
   "pygments_lexer": "ipython3",
   "version": "3.6.5"
  },
  "toc": {
   "base_numbering": 1,
   "nav_menu": {},
   "number_sections": false,
   "sideBar": true,
   "skip_h1_title": false,
   "title_cell": "Table of Contents",
   "title_sidebar": "Contents",
   "toc_cell": false,
   "toc_position": {
    "height": "calc(100% - 180px)",
    "left": "10px",
    "top": "150px",
    "width": "280px"
   },
   "toc_section_display": true,
   "toc_window_display": true
  }
 },
 "nbformat": 4,
 "nbformat_minor": 2
}
