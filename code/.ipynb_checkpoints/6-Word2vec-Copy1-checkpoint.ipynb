{
 "cells": [
  {
   "cell_type": "markdown",
   "metadata": {},
   "source": [
    "# Predicción de comportamientos con Word2vec"
   ]
  },
  {
   "cell_type": "markdown",
   "metadata": {},
   "source": [
    "## Word2vec embeddings"
   ]
  },
  {
   "cell_type": "markdown",
   "metadata": {},
   "source": [
    "### Extrayendo la secuencia de Comportamientos Colectivos de los Clientes"
   ]
  },
  {
   "cell_type": "code",
   "execution_count": 1,
   "metadata": {},
   "outputs": [],
   "source": [
    "import pandas as pd\n",
    "import gensim\n",
    "from gensim import corpora, models, similarities"
   ]
  },
  {
   "cell_type": "code",
   "execution_count": 2,
   "metadata": {},
   "outputs": [],
   "source": [
    "# data = pd.read_csv(\"../resultados/mobile_consume1_results.csv\")\n",
    "data = pd.read_csv(\"../../resultados/mobile_consume1_results.csv\")"
   ]
  },
  {
   "cell_type": "code",
   "execution_count": 3,
   "metadata": {},
   "outputs": [],
   "source": [
    "# Lista de Clientes\n",
    "clientes = data.CO_ID.unique()"
   ]
  },
  {
   "cell_type": "code",
   "execution_count": null,
   "metadata": {},
   "outputs": [],
   "source": [
    "# CONSTRUYENDO VOCABULARIO COMPLETO DE CLIENTES\n",
    "\n",
    "# Lista de Periodos\n",
    "year_min = min(data.YEAR) \n",
    "year_max = max(data.YEAR) \n",
    "week_min = min(data.WEEK) \n",
    "week_max = max(data.WEEK) \n",
    "\n",
    "periodos = []\n",
    "\n",
    "if year_min == year_max:\n",
    "    year = year_min\n",
    "    for week in range(week_min,week_max+1):\n",
    "        weeks = \"\"\n",
    "        if week < 10:\n",
    "            weeks = \"0\"+str(week)\n",
    "        else:\n",
    "            weeks = str(week)\n",
    "        periodos.append(str(year)+\"-\"+weeks)\n",
    "        \n",
    "else:\n",
    "    for year in range(year_min,year_max+1):\n",
    "        if year == year_min:\n",
    "            for week in range(week_min,53):\n",
    "                \n",
    "                weeks = \"\"\n",
    "                if week < 10:\n",
    "                    weeks = \"0\"+str(week)\n",
    "                else:\n",
    "                    weeks = str(week)\n",
    "                periodos.append(str(year)+\"-\"+weeks)\n",
    "                #print(year,weeks)\n",
    "                \n",
    "        elif year == year_max:   \n",
    "            for week in range(1,week_max+1):\n",
    "                \n",
    "                weeks = \"\"\n",
    "                if week < 10:\n",
    "                    weeks = \"0\"+str(week)\n",
    "                else:\n",
    "                    weeks = str(week)\n",
    "                periodos.append(str(year)+\"-\"+weeks)\n",
    "                #print(year,weeks)\n",
    "                \n",
    "        else:    \n",
    "            for week in range(1,53):\n",
    "            \n",
    "                weeks = \"\"\n",
    "                if week < 10:\n",
    "                    weeks = \"0\"+str(week)\n",
    "                else:\n",
    "                    weeks = str(week)\n",
    "                periodos.append(str(year)+\"-\"+weeks)\n",
    "                #print(year,weeks)\n"
   ]
  },
  {
   "cell_type": "code",
   "execution_count": null,
   "metadata": {},
   "outputs": [],
   "source": [
    "#for idx, val in enumerate(clientes):\n",
    " #   print(idx, val)\n",
    "    \n",
    "comportamientos={}\n",
    "    \n",
    "for index, cliente in enumerate(clientes):\n",
    "    lista = []\n",
    "    for index2, periodo in enumerate(periodos):\n",
    "        lista.append(\"SinActividad\")\n",
    "        \n",
    "    comportamientos[cliente]=lista\n",
    "    "
   ]
  },
  {
   "cell_type": "code",
   "execution_count": null,
   "metadata": {},
   "outputs": [],
   "source": []
  },
  {
   "cell_type": "code",
   "execution_count": null,
   "metadata": {},
   "outputs": [],
   "source": [
    "# CONSTRUYENDO CORPUS CON CADA TEMPORADA DE CLIENTES (considerando las temporadas vacias)\n",
    "\n",
    "comportamientos2=[]\n",
    "    \n",
    "for index, cliente in enumerate(clientes):\n",
    "    lista = []\n",
    "    for index2, periodo in enumerate(periodos):\n",
    "        lista.append(\"SinActividad\")\n",
    "        \n",
    "    comportamientos2.append(lista)\n",
    "    "
   ]
  },
  {
   "cell_type": "code",
   "execution_count": null,
   "metadata": {},
   "outputs": [],
   "source": [
    "lista_periodos = list(periodos)\n",
    "\n",
    "for i in range(len(data)):\n",
    "    # en la comportamiendo del cliente i\n",
    "    fila = data.loc[i,['CO_ID','YEAR','WEEK','COLLECTIVE_CLUSTER']]\n",
    "    # en el indice del cliente i_c  y del periodo i_p \n",
    "    index_c = list(clientes).index(int(fila[0]))\n",
    "    week = \"\"\n",
    "    if int(fila[2]) < 10:\n",
    "        week = \"0\" + str(int(fila[2]))\n",
    "    else:\n",
    "        week = str(int(fila[2]))\n",
    "    tem = str(int(fila[1]))+\"-\"+week\n",
    "    \n",
    "    index_p = lista_periodos.index(tem)\n",
    "     \n",
    "    # comportamientos2[i][index_p] = \"cluster_\"+str(int(cliente[3]))\n",
    "        \n",
    "    try:\n",
    "        num = \"\"\n",
    "        if int(fila[3]) < 10:\n",
    "            num = \"0\" + str(int(fila[3]))\n",
    "        else:\n",
    "            num = str(int(fila[3]))\n",
    "        \n",
    "        comportamientos2[index_c][index_p] = \"cluster_\"+num\n",
    "    except Exception as e:\n",
    "        print(\"Oops!  That was no valid index.  Try again...\")\n",
    "    # llenar\n",
    "    # print(i,int(cliente[0]),int(cliente[1]),int(cliente[2]),int(cliente[3]))\n",
    "    "
   ]
  },
  {
   "cell_type": "code",
   "execution_count": null,
   "metadata": {},
   "outputs": [],
   "source": [
    "cliente = data.loc[1,['CO_ID','YEAR','WEEK','COLLECTIVE_CLUSTER']]\n",
    "    # en el indice del cliente i_c  y del periodo i_p \n"
   ]
  },
  {
   "cell_type": "code",
   "execution_count": null,
   "metadata": {},
   "outputs": [],
   "source": [
    "int(cliente[0])"
   ]
  },
  {
   "cell_type": "code",
   "execution_count": null,
   "metadata": {},
   "outputs": [],
   "source": [
    "list(clientes).index(int(cliente[0]))"
   ]
  },
  {
   "cell_type": "code",
   "execution_count": null,
   "metadata": {},
   "outputs": [],
   "source": [
    "comportamientos2"
   ]
  },
  {
   "cell_type": "code",
   "execution_count": null,
   "metadata": {
    "scrolled": true
   },
   "outputs": [],
   "source": [
    "lista_periodos.index(tem)"
   ]
  },
  {
   "cell_type": "code",
   "execution_count": null,
   "metadata": {},
   "outputs": [],
   "source": [
    "len(data)"
   ]
  },
  {
   "cell_type": "code",
   "execution_count": null,
   "metadata": {},
   "outputs": [],
   "source": [
    "# Cargamos lista de palabras de los clientes \n",
    "\n",
    "data2 = pd.DataFrame(index = clientes, columns=periodos)\n",
    "data2.head()"
   ]
  },
  {
   "cell_type": "code",
   "execution_count": null,
   "metadata": {},
   "outputs": [],
   "source": []
  },
  {
   "cell_type": "code",
   "execution_count": null,
   "metadata": {},
   "outputs": [],
   "source": []
  },
  {
   "cell_type": "code",
   "execution_count": null,
   "metadata": {},
   "outputs": [],
   "source": []
  },
  {
   "cell_type": "code",
   "execution_count": null,
   "metadata": {},
   "outputs": [],
   "source": []
  },
  {
   "cell_type": "code",
   "execution_count": null,
   "metadata": {},
   "outputs": [],
   "source": []
  },
  {
   "cell_type": "code",
   "execution_count": null,
   "metadata": {},
   "outputs": [],
   "source": []
  },
  {
   "cell_type": "code",
   "execution_count": null,
   "metadata": {},
   "outputs": [],
   "source": []
  },
  {
   "cell_type": "code",
   "execution_count": null,
   "metadata": {},
   "outputs": [],
   "source": []
  },
  {
   "cell_type": "code",
   "execution_count": null,
   "metadata": {},
   "outputs": [],
   "source": [
    "tok_corp = []\n",
    "\n",
    "for cli in clientes:\n",
    "    data_i = data[(data.CO_ID == cli)]\n",
    "    lista_i = list(data_i.COLLECTIVE_CLUSTER)\n",
    "\n",
    "    for j in range(len(lista_i)):\n",
    "        lista_i[j] = \"cluster_\"+str(lista_i[j])\n",
    "    tok_corp.append(lista_i)\n",
    "    "
   ]
  },
  {
   "cell_type": "code",
   "execution_count": null,
   "metadata": {},
   "outputs": [],
   "source": [
    "tok_corp"
   ]
  },
  {
   "cell_type": "markdown",
   "metadata": {},
   "source": [
    "### Modelo"
   ]
  },
  {
   "cell_type": "code",
   "execution_count": null,
   "metadata": {},
   "outputs": [],
   "source": [
    "model = gensim.models.Word2Vec(tok_corp, min_count = 1, size = 7)"
   ]
  },
  {
   "cell_type": "code",
   "execution_count": null,
   "metadata": {},
   "outputs": [],
   "source": [
    "# Diccionario\n",
    "\n",
    "# sorted(model.wv.index2word)"
   ]
  },
  {
   "cell_type": "code",
   "execution_count": null,
   "metadata": {
    "scrolled": false
   },
   "outputs": [],
   "source": [
    "model.most_similar(\"cluster_0\")"
   ]
  },
  {
   "cell_type": "code",
   "execution_count": null,
   "metadata": {},
   "outputs": [],
   "source": [
    "import random"
   ]
  },
  {
   "cell_type": "code",
   "execution_count": null,
   "metadata": {},
   "outputs": [],
   "source": [
    "prueba = []\n",
    "\n",
    "for i in range(3): \n",
    "    prueba.append(\"cluster_\"+str(random.randint(0,69))+\".0\")\n",
    "    \n",
    "prueba = ['cluster_29',\"cluster_0\"]"
   ]
  },
  {
   "cell_type": "code",
   "execution_count": null,
   "metadata": {},
   "outputs": [],
   "source": [
    "model.predict_output_word(prueba, topn=5)"
   ]
  },
  {
   "cell_type": "code",
   "execution_count": null,
   "metadata": {
    "scrolled": true
   },
   "outputs": [],
   "source": [
    "model.predict_output_word(prueba, topn=5)"
   ]
  },
  {
   "cell_type": "code",
   "execution_count": null,
   "metadata": {},
   "outputs": [],
   "source": [
    "# VOCABULARIO\n",
    "\n",
    "print(sorted(list(model.wv.vocab.keys())))\n",
    "print(\"Cantidad = \"+str(len(model.wv.vocab)))"
   ]
  },
  {
   "cell_type": "code",
   "execution_count": null,
   "metadata": {},
   "outputs": [],
   "source": [
    "model[\"cluster_0.0\"]"
   ]
  },
  {
   "cell_type": "code",
   "execution_count": null,
   "metadata": {},
   "outputs": [],
   "source": [
    "# Referencias\n",
    "\n",
    "# https://github.com/RaRe-Technologies/gensim/tree/develop/docs/notebooks\n",
    "    "
   ]
  },
  {
   "cell_type": "code",
   "execution_count": null,
   "metadata": {},
   "outputs": [],
   "source": []
  },
  {
   "cell_type": "code",
   "execution_count": null,
   "metadata": {},
   "outputs": [],
   "source": []
  },
  {
   "cell_type": "code",
   "execution_count": null,
   "metadata": {},
   "outputs": [],
   "source": []
  },
  {
   "cell_type": "code",
   "execution_count": null,
   "metadata": {},
   "outputs": [],
   "source": []
  }
 ],
 "metadata": {
  "kernelspec": {
   "display_name": "Python 3",
   "language": "python",
   "name": "python3"
  },
  "language_info": {
   "codemirror_mode": {
    "name": "ipython",
    "version": 3
   },
   "file_extension": ".py",
   "mimetype": "text/x-python",
   "name": "python",
   "nbconvert_exporter": "python",
   "pygments_lexer": "ipython3",
   "version": "3.6.5"
  },
  "toc": {
   "base_numbering": 1,
   "nav_menu": {},
   "number_sections": false,
   "sideBar": true,
   "skip_h1_title": false,
   "title_cell": "Table of Contents",
   "title_sidebar": "Contents",
   "toc_cell": false,
   "toc_position": {
    "height": "calc(100% - 180px)",
    "left": "10px",
    "top": "150px",
    "width": "280px"
   },
   "toc_section_display": true,
   "toc_window_display": true
  }
 },
 "nbformat": 4,
 "nbformat_minor": 2
}
