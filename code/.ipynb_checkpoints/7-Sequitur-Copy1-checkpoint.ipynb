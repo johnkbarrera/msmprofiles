{
 "cells": [
  {
   "cell_type": "code",
   "execution_count": 1,
   "metadata": {},
   "outputs": [],
   "source": [
    "from SequiturAlgorithm import run_sequitur"
   ]
  },
  {
   "cell_type": "code",
   "execution_count": null,
   "metadata": {},
   "outputs": [],
   "source": []
  },
  {
   "cell_type": "code",
   "execution_count": null,
   "metadata": {},
   "outputs": [],
   "source": []
  },
  {
   "cell_type": "code",
   "execution_count": null,
   "metadata": {},
   "outputs": [],
   "source": []
  },
  {
   "cell_type": "code",
   "execution_count": null,
   "metadata": {},
   "outputs": [],
   "source": []
  },
  {
   "cell_type": "code",
   "execution_count": null,
   "metadata": {},
   "outputs": [],
   "source": []
  },
  {
   "cell_type": "code",
   "execution_count": null,
   "metadata": {},
   "outputs": [],
   "source": []
  },
  {
   "cell_type": "code",
   "execution_count": null,
   "metadata": {},
   "outputs": [],
   "source": []
  },
  {
   "cell_type": "code",
   "execution_count": null,
   "metadata": {},
   "outputs": [],
   "source": []
  },
  {
   "cell_type": "code",
   "execution_count": null,
   "metadata": {},
   "outputs": [],
   "source": []
  },
  {
   "cell_type": "code",
   "execution_count": 2,
   "metadata": {},
   "outputs": [],
   "source": [
    "texto = 'bbebeebebeeabcda$$cabb_bebe!!e!!bebebbe$$be_eabcdacabbbe_beebebebbe$$beeabcdacabbbebeebebebbe_eeabcdacabbbebeebebebbebeeabaccdacabbbebeebebebbebeeabcdacabbbebeebebebbebeeabcdacabbbebeebebebbebeeabcdacab'\n",
    "texto2 = (\"C1C12C2C12C19C4C10C19C12C15C12C18C9C2C11C19C5C8C5C18C4C17C4C11C11C2C5C13C6C1C13C20C8C13C6C12C16C7C5C15C6C3C5C18C9C11C14C0C13C16C15C5C16C14C18C6C6C6C1C17C14C1C0C0C11C7C20C10C12C18C14C19C2C5C6C18C14C7C19C19C5C4C13C3C9C2C11C11C12C12C7C15C20C19C9C19C2C14C7C20C8C15C4C2C13C13C17C6C17C13C18C13C14C4C19C11C11C3C14C14C19C16C18C2C13C2C6C19C4C7C16C8C16C0C3C12C17C8C6C6C14C9C4C19C20C1C2C10C18C3C3C12C0C2C17C12C14C16C6C7C11C5C10C9C17C2C6C8C19C1C7C4C3C3C13C11C12C13C3C14C2C4C16C8C14C20C4C0C2C13C18C18C9C19C11C2C1C5C3C16C19C9C8C5C1C14C7C1C8C7C11C4C3C4C2C2C12C5C15C16C19C5C6C3C18C19C20C14C1C16C20C7C17C6C9C10C9C15C19C19C7C15C9C2C6C2C19C20C7C14C10C8C19\")\n",
    "texto3 = [\"c1\",\"c3\",\"c3\",\"c1\",\"c3\",\"c5\",\"c1\",\"c2\",\"c5\",\"c1\"]"
   ]
  },
  {
   "cell_type": "code",
   "execution_count": 11,
   "metadata": {},
   "outputs": [],
   "source": [
    "resultado = run_sequitur(texto2)"
   ]
  },
  {
   "cell_type": "code",
   "execution_count": 12,
   "metadata": {},
   "outputs": [],
   "source": [
    "reglas = resultado[0]\n",
    "contador = resultado[1]"
   ]
  },
  {
   "cell_type": "code",
   "execution_count": 13,
   "metadata": {},
   "outputs": [
    {
     "name": "stdout",
     "output_type": "stream",
     "text": [
      "S ->  ['R1', 'R2', 'R3', 'R4', '0', 'R5', 'R6', '5', 'R7', 'R8', '1', 'R9', 'R10', 'R11', 'R10', 'R12', 'R4', 'R13', 'R4', 'R14', '1', 'R15', 'R10', 'R16', '6', 'R13', 'R16', 'R17', 'R18', '6', 'R19', 'R20', 'R13', 'R21', 'R22', 'R23', 'R21', 'R11', 'R24', 'R14', 'R25', 'R18', 'R20', '1', 'R10', 'R26', 'R27', 'R12', 'R28', 'R29', 'R13', 'R30', 'R31', 'R31', 'R32', 'R13', 'R33', '0', 'R7', 'R30', 'R34', 'R22', 'R12', 'R35', 'R36', 'R37', 'R38', 'R5', 'R23', 'R34', 'R39', 'R39', 'R40', 'R41', 'R42', 'R33', 'R8', 'R43', 'R13', 'R17', 'R44', 'R38', 'R6', 'R23', 'R5', 'R14', 'C', 'R29', 'R18', 'R12', 'R5', 'R35', 'R27', 'R40', 'R32', 'R45', 'R43', 'R46', 'R47', 'R45', 'R41', 'R47', 'R48', 'R36', 'R49', 'R20', 'R50', 'R23', 'R46', 'R51', 'R28', 'R35', 'R48', 'R52', 'R33', 'R53', 'R50', 'R12', 'R54', 'R41', 'R55', 'R36', 'R6', 'R56', 'R57', 'R58', 'R21', 'R55', 'R59', 'R41', 'R49', 'R52', 'R60', 'R13', 'R27', 'R54', 'R61', 'R60', 'R40', 'R54', 'R62', 'R56', 'R11', 'R35', 'R63', 'R25', 'R53', 'R64', 'R12', 'R37', 'R39', 'R65', 'R61', 'R47', 'R8', 'R51', 'R21', 'R66', 'R36', 'R51', 'R58', 'R27', 'R23', 'R62', 'R6', 'R41', 'R21', 'R26', 'R65', 'R57', 'R64', 'R52', 'R1', 'R27', 'R60', 'R20', 'R59', 'R59', 'R57', 'R24', 'R55', 'R44', 'R21', 'R37', 'R42', 'R34', 'R57', 'R2', 'C', 'R59', 'R66', '1', 'R50', 'R11', 'R40']\n"
     ]
    }
   ],
   "source": [
    "# S: texto original\n",
    "print('S -> ',reglas['R0'])"
   ]
  },
  {
   "cell_type": "code",
   "execution_count": 14,
   "metadata": {},
   "outputs": [
    {
     "name": "stdout",
     "output_type": "stream",
     "text": [
      "R1  ->  ['R63', '1']\n",
      "R2  ->  ['R6', '9']\n",
      "R3  ->  ['9', 'C']\n",
      "R4  ->  ['4', 'R44']\n",
      "R5  ->  ['1', 'R23']\n",
      "R6  ->  ['R41', '1']\n",
      "R7  ->  ['R19', 'R12']\n",
      "R8  ->  ['R3', '9']\n",
      "R9  ->  ['R44', 'R3']\n",
      "R10  ->  ['5', 'C']\n",
      "R11  ->  ['8', 'C']\n",
      "R12  ->  ['1', 'R11']\n",
      "R13  ->  ['R44', 'C']\n",
      "R14  ->  ['1', 'R44']\n",
      "R15  ->  ['C', '8']\n",
      "R16  ->  ['R5']\n",
      "R17  ->  ['R67', 'R15']\n",
      "R18  ->  ['R44', 'R23']\n",
      "R19  ->  ['R44', 'R41']\n",
      "R20  ->  ['1', 'R57']\n",
      "R21  ->  ['R10', '1']\n",
      "R22  ->  ['R10', 'R57']\n",
      "R23  ->  ['3', 'C']\n",
      "R24  ->  ['R3', '1']\n",
      "R25  ->  ['R27', '0']\n",
      "R26  ->  ['R21', 'R47']\n",
      "R27  ->  ['4', 'C']\n",
      "R28  ->  ['R57', 'R57']\n",
      "R29  ->  ['R47', '7']\n",
      "R30  ->  ['R35', '1']\n",
      "R31  ->  ['C', '0']\n",
      "R32  ->  ['R44', 'R60']\n",
      "R33  ->  ['R67', 'R44']\n",
      "R34  ->  ['R3', 'R41']\n",
      "R35  ->  ['1', 'R27']\n",
      "R36  ->  ['R13', '1']\n",
      "R37  ->  ['R24', 'R3']\n",
      "R38  ->  ['R10', 'R27']\n",
      "R39  ->  ['1', 'R60']\n",
      "R40  ->  ['1', '9']\n",
      "R41  ->  ['2', 'C']\n",
      "R42  ->  ['R36', 'R10']\n",
      "R43  ->  ['R30', 'R27']\n",
      "R44  ->  ['C', '1']\n",
      "R45  ->  ['R39', 'R23']\n",
      "R46  ->  ['R40', '7']\n",
      "R47  ->  ['R57', '1']\n",
      "R48  ->  ['R3', 'R27']\n",
      "R49  ->  ['R57', 'R11']\n",
      "R50  ->  ['0', 'C']\n",
      "R51  ->  ['R15', 'C']\n",
      "R52  ->  ['R40', 'C']\n",
      "R53  ->  ['R15', '1']\n",
      "R54  ->  ['R23', 'R61']\n",
      "R55  ->  ['R50', '9']\n",
      "R56  ->  ['R27', 'R20']\n",
      "R57  ->  ['6', 'C']\n",
      "R58  ->  ['R36', 'R60']\n",
      "R59  ->  ['R63', '7']\n",
      "R60  ->  ['1', 'C']\n",
      "R61  ->  ['R23', '1']\n",
      "R62  ->  ['R27', 'R41']\n",
      "R63  ->  ['R67', 'C']\n",
      "R64  ->  ['R61', 'R11']\n",
      "R65  ->  ['R3', 'R10']\n",
      "R66  ->  ['R44', 'R27']\n",
      "R67  ->  ['2', '0']\n"
     ]
    }
   ],
   "source": [
    "# Reglas\n",
    "for i in range(1,len(reglas)-1):\n",
    "    valor = 'R'+str(i)\n",
    "    print(valor,' -> ',reglas[valor])"
   ]
  },
  {
   "cell_type": "code",
   "execution_count": 15,
   "metadata": {},
   "outputs": [
    {
     "name": "stdout",
     "output_type": "stream",
     "text": [
      "R0  ->  ['R1', 'R2', 'R3', 'R4', '0', 'R5', 'R6', '5', 'R7', 'R8', '1', 'R9', 'R10', 'R11', 'R10', 'R12', 'R4', 'R13', 'R4', 'R14', '1', 'R15', 'R10', 'R16', '6', 'R13', 'R16', 'R17', 'R18', '6', 'R19', 'R20', 'R13', 'R21', 'R22', 'R23', 'R21', 'R11', 'R24', 'R14', 'R25', 'R18', 'R20', '1', 'R10', 'R26', 'R27', 'R12', 'R28', 'R29', 'R13', 'R30', 'R31', 'R31', 'R32', 'R13', 'R33', '0', 'R7', 'R30', 'R34', 'R22', 'R12', 'R35', 'R36', 'R37', 'R38', 'R5', 'R23', 'R34', 'R39', 'R39', 'R40', 'R41', 'R42', 'R33', 'R8', 'R43', 'R13', 'R17', 'R44', 'R38', 'R6', 'R23', 'R5', 'R14', 'C', 'R29', 'R18', 'R12', 'R5', 'R35', 'R27', 'R40', 'R32', 'R45', 'R43', 'R46', 'R47', 'R45', 'R41', 'R47', 'R48', 'R36', 'R49', 'R20', 'R50', 'R23', 'R46', 'R51', 'R28', 'R35', 'R48', 'R52', 'R33', 'R53', 'R50', 'R12', 'R54', 'R41', 'R55', 'R36', 'R6', 'R56', 'R57', 'R58', 'R21', 'R55', 'R59', 'R41', 'R49', 'R52', 'R60', 'R13', 'R27', 'R54', 'R61', 'R60', 'R40', 'R54', 'R62', 'R56', 'R11', 'R35', 'R63', 'R25', 'R53', 'R64', 'R12', 'R37', 'R39', 'R65', 'R61', 'R47', 'R8', 'R51', 'R21', 'R66', 'R36', 'R51', 'R58', 'R27', 'R23', 'R62', 'R6', 'R41', 'R21', 'R26', 'R65', 'R57', 'R64', 'R52', 'R1', 'R27', 'R60', 'R20', 'R59', 'R59', 'R57', 'R24', 'R55', 'R44', 'R21', 'R37', 'R42', 'R34', 'R57', 'R2', 'C', 'R59', 'R66', '1', 'R50', 'R11', 'R40'] 0\n",
      "R1  ->  ['R63', '1'] 2\n",
      "R2  ->  ['R6', '9'] 2\n",
      "R3  ->  ['9', 'C'] 8\n",
      "R4  ->  ['4', 'R44'] 3\n",
      "R5  ->  ['1', 'R23'] 5\n",
      "R6  ->  ['R41', '1'] 5\n",
      "R7  ->  ['R19', 'R12'] 2\n",
      "R8  ->  ['R3', '9'] 3\n",
      "R9  ->  ['R44', 'R3'] 1\n",
      "R10  ->  ['5', 'C'] 9\n",
      "R11  ->  ['8', 'C'] 7\n",
      "R12  ->  ['1', 'R11'] 7\n",
      "R13  ->  ['R44', 'C'] 8\n",
      "R14  ->  ['1', 'R44'] 3\n",
      "R15  ->  ['C', '8'] 4\n",
      "R16  ->  ['R5'] 2\n",
      "R17  ->  ['R67', 'R15'] 2\n",
      "R18  ->  ['R44', 'R23'] 3\n",
      "R19  ->  ['R44', 'R41'] 2\n",
      "R20  ->  ['1', 'R57'] 5\n",
      "R21  ->  ['R10', '1'] 7\n",
      "R22  ->  ['R10', 'R57'] 2\n",
      "R23  ->  ['3', 'C'] 10\n",
      "R24  ->  ['R3', '1'] 3\n",
      "R25  ->  ['R27', '0'] 2\n",
      "R26  ->  ['R21', 'R47'] 2\n",
      "R27  ->  ['4', 'C'] 13\n",
      "R28  ->  ['R57', 'R57'] 2\n",
      "R29  ->  ['R47', '7'] 2\n",
      "R30  ->  ['R35', '1'] 3\n",
      "R31  ->  ['C', '0'] 2\n",
      "R32  ->  ['R44', 'R60'] 2\n",
      "R33  ->  ['R67', 'R44'] 3\n",
      "R34  ->  ['R3', 'R41'] 3\n",
      "R35  ->  ['1', 'R27'] 5\n",
      "R36  ->  ['R13', '1'] 6\n",
      "R37  ->  ['R24', 'R3'] 3\n",
      "R38  ->  ['R10', 'R27'] 2\n",
      "R39  ->  ['1', 'R60'] 4\n",
      "R40  ->  ['1', '9'] 6\n",
      "R41  ->  ['2', 'C'] 9\n",
      "R42  ->  ['R36', 'R10'] 2\n",
      "R43  ->  ['R30', 'R27'] 2\n",
      "R44  ->  ['C', '1'] 11\n",
      "R45  ->  ['R39', 'R23'] 2\n",
      "R46  ->  ['R40', '7'] 2\n",
      "R47  ->  ['R57', '1'] 5\n",
      "R48  ->  ['R3', 'R27'] 2\n",
      "R49  ->  ['R57', 'R11'] 2\n",
      "R50  ->  ['0', 'C'] 4\n",
      "R51  ->  ['R15', 'C'] 3\n",
      "R52  ->  ['R40', 'C'] 3\n",
      "R53  ->  ['R15', '1'] 2\n",
      "R54  ->  ['R23', 'R61'] 3\n",
      "R55  ->  ['R50', '9'] 3\n",
      "R56  ->  ['R27', 'R20'] 2\n",
      "R57  ->  ['6', 'C'] 10\n",
      "R58  ->  ['R36', 'R60'] 2\n",
      "R59  ->  ['R63', '7'] 4\n",
      "R60  ->  ['1', 'C'] 6\n",
      "R61  ->  ['R23', '1'] 4\n",
      "R62  ->  ['R27', 'R41'] 2\n",
      "R63  ->  ['R67', 'C'] 3\n",
      "R64  ->  ['R61', 'R11'] 2\n",
      "R65  ->  ['R3', 'R10'] 2\n",
      "R66  ->  ['R44', 'R27'] 2\n",
      "R67  ->  ['2', '0'] 3\n"
     ]
    }
   ],
   "source": [
    "# todo\n",
    "for i in range(0,len(reglas)-1):\n",
    "    valor = 'R'+str(i)\n",
    "    print(valor,' -> ', reglas[valor], contador[valor])"
   ]
  },
  {
   "cell_type": "code",
   "execution_count": null,
   "metadata": {},
   "outputs": [],
   "source": []
  },
  {
   "cell_type": "code",
   "execution_count": null,
   "metadata": {},
   "outputs": [],
   "source": []
  }
 ],
 "metadata": {
  "kernelspec": {
   "display_name": "Python 3",
   "language": "python",
   "name": "python3"
  },
  "language_info": {
   "codemirror_mode": {
    "name": "ipython",
    "version": 3
   },
   "file_extension": ".py",
   "mimetype": "text/x-python",
   "name": "python",
   "nbconvert_exporter": "python",
   "pygments_lexer": "ipython3",
   "version": "3.7.1"
  },
  "toc": {
   "base_numbering": 1,
   "nav_menu": {},
   "number_sections": true,
   "sideBar": true,
   "skip_h1_title": false,
   "title_cell": "Table of Contents",
   "title_sidebar": "Contents",
   "toc_cell": false,
   "toc_position": {},
   "toc_section_display": true,
   "toc_window_display": false
  }
 },
 "nbformat": 4,
 "nbformat_minor": 2
}
