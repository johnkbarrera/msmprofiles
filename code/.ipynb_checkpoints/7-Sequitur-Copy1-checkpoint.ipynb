{
 "cells": [
  {
   "cell_type": "code",
   "execution_count": 1,
   "metadata": {},
   "outputs": [],
   "source": [
    "from SequiturAlgorithm import run_sequitur"
   ]
  },
  {
   "cell_type": "code",
   "execution_count": 2,
   "metadata": {},
   "outputs": [],
   "source": [
    "texto = 'bbebeebebeeabcda$$cabb_bebe!!e!!bebebbe$$be_eabcdacabbbe_beebebebbe$$beeabcdacabbbebeebebebbe_eeabcdacabbbebeebebebbebeeabaccdacabbbebeebebebbebeeabcdacabbbebeebebebbebeeabcdacabbbebeebebebbebeeabcdacab'\n",
    "texto2 = (\"C1C12C2C12C19C4C10C19C12C15C12C18C9C2C11C19C5C8C5C18C4C17C4C11C11C2C5C13C6C1C13C20C8C13C6C12C16C7C5C15C6C3C5C18C9C11C14C0C13C16C15C5C16C14C18C6C6C6C1C17C14C1C0C0C11C7C20C10C12C18C14C19C2C5C6C18C14C7C19C19C5C4C13C3C9C2C11C11C12C12C7C15C20C19C9C19C2C14C7C20C8C15C4C2C13C13C17C6C17C13C18C13C14C4C19C11C11C3C14C14C19C16C18C2C13C2C6C19C4C7C16C8C16C0C3C12C17C8C6C6C14C9C4C19C20C1C2C10C18C3C3C12C0C2C17C12C14C16C6C7C11C5C10C9C17C2C6C8C19C1C7C4C3C3C13C11C12C13C3C14C2C4C16C8C14C20C4C0C2C13C18C18C9C19C11C2C1C5C3C16C19C9C8C5C1C14C7C1C8C7C11C4C3C4C2C2C12C5C15C16C19C5C6C3C18C19C20C14C1C16C20C7C17C6C9C10C9C15C19C19C7C15C9C2C6C2C19C20C7C14C10C8C19\")\n",
    "texto3 = [\"c1\",\"c3\",\"c3\",\"c1\",\"c3\",\"c5\",\"c1\",\"c2\",\"c5\",\"c1\"]"
   ]
  },
  {
   "cell_type": "code",
   "execution_count": 5,
   "metadata": {},
   "outputs": [],
   "source": [
    "resultado = run_sequitur(texto3)"
   ]
  },
  {
   "cell_type": "code",
   "execution_count": 6,
   "metadata": {},
   "outputs": [],
   "source": [
    "reglas = resultado[0]\n",
    "contador = resultado[1]"
   ]
  },
  {
   "cell_type": "code",
   "execution_count": 7,
   "metadata": {},
   "outputs": [
    {
     "name": "stdout",
     "output_type": "stream",
     "text": [
      "S ->  ['R1', 'c3', 'R1', 'R2', 'c2', 'R2']\n"
     ]
    }
   ],
   "source": [
    "# S: texto original\n",
    "print('S -> ',reglas['R0'])"
   ]
  },
  {
   "cell_type": "code",
   "execution_count": 8,
   "metadata": {},
   "outputs": [
    {
     "name": "stdout",
     "output_type": "stream",
     "text": [
      "R1  ->  ['c1', 'c3']\n",
      "R2  ->  ['c5', 'c1']\n"
     ]
    }
   ],
   "source": [
    "# Reglas\n",
    "for i in range(1,len(reglas)-1):\n",
    "    valor = 'R'+str(i)\n",
    "    print(valor,' -> ',reglas[valor])"
   ]
  },
  {
   "cell_type": "code",
   "execution_count": 10,
   "metadata": {},
   "outputs": [
    {
     "name": "stdout",
     "output_type": "stream",
     "text": [
      "R0  ->  ['R1', 'c3', 'R1', 'R2', 'c2', 'R2'] 0\n",
      "R1  ->  ['c1', 'c3'] 2\n",
      "R2  ->  ['c5', 'c1'] 2\n"
     ]
    }
   ],
   "source": [
    "# todo\n",
    "for i in range(0,len(reglas)-1):\n",
    "    valor = 'R'+str(i)\n",
    "    print(valor,' -> ', reglas[valor], contador[valor])"
   ]
  },
  {
   "cell_type": "code",
   "execution_count": null,
   "metadata": {},
   "outputs": [],
   "source": []
  },
  {
   "cell_type": "code",
   "execution_count": null,
   "metadata": {},
   "outputs": [],
   "source": []
  }
 ],
 "metadata": {
  "kernelspec": {
   "display_name": "Python 3",
   "language": "python",
   "name": "python3"
  },
  "language_info": {
   "codemirror_mode": {
    "name": "ipython",
    "version": 3
   },
   "file_extension": ".py",
   "mimetype": "text/x-python",
   "name": "python",
   "nbconvert_exporter": "python",
   "pygments_lexer": "ipython3",
   "version": "3.7.1"
  },
  "toc": {
   "base_numbering": 1,
   "nav_menu": {},
   "number_sections": true,
   "sideBar": true,
   "skip_h1_title": false,
   "title_cell": "Table of Contents",
   "title_sidebar": "Contents",
   "toc_cell": false,
   "toc_position": {},
   "toc_section_display": true,
   "toc_window_display": false
  }
 },
 "nbformat": 4,
 "nbformat_minor": 2
}
