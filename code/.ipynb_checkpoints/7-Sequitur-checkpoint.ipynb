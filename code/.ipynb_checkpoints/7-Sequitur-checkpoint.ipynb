{
 "cells": [
  {
   "cell_type": "code",
   "execution_count": 1,
   "metadata": {},
   "outputs": [],
   "source": [
    "class Rule:\n",
    "    def __init__(self, numRules):\n",
    "        self.number = numRules\n",
    "        self.the_guard = Guard(self)\n",
    "        self.count = 0\n",
    "        self.index = 0\n",
    "\n",
    "    def first(self):\n",
    "        return self.the_guard.n\n",
    "\n",
    "    def last(self):\n",
    "        return self.the_guard.p\n",
    "\n",
    "    def get_rules(self):\n",
    "        reglas = {}\n",
    "        rules = []\n",
    "        processedRules = 0\n",
    "        text = ''\n",
    "        charCounter = 0\n",
    "        text += \"Usage\\tRule\\n\"\n",
    "        reglas[\"reglas\"] = \"Rule\"\n",
    "        reglas2[\"reglas\"] = \"Rule\"\n",
    "        rules.append(self)\n",
    "\n",
    "        while (processedRules < len(rules)):\n",
    "            currentRule = rules[processedRules]\n",
    "            text += \" \" + str(currentRule.count) + '\\tR' + str(processedRules) + ' -> '\n",
    "            sym = currentRule.first()\n",
    "            temporal = []\n",
    "            while True:\n",
    "                if sym.is_guard():\n",
    "                    break\n",
    "                if sym.is_nonterminal():\n",
    "                    rule = sym.r\n",
    "                    if len(rules) > rule.index and rules[rule.index] == rule:\n",
    "                        index = rule.index\n",
    "                    else:\n",
    "                        index = len(rules)\n",
    "                        rule.index = index\n",
    "                        rules.append(rule)\n",
    "                    text += 'R' + str(index)\n",
    "                    temporal.append('R' + str(index))\n",
    "                else:\n",
    "                    if sym.value == ' ':\n",
    "                        text += '_'\n",
    "                        temporal.append('_')\n",
    "                    elif sym.value == '\\n':\n",
    "                        text += '\\\\n'\n",
    "                        temporal.append('\\\\n')\n",
    "                    else:\n",
    "                        text += str(sym.value)\n",
    "                        temporal.append(str(sym.value))\n",
    "                text += ' '\n",
    "                sym = sym.n\n",
    "            reglas['R' + str(processedRules) ] = temporal\n",
    "            reglas2['R' + str(processedRules) ] = str(currentRule.count)\n",
    "            text += '\\n'\n",
    "            processedRules += 1\n",
    "        return text,reglas,reglas2\n"
   ]
  },
  {
   "cell_type": "code",
   "execution_count": 2,
   "metadata": {},
   "outputs": [],
   "source": [
    "class Symbol:\n",
    "    def __init__(self):\n",
    "        self.num_terminals = 100000\n",
    "        self.prime = 2265539\n",
    "        self.value=' '\n",
    "        global digrams\n",
    "\n",
    "    def clone(self):\n",
    "        sym = Symbol()\n",
    "        sym.value = self.value\n",
    "        sym.n = self.n\n",
    "        sym.p = self.p\n",
    "        return sym\n",
    "\n",
    "    def join(self, left, right):\n",
    "        if left.n != None:\n",
    "            left.delete_digram()\n",
    "            if (right.p != None and right.n != None and right.value == right.p.value and right.value == right.n.value):\n",
    "                digrams[str(right.value) + str(right.n.value)] = right\n",
    "            if (left.p != None and left.n != None and left.value == left.p.value and left.value == left.n.value):\n",
    "                digrams[str(left.p.value) + str(left.value)] = left.p\n",
    "        left.n = right\n",
    "        right.p = left\n",
    "\n",
    "    def insert_after(self, to_insert):\n",
    "        self.join(to_insert, self.n)\n",
    "        self.join(self, to_insert)\n",
    "\n",
    "    def digram(self):\n",
    "        return str(self.value) + str(self.n.value)\n",
    "\n",
    "    def delete_digram(self):\n",
    "        if self.n.is_guard(): return\n",
    "\n",
    "        if self.digram() in digrams:\n",
    "            dummy = digrams[self.digram()]\n",
    "            if dummy == self:\n",
    "                del digrams[self.digram()]\n",
    "\n",
    "    def is_guard(self):\n",
    "        return False\n",
    "\n",
    "    def is_nonterminal(self):\n",
    "        return False\n",
    "\n",
    "    def check(self):\n",
    "        if self.n.is_guard():\n",
    "            return False\n",
    "\n",
    "        if self.digram() not in digrams:\n",
    "            digrams[self.digram()] = self\n",
    "            return False\n",
    "\n",
    "        found = digrams[self.digram()]\n",
    "        if found.n != self:\n",
    "            self.match(self, found)\n",
    "        return True\n",
    "\n",
    "    def cleanup(self):\n",
    "        pass\n",
    "\n",
    "    def substitute(self, r):\n",
    "        self.cleanup()\n",
    "        self.n.cleanup()\n",
    "        self.p.insert_after(NonTerminal(r))\n",
    "        if not self.p.check(): self.p.n.check()\n",
    "\n",
    "    def match(self, newD, matching):\n",
    "        #print 'Matching ', newD.value, matching.value\n",
    "        global numRules\n",
    "\n",
    "        if matching.p.is_guard() and matching.n.n.is_guard():\n",
    "            #print 'Using Rule'\n",
    "            r = (matching.p).r\n",
    "            newD.substitute(r)\n",
    "        else:\n",
    "            #print 'Creating Rule'\n",
    "            r = Rule(numRules)\n",
    "            numRules += 1\n",
    "            first = newD.clone()\n",
    "            second = newD.n.clone()\n",
    "            r.the_guard.n = first\n",
    "            first.p = r.the_guard\n",
    "            first.n = second\n",
    "            second.p = first\n",
    "            second.n = r.the_guard\n",
    "            r.the_guard.p = second\n",
    "            matching.substitute(r)\n",
    "            newD.substitute(r)\n",
    "            digrams[str(first.value)+str(first.n.value)]=first\n",
    "\n",
    "        #print 'Checking Rule Utility'\n",
    "        if (r.first()).is_nonterminal() and (r.first()).r.count == 1:\n",
    "            (r.first()).expand()\n",
    "\n",
    "    def hash_code(self):\n",
    "        code = 21599 * self.value + 20507*self.n.value\n",
    "        code = code%self.prime\n",
    "        return code\n",
    "\n",
    "    def equals(self,obj):\n",
    "        return self.value == obj.value and self.n.value == obj.n.value"
   ]
  },
  {
   "cell_type": "code",
   "execution_count": 3,
   "metadata": {},
   "outputs": [],
   "source": [
    "class Terminal(Symbol):\n",
    "    def __init__(self, value):\n",
    "        self.value=value\n",
    "        self.p = None\n",
    "        self.n = None\n",
    "\n",
    "    def cleanup(self):\n",
    "        self.join(self.p, self.n)\n",
    "        self.delete_digram()\n",
    "\n",
    "    def clone(self):\n",
    "        sym = Terminal(self.value)\n",
    "        sym.p = self.p\n",
    "        sym.n = self.n\n",
    "        return sym\n",
    "\n"
   ]
  },
  {
   "cell_type": "code",
   "execution_count": 4,
   "metadata": {},
   "outputs": [],
   "source": [
    "class NonTerminal(Symbol):\n",
    "    def __init__(self, rule):\n",
    "        self.r = rule\n",
    "        self.r.count += 1\n",
    "        #self.value=self.numTerminals+self.r.number\n",
    "        self.value = self.r.number\n",
    "        self.p = None\n",
    "        self.n = None\n",
    "\n",
    "    def clone(self):\n",
    "        sym = NonTerminal(self.r)\n",
    "        sym.p = self.p\n",
    "        sym.n = self.n\n",
    "        return sym\n",
    "\n",
    "    def cleanup(self):\n",
    "        self.join(self.p, self.n)\n",
    "        self.delete_digram()\n",
    "        self.r.count -= 1\n",
    "\n",
    "    def is_nonterminal(self):\n",
    "        return True\n",
    "\n",
    "    def expand(self):\n",
    "        self.join(self.p, self.r.first())\n",
    "        self.join(self.r.last(), self.n)\n",
    "        digrams[str(self.r.last().value) + str(self.r.last().n.value)] = self.r.last()\n",
    "        self.r.the_guard.r = None\n",
    "        self.r.the_guard = None"
   ]
  },
  {
   "cell_type": "code",
   "execution_count": 5,
   "metadata": {},
   "outputs": [],
   "source": [
    "\n",
    "class Guard(Symbol):\n",
    "    def __init__(self, rule):\n",
    "        self.r = rule\n",
    "        self.value = ' '\n",
    "        self.p = self\n",
    "        self.n = self\n",
    "\n",
    "    def cleanup(self):\n",
    "        self.join(self.p, self.n)\n",
    "\n",
    "    def is_guard(self):\n",
    "        return True\n",
    "\n",
    "    def check(self):\n",
    "        return False"
   ]
  },
  {
   "cell_type": "code",
   "execution_count": 13,
   "metadata": {},
   "outputs": [],
   "source": [
    "digrams = {}\n",
    "\n",
    "numRules=0\n",
    "\n",
    "def run_sequitur(text):\n",
    "    global numRules\n",
    "    first_rule = Rule(numRules)\n",
    "    numRules += 1\n",
    "\n",
    "    global digrams\n",
    "    digrams={}\n",
    "\n",
    "    for c in text:\n",
    "        (first_rule.last()).insert_after(Terminal(c))\n",
    "        first_rule.last().p.check()    \n",
    "\n",
    "    res = first_rule.get_rules()\n",
    "    #print(res[0])\n",
    "    #print(res[1])\n",
    "    return res[0],res[1]\n",
    "\n"
   ]
  },
  {
   "cell_type": "code",
   "execution_count": 14,
   "metadata": {},
   "outputs": [],
   "source": [
    "texto = 'bbebeebebeeabcda$$cabb_bebe!!e!!bebebbe$$be_eabcdacabbbe_beebebebbe$$beeabcdacabbbebeebebebbe_eeabcdacabbbebeebebebbebeeabaccdacabbbebeebebebbebeeabcdacabbbebeebebebbebeeabcdacabbbebeebebebbebeeabcdacab'\n",
    "texto2 = (\"C1C12C2C12C19C4C10C19C12C15C12C18C9C2C11C19C5C8C5C18C4C17C4C11C11C2C5C13C6C1C13C20C8C13C6C12C16C7C5C15C6C3C5C18C9C11C14C0C13C16C15C5C16C14C18C6C6C6C1C17C14C1C0C0C11C7C20C10C12C18C14C19C2C5C6C18C14C7C19C19C5C4C13C3C9C2C11C11C12C12C7C15C20C19C9C19C2C14C7C20C8C15C4C2C13C13C17C6C17C13C18C13C14C4C19C11C11C3C14C14C19C16C18C2C13C2C6C19C4C7C16C8C16C0C3C12C17C8C6C6C14C9C4C19C20C1C2C10C18C3C3C12C0C2C17C12C14C16C6C7C11C5C10C9C17C2C6C8C19C1C7C4C3C3C13C11C12C13C3C14C2C4C16C8C14C20C4C0C2C13C18C18C9C19C11C2C1C5C3C16C19C9C8C5C1C14C7C1C8C7C11C4C3C4C2C2C12C5C15C16C19C5C6C3C18C19C20C14C1C16C20C7C17C6C9C10C9C15C19C19C7C15C9C2C6C2C19C20C7C14C10C8C19\")\n",
    "texto3 = [\"c1\",\"c3\",\"c3\",\"c1\",\"c3\",\"c5\",\"c1\",\"c2\",\"c5\",\"c1\"]\n",
    "# run_sequitur(texto2)"
   ]
  },
  {
   "cell_type": "code",
   "execution_count": 15,
   "metadata": {},
   "outputs": [
    {
     "data": {
      "text/plain": [
       "['c1', 'c3', 'c3', 'c1', 'c3', 'c5', 'c1', 'c2', 'c5', 'c1']"
      ]
     },
     "execution_count": 15,
     "metadata": {},
     "output_type": "execute_result"
    }
   ],
   "source": [
    "texto3"
   ]
  },
  {
   "cell_type": "code",
   "execution_count": 16,
   "metadata": {},
   "outputs": [],
   "source": [
    "abc = run_sequitur(texto3)\n",
    "ab = abc[0]\n",
    "abc = abc[1]"
   ]
  },
  {
   "cell_type": "code",
   "execution_count": 17,
   "metadata": {},
   "outputs": [
    {
     "name": "stdout",
     "output_type": "stream",
     "text": [
      "['R1', 'c3', 'R1', 'R2', 'c2', 'R2']\n",
      "['c1', 'c3']\n",
      "['c5', 'c1']\n"
     ]
    }
   ],
   "source": [
    "# Reglas\n",
    "for i in range(0,len(abc)-1):\n",
    "    valor = 'R'+str(i)\n",
    "    print(abc[valor])"
   ]
  },
  {
   "cell_type": "code",
   "execution_count": 19,
   "metadata": {},
   "outputs": [
    {
     "name": "stdout",
     "output_type": "stream",
     "text": [
      "Usage\tRule\n",
      " 0\tR0 -> R1 c3 R1 R2 c2 R2 \n",
      " 2\tR1 -> c1 c3 \n",
      " 2\tR2 -> c5 c1 \n",
      "\n"
     ]
    }
   ],
   "source": [
    "print(ab)"
   ]
  },
  {
   "cell_type": "code",
   "execution_count": null,
   "metadata": {},
   "outputs": [],
   "source": []
  },
  {
   "cell_type": "code",
   "execution_count": null,
   "metadata": {},
   "outputs": [],
   "source": []
  },
  {
   "cell_type": "code",
   "execution_count": null,
   "metadata": {},
   "outputs": [],
   "source": []
  },
  {
   "cell_type": "code",
   "execution_count": null,
   "metadata": {},
   "outputs": [],
   "source": []
  },
  {
   "cell_type": "code",
   "execution_count": null,
   "metadata": {},
   "outputs": [],
   "source": []
  },
  {
   "cell_type": "code",
   "execution_count": null,
   "metadata": {},
   "outputs": [],
   "source": []
  },
  {
   "cell_type": "code",
   "execution_count": null,
   "metadata": {},
   "outputs": [],
   "source": []
  },
  {
   "cell_type": "code",
   "execution_count": null,
   "metadata": {},
   "outputs": [],
   "source": []
  },
  {
   "cell_type": "code",
   "execution_count": null,
   "metadata": {},
   "outputs": [],
   "source": []
  },
  {
   "cell_type": "code",
   "execution_count": 11,
   "metadata": {},
   "outputs": [
    {
     "name": "stdout",
     "output_type": "stream",
     "text": [
      "S ->  ['R1', 'c3', 'R1', 'R2', 'c2', 'R2']\n"
     ]
    }
   ],
   "source": [
    "# S: texto original\n",
    "print('S -> ',abc['R0'])"
   ]
  },
  {
   "cell_type": "code",
   "execution_count": 44,
   "metadata": {},
   "outputs": [
    {
     "name": "stdout",
     "output_type": "stream",
     "text": [
      "R1  ->  ['c1', 'c3']\n",
      "R2  ->  ['c5', 'c1']\n"
     ]
    }
   ],
   "source": [
    "# Reglas\n",
    "for i in range(1,len(abc)-1):\n",
    "    valor = 'R'+str(i)\n",
    "    print(valor,' -> ',abc[valor])"
   ]
  },
  {
   "cell_type": "code",
   "execution_count": null,
   "metadata": {},
   "outputs": [],
   "source": []
  },
  {
   "cell_type": "code",
   "execution_count": 45,
   "metadata": {},
   "outputs": [
    {
     "name": "stdout",
     "output_type": "stream",
     "text": [
      "R0  ->  ['R1', 'c3', 'R1', 'R2', 'c2', 'R2']\n",
      "R1  ->  ['c1', 'c3']\n",
      "R2  ->  ['c5', 'c1']\n"
     ]
    }
   ],
   "source": [
    "# Reglas\n",
    "for i in range(0,len(abc)-1):\n",
    "    valor = 'R'+str(i)\n",
    "    print(valor,' -> ',abc[valor])"
   ]
  },
  {
   "cell_type": "code",
   "execution_count": 46,
   "metadata": {},
   "outputs": [
    {
     "name": "stdout",
     "output_type": "stream",
     "text": [
      "['R1', 'c3', 'R1', 'R2', 'c2', 'R2']\n",
      "['c1', 'c3']\n",
      "['c5', 'c1']\n"
     ]
    }
   ],
   "source": []
  },
  {
   "cell_type": "code",
   "execution_count": null,
   "metadata": {},
   "outputs": [],
   "source": []
  }
 ],
 "metadata": {
  "kernelspec": {
   "display_name": "Python 3",
   "language": "python",
   "name": "python3"
  },
  "language_info": {
   "codemirror_mode": {
    "name": "ipython",
    "version": 3
   },
   "file_extension": ".py",
   "mimetype": "text/x-python",
   "name": "python",
   "nbconvert_exporter": "python",
   "pygments_lexer": "ipython3",
   "version": "3.7.1"
  },
  "toc": {
   "base_numbering": 1,
   "nav_menu": {},
   "number_sections": true,
   "sideBar": true,
   "skip_h1_title": false,
   "title_cell": "Table of Contents",
   "title_sidebar": "Contents",
   "toc_cell": false,
   "toc_position": {},
   "toc_section_display": true,
   "toc_window_display": false
  }
 },
 "nbformat": 4,
 "nbformat_minor": 2
}
