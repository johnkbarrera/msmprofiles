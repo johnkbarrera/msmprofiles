{
 "cells": [
  {
   "cell_type": "markdown",
   "metadata": {},
   "source": [
    "# Analisis"
   ]
  },
  {
   "cell_type": "code",
   "execution_count": 1,
   "metadata": {},
   "outputs": [],
   "source": [
    "import numpy as np\n",
    "\n",
    "import matplotlib\n",
    "matplotlib.use('Agg')\n",
    "import pylab as plt\n",
    "\n",
    "#import matplotlib.pylab as plt\n",
    "\n",
    "\n",
    "import datetime\n",
    "import pandas as pd\n",
    "from matplotlib.ticker import FormatStrFormatter"
   ]
  },
  {
   "cell_type": "code",
   "execution_count": 2,
   "metadata": {},
   "outputs": [],
   "source": [
    "path = \"../data\"   #Path server \n",
    "#path = \"./data\" \n",
    "\n",
    "p_header=\"%s/header.txt\" %(path)\n",
    "p_data=\"%s/mobile_consume.csv\" %(path)"
   ]
  },
  {
   "cell_type": "code",
   "execution_count": 3,
   "metadata": {
    "scrolled": true
   },
   "outputs": [
    {
     "name": "stdout",
     "output_type": "stream",
     "text": [
      "Loaded Data\n"
     ]
    }
   ],
   "source": [
    "header = pd.read_csv(p_header)\n",
    "data = pd.read_csv(p_data , header = None, dtype={'GB_TOTAL': float,'HORA': int}, low_memory=False)\n",
    "\n",
    "#data = pd.read_csv(p_data , header = None,  dtype=None, low_memory=False)\n",
    "data.columns = list(header)\n",
    "print(\"Loaded Data\")"
   ]
  },
  {
   "cell_type": "code",
   "execution_count": 10,
   "metadata": {
    "scrolled": false
   },
   "outputs": [
    {
     "data": {
      "text/html": [
       "<div>\n",
       "<style scoped>\n",
       "    .dataframe tbody tr th:only-of-type {\n",
       "        vertical-align: middle;\n",
       "    }\n",
       "\n",
       "    .dataframe tbody tr th {\n",
       "        vertical-align: top;\n",
       "    }\n",
       "\n",
       "    .dataframe thead th {\n",
       "        text-align: right;\n",
       "    }\n",
       "</style>\n",
       "<table border=\"1\" class=\"dataframe\">\n",
       "  <thead>\n",
       "    <tr style=\"text-align: right;\">\n",
       "      <th></th>\n",
       "      <th>CO_ID</th>\n",
       "      <th>BILLCYCLE</th>\n",
       "      <th>NUMCODPLANTARIFARIO</th>\n",
       "      <th>F_ACT</th>\n",
       "      <th>F_TRAFICO</th>\n",
       "      <th>HORA</th>\n",
       "      <th>GB_TOTAL</th>\n",
       "      <th>NO_FREE</th>\n",
       "      <th>FREE</th>\n",
       "      <th>BANCOS</th>\n",
       "      <th>...</th>\n",
       "      <th>APPLEM_PI</th>\n",
       "      <th>SOUNDC_PI</th>\n",
       "      <th>FACE_PI</th>\n",
       "      <th>MAIL_PI</th>\n",
       "      <th>WHATS_RO_I</th>\n",
       "      <th>WHATS_RO_IF</th>\n",
       "      <th>WAZE_RO</th>\n",
       "      <th>EMAIL_RO</th>\n",
       "      <th>WHARS_RO2</th>\n",
       "      <th>WEEK_DAY</th>\n",
       "    </tr>\n",
       "  </thead>\n",
       "  <tbody>\n",
       "    <tr>\n",
       "      <th>0</th>\n",
       "      <td>9181911</td>\n",
       "      <td>3</td>\n",
       "      <td>1981</td>\n",
       "      <td>14/03/2015</td>\n",
       "      <td>2018-08-03</td>\n",
       "      <td>0</td>\n",
       "      <td>0.0005</td>\n",
       "      <td>0.0004</td>\n",
       "      <td>0.0000</td>\n",
       "      <td>0.0</td>\n",
       "      <td>...</td>\n",
       "      <td>0</td>\n",
       "      <td>0</td>\n",
       "      <td>0</td>\n",
       "      <td>0</td>\n",
       "      <td>0</td>\n",
       "      <td>0</td>\n",
       "      <td>0</td>\n",
       "      <td>0</td>\n",
       "      <td>0</td>\n",
       "      <td>4</td>\n",
       "    </tr>\n",
       "    <tr>\n",
       "      <th>1</th>\n",
       "      <td>9181911</td>\n",
       "      <td>3</td>\n",
       "      <td>1981</td>\n",
       "      <td>14/03/2015</td>\n",
       "      <td>2018-08-03</td>\n",
       "      <td>1</td>\n",
       "      <td>0.0019</td>\n",
       "      <td>0.0014</td>\n",
       "      <td>0.0000</td>\n",
       "      <td>0.0</td>\n",
       "      <td>...</td>\n",
       "      <td>0</td>\n",
       "      <td>0</td>\n",
       "      <td>0</td>\n",
       "      <td>0</td>\n",
       "      <td>0</td>\n",
       "      <td>0</td>\n",
       "      <td>0</td>\n",
       "      <td>0</td>\n",
       "      <td>0</td>\n",
       "      <td>4</td>\n",
       "    </tr>\n",
       "    <tr>\n",
       "      <th>2</th>\n",
       "      <td>9181911</td>\n",
       "      <td>3</td>\n",
       "      <td>1981</td>\n",
       "      <td>14/03/2015</td>\n",
       "      <td>2018-08-03</td>\n",
       "      <td>2</td>\n",
       "      <td>0.0218</td>\n",
       "      <td>0.0204</td>\n",
       "      <td>0.0000</td>\n",
       "      <td>0.0</td>\n",
       "      <td>...</td>\n",
       "      <td>0</td>\n",
       "      <td>0</td>\n",
       "      <td>0</td>\n",
       "      <td>0</td>\n",
       "      <td>0</td>\n",
       "      <td>0</td>\n",
       "      <td>0</td>\n",
       "      <td>0</td>\n",
       "      <td>0</td>\n",
       "      <td>4</td>\n",
       "    </tr>\n",
       "    <tr>\n",
       "      <th>3</th>\n",
       "      <td>9181911</td>\n",
       "      <td>3</td>\n",
       "      <td>1981</td>\n",
       "      <td>14/03/2015</td>\n",
       "      <td>2018-08-03</td>\n",
       "      <td>3</td>\n",
       "      <td>0.4753</td>\n",
       "      <td>0.4716</td>\n",
       "      <td>0.0001</td>\n",
       "      <td>0.0</td>\n",
       "      <td>...</td>\n",
       "      <td>0</td>\n",
       "      <td>0</td>\n",
       "      <td>0</td>\n",
       "      <td>0</td>\n",
       "      <td>0</td>\n",
       "      <td>0</td>\n",
       "      <td>0</td>\n",
       "      <td>0</td>\n",
       "      <td>0</td>\n",
       "      <td>4</td>\n",
       "    </tr>\n",
       "    <tr>\n",
       "      <th>4</th>\n",
       "      <td>9181911</td>\n",
       "      <td>3</td>\n",
       "      <td>1981</td>\n",
       "      <td>14/03/2015</td>\n",
       "      <td>2018-08-04</td>\n",
       "      <td>0</td>\n",
       "      <td>0.0007</td>\n",
       "      <td>0.0007</td>\n",
       "      <td>0.0000</td>\n",
       "      <td>0.0</td>\n",
       "      <td>...</td>\n",
       "      <td>0</td>\n",
       "      <td>0</td>\n",
       "      <td>0</td>\n",
       "      <td>0</td>\n",
       "      <td>0</td>\n",
       "      <td>0</td>\n",
       "      <td>0</td>\n",
       "      <td>0</td>\n",
       "      <td>0</td>\n",
       "      <td>5</td>\n",
       "    </tr>\n",
       "  </tbody>\n",
       "</table>\n",
       "<p>5 rows × 45 columns</p>\n",
       "</div>"
      ],
      "text/plain": [
       "     CO_ID  BILLCYCLE  NUMCODPLANTARIFARIO       F_ACT  F_TRAFICO  HORA  \\\n",
       "0  9181911          3                 1981  14/03/2015 2018-08-03     0   \n",
       "1  9181911          3                 1981  14/03/2015 2018-08-03     1   \n",
       "2  9181911          3                 1981  14/03/2015 2018-08-03     2   \n",
       "3  9181911          3                 1981  14/03/2015 2018-08-03     3   \n",
       "4  9181911          3                 1981  14/03/2015 2018-08-04     0   \n",
       "\n",
       "   GB_TOTAL  NO_FREE    FREE  BANCOS    ...     APPLEM_PI  SOUNDC_PI  FACE_PI  \\\n",
       "0    0.0005   0.0004  0.0000     0.0    ...             0          0        0   \n",
       "1    0.0019   0.0014  0.0000     0.0    ...             0          0        0   \n",
       "2    0.0218   0.0204  0.0000     0.0    ...             0          0        0   \n",
       "3    0.4753   0.4716  0.0001     0.0    ...             0          0        0   \n",
       "4    0.0007   0.0007  0.0000     0.0    ...             0          0        0   \n",
       "\n",
       "   MAIL_PI  WHATS_RO_I  WHATS_RO_IF  WAZE_RO  EMAIL_RO  WHARS_RO2  WEEK_DAY  \n",
       "0        0           0            0        0         0          0         4  \n",
       "1        0           0            0        0         0          0         4  \n",
       "2        0           0            0        0         0          0         4  \n",
       "3        0           0            0        0         0          0         4  \n",
       "4        0           0            0        0         0          0         5  \n",
       "\n",
       "[5 rows x 45 columns]"
      ]
     },
     "execution_count": 10,
     "metadata": {},
     "output_type": "execute_result"
    }
   ],
   "source": [
    "data.head()"
   ]
  },
  {
   "cell_type": "code",
   "execution_count": 11,
   "metadata": {},
   "outputs": [],
   "source": [
    "data[\"BILLCYCLE\"] = data[\"BILLCYCLE\"].fillna(9)"
   ]
  },
  {
   "cell_type": "code",
   "execution_count": 12,
   "metadata": {},
   "outputs": [],
   "source": [
    "data['F_TRAFICO'] = pd.to_datetime(data['F_TRAFICO'], format='%d/%m/%Y', errors='coerce')"
   ]
  },
  {
   "cell_type": "code",
   "execution_count": 13,
   "metadata": {},
   "outputs": [],
   "source": [
    "#data['F_TRAFICO'] = pd.to_datetime(data['F_TRAFICO'])"
   ]
  },
  {
   "cell_type": "code",
   "execution_count": 14,
   "metadata": {},
   "outputs": [
    {
     "name": "stdout",
     "output_type": "stream",
     "text": [
      "Ploting...\n"
     ]
    }
   ],
   "source": [
    "data['WEEK_DAY'] = data['F_TRAFICO'].dt.dayofweek\n",
    "print(\"Ploting...\")"
   ]
  },
  {
   "cell_type": "code",
   "execution_count": 18,
   "metadata": {
    "scrolled": true
   },
   "outputs": [
    {
     "name": "stdout",
     "output_type": "stream",
     "text": [
      "Finalizado\n"
     ]
    }
   ],
   "source": [
    "fig, axes = plt.subplots(1, 4, figsize=(14,2))\n",
    "ax1, ax2, ax3, ax4 = axes.flatten()\n",
    "plt.subplots_adjust(top=1, bottom=0.08, left=0.10, right=0.95, hspace=0.55, wspace=0.55)\n",
    "\n",
    "y = data.groupby(['CO_ID']).count()      # Us por cliente\n",
    "y = y[\"BILLCYCLE\"].tolist()\n",
    "mu = np.mean(y)\n",
    "median = np.median(y)\n",
    "sigma = np.var(y)\n",
    "text = '$\\mu=%.2f$\\n$\\mathrm{median}=%.2f$\\n$\\sigma=%.2f$' % (mu, median, sigma)\n",
    "ax1.hist(y,10)\n",
    "ax1.set_title('Sesiones por Cliente')\n",
    "ax1.set_xlabel('Sessions')\n",
    "ax1.set_ylabel('N° de Clientes')\n",
    "ax1.text(0.15, 0.85, text, transform=ax1.transAxes, fontsize=10, verticalalignment='top')\n",
    "\n",
    "tag =[' ','Madrugada','Mañana','Tarde','Noche']  \n",
    "y = data.groupby(['HORA']).sum()['GB_TOTAL']\n",
    "x = y.index\n",
    "y = y.values\n",
    "ax2.bar(x,y,0.7,color='green')\n",
    "ax2.set_xticklabels(data['HORA'].unique())\n",
    "ax2.set_xticklabels(tag, rotation=70)\n",
    "ax2.set_title('Consumo por Turnos')\n",
    "ax2.set_xlabel('Horas')\n",
    "ax2.set_ylabel('GBs')\n",
    "\n",
    "y = data.groupby(['WEEK_DAY']).sum()['GB_TOTAL']\n",
    "ax3.bar(list(y.keys()),list(y.values),  align='center', color='Orange')\n",
    "ax3.plot(y.index,y.values,'-',color='#ff0000')\n",
    "ax3.plot(y.index,y.values,'ob',color='#990000')\n",
    "ax3.set_title('Consumo Mobil por Dia')\n",
    "ax3.set_xlabel('Dias')\n",
    "ax3.set_ylabel('GBs')\n",
    "\n",
    "y = data.groupby(['BILLCYCLE']).sum()['GB_TOTAL']\n",
    "ax4.bar(list(y.index),y.values,color='Red',label=\"y.index\")\n",
    "ax4.set_title('Consumo Mobil por Billcycle')\n",
    "ax4.set_xlabel('Billcycle')\n",
    "ax4.set_ylabel('GBs')\n",
    "\n",
    "# plt.savefig(\"../resultados/Analisis.png\",dpi = 1000, bbox_inches='tight')\n",
    "plt.show()\n",
    "/print(\"Finalizado\")"
   ]
  },
  {
   "cell_type": "code",
   "execution_count": null,
   "metadata": {},
   "outputs": [],
   "source": []
  },
  {
   "cell_type": "code",
   "execution_count": null,
   "metadata": {},
   "outputs": [],
   "source": []
  },
  {
   "cell_type": "code",
   "execution_count": null,
   "metadata": {},
   "outputs": [],
   "source": []
  },
  {
   "cell_type": "code",
   "execution_count": null,
   "metadata": {},
   "outputs": [],
   "source": []
  }
 ],
 "metadata": {
  "kernelspec": {
   "display_name": "Python 3",
   "language": "python",
   "name": "python3"
  },
  "language_info": {
   "codemirror_mode": {
    "name": "ipython",
    "version": 3
   },
   "file_extension": ".py",
   "mimetype": "text/x-python",
   "name": "python",
   "nbconvert_exporter": "python",
   "pygments_lexer": "ipython3",
   "version": "3.7.1"
  },
  "toc": {
   "base_numbering": 1,
   "nav_menu": {},
   "number_sections": true,
   "sideBar": true,
   "skip_h1_title": false,
   "title_cell": "Table of Contents",
   "title_sidebar": "Contents",
   "toc_cell": false,
   "toc_position": {},
   "toc_section_display": true,
   "toc_window_display": true
  }
 },
 "nbformat": 4,
 "nbformat_minor": 2
}
