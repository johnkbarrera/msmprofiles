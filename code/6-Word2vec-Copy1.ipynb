{
 "cells": [
  {
   "cell_type": "markdown",
   "metadata": {},
   "source": [
    "# Predicción de comportamientos con Word2vec"
   ]
  },
  {
   "cell_type": "markdown",
   "metadata": {},
   "source": [
    "## Importando Datos"
   ]
  },
  {
   "cell_type": "markdown",
   "metadata": {},
   "source": [
    "### Extrayendo la secuencia de Comportamientos Colectivos de los Clientes"
   ]
  },
  {
   "cell_type": "code",
   "execution_count": 1,
   "metadata": {},
   "outputs": [],
   "source": [
    "import pandas as pd\n",
    "import gensim\n",
    "from gensim import corpora, models, similarities"
   ]
  },
  {
   "cell_type": "code",
   "execution_count": 2,
   "metadata": {},
   "outputs": [],
   "source": [
    "# data = pd.read_csv(\"../resultados/mobile_consume1_results.csv\")\n",
    "data = pd.read_csv(\"../../resultados/mobile_consume1_results.csv\")"
   ]
  },
  {
   "cell_type": "code",
   "execution_count": 3,
   "metadata": {},
   "outputs": [],
   "source": [
    "# Lista de Clientes\n",
    "clientes = data.CO_ID.unique()"
   ]
  },
  {
   "cell_type": "code",
   "execution_count": 4,
   "metadata": {},
   "outputs": [],
   "source": [
    "# Lista de Periodos para la Opcion 1\n",
    "year_min = min(data.YEAR) \n",
    "year_max = max(data.YEAR) \n",
    "week_min = min(data.WEEK) \n",
    "week_max = max(data.WEEK) \n",
    "\n",
    "periodos = []\n",
    "\n",
    "if year_min == year_max:\n",
    "    year = year_min\n",
    "    for week in range(week_min,week_max+1):\n",
    "        weeks = \"\"\n",
    "        if week < 10:\n",
    "            weeks = \"0\"+str(week)\n",
    "        else:\n",
    "            weeks = str(week)\n",
    "        periodos.append(str(year)+\"-\"+weeks)\n",
    "        \n",
    "else:\n",
    "    for year in range(year_min,year_max+1):\n",
    "        if year == year_min:\n",
    "            for week in range(week_min,53):\n",
    "                \n",
    "                weeks = \"\"\n",
    "                if week < 10:\n",
    "                    weeks = \"0\"+str(week)\n",
    "                else:\n",
    "                    weeks = str(week)\n",
    "                periodos.append(str(year)+\"-\"+weeks)\n",
    "                #print(year,weeks)\n",
    "                \n",
    "        elif year == year_max:   \n",
    "            for week in range(1,week_max+1):\n",
    "                \n",
    "                weeks = \"\"\n",
    "                if week < 10:\n",
    "                    weeks = \"0\"+str(week)\n",
    "                else:\n",
    "                    weeks = str(week)\n",
    "                periodos.append(str(year)+\"-\"+weeks)\n",
    "                #print(year,weeks)\n",
    "                \n",
    "        else:    \n",
    "            for week in range(1,53):\n",
    "            \n",
    "                weeks = \"\"\n",
    "                if week < 10:\n",
    "                    weeks = \"0\"+str(week)\n",
    "                else:\n",
    "                    weeks = str(week)\n",
    "                periodos.append(str(year)+\"-\"+weeks)\n",
    "                #print(year,weeks)\n"
   ]
  },
  {
   "cell_type": "markdown",
   "metadata": {},
   "source": [
    "## Construyendo CORPUS "
   ]
  },
  {
   "cell_type": "markdown",
   "metadata": {},
   "source": [
    "### Opción 1 (considerando \"SinActividad\")"
   ]
  },
  {
   "cell_type": "code",
   "execution_count": 5,
   "metadata": {},
   "outputs": [],
   "source": [
    "# Construyendo CORPUS CON CADA TEMPORADA DE CLIENTES (considerando las temporadas vacias)\n",
    "\n",
    "comportamientos=[]\n",
    "    \n",
    "for index, cliente in enumerate(clientes):\n",
    "    lista = []\n",
    "    for index, periodo in enumerate(periodos):\n",
    "        lista.append(\"SinActividad\")\n",
    "        \n",
    "    comportamientos.append(lista)\n",
    "    "
   ]
  },
  {
   "cell_type": "code",
   "execution_count": 6,
   "metadata": {},
   "outputs": [],
   "source": [
    "lista_periodos = list(periodos)\n",
    "\n",
    "for i in range(len(data)):\n",
    "    # en la comportamiendo del cliente i\n",
    "    fila = data.loc[i,['CO_ID','YEAR','WEEK','COLLECTIVE_CLUSTER']]\n",
    "    # en el indice del cliente i_c  y del periodo i_p \n",
    "    index_c = list(clientes).index(int(fila[0]))\n",
    "    week = \"\"\n",
    "    if int(fila[2]) < 10:\n",
    "        week = \"0\" + str(int(fila[2]))\n",
    "    else:\n",
    "        week = str(int(fila[2]))\n",
    "    tem = str(int(fila[1]))+\"-\"+week\n",
    "    index_p = lista_periodos.index(tem)\n",
    "        \n",
    "    try:\n",
    "        num = \"\"\n",
    "        if int(fila[3]) < 10:\n",
    "            num = \"0\" + str(int(fila[3]))\n",
    "        else:\n",
    "            num = str(int(fila[3]))\n",
    "        \n",
    "        comportamientos[index_c][index_p] = \"cluster_\"+num\n",
    "    except Exception as e:\n",
    "        print(\"Oops!  That was no valid index.  Try again...\")\n",
    "    "
   ]
  },
  {
   "cell_type": "code",
   "execution_count": 7,
   "metadata": {},
   "outputs": [],
   "source": [
    "tok_corp = comportamientos"
   ]
  },
  {
   "cell_type": "markdown",
   "metadata": {},
   "source": [
    "### Opción 2 (sin considerar \"SinActividad\")"
   ]
  },
  {
   "cell_type": "code",
   "execution_count": null,
   "metadata": {},
   "outputs": [],
   "source": [
    "tok_corp = []\n",
    "\n",
    "for cli in clientes:\n",
    "    data_i = data[(data.CO_ID == cli)]\n",
    "    lista_i = list(data_i.COLLECTIVE_CLUSTER)\n",
    "\n",
    "    for j in range(len(lista_i)):\n",
    "        dat = \"\"\n",
    "        if int(str(lista_i[j])) < 10:\n",
    "            dat = \"0\" + str(lista_i[j])\n",
    "        else:\n",
    "            dat = str(int(fila[2]))\n",
    "            \n",
    "        lista_i[j] = \"cluster_\"+dat\n",
    "    tok_corp.append(lista_i)\n",
    "    "
   ]
  },
  {
   "cell_type": "code",
   "execution_count": null,
   "metadata": {},
   "outputs": [],
   "source": [
    "tok_corp"
   ]
  },
  {
   "cell_type": "markdown",
   "metadata": {},
   "source": [
    "## Modelo"
   ]
  },
  {
   "cell_type": "code",
   "execution_count": 66,
   "metadata": {},
   "outputs": [],
   "source": [
    "model = gensim.models.Word2Vec(tok_corp, min_count = 5, window=5, size = 7)"
   ]
  },
  {
   "cell_type": "code",
   "execution_count": 70,
   "metadata": {},
   "outputs": [],
   "source": [
    "# Diccionario\n",
    "\n",
    "# sorted(model.wv.index2word)"
   ]
  },
  {
   "cell_type": "code",
   "execution_count": 68,
   "metadata": {
    "scrolled": true
   },
   "outputs": [
    {
     "name": "stdout",
     "output_type": "stream",
     "text": [
      "['SinActividad', 'cluster_00', 'cluster_01', 'cluster_02', 'cluster_03', 'cluster_04', 'cluster_05', 'cluster_06', 'cluster_07', 'cluster_08', 'cluster_09', 'cluster_10', 'cluster_11', 'cluster_12', 'cluster_13', 'cluster_14', 'cluster_15', 'cluster_16', 'cluster_17', 'cluster_18', 'cluster_19', 'cluster_20', 'cluster_21', 'cluster_22', 'cluster_23', 'cluster_24', 'cluster_25', 'cluster_26', 'cluster_27', 'cluster_28', 'cluster_29', 'cluster_30', 'cluster_31', 'cluster_32', 'cluster_33', 'cluster_34', 'cluster_35', 'cluster_36', 'cluster_37', 'cluster_38', 'cluster_39', 'cluster_40', 'cluster_41', 'cluster_42', 'cluster_43', 'cluster_44', 'cluster_45', 'cluster_46', 'cluster_47', 'cluster_48', 'cluster_49', 'cluster_50', 'cluster_51', 'cluster_52', 'cluster_53', 'cluster_54', 'cluster_55', 'cluster_56', 'cluster_57', 'cluster_58', 'cluster_59', 'cluster_60', 'cluster_61', 'cluster_62', 'cluster_63', 'cluster_64', 'cluster_65', 'cluster_66', 'cluster_67', 'cluster_68', 'cluster_69']\n",
      "Cantidad = 71\n"
     ]
    }
   ],
   "source": [
    "# VOCABULARIO\n",
    "\n",
    "print(sorted(list(model.wv.vocab.keys())))\n",
    "print(\"Cantidad = \"+str(len(model.wv.vocab)))"
   ]
  },
  {
   "cell_type": "markdown",
   "metadata": {},
   "source": [
    "### Resultados"
   ]
  },
  {
   "cell_type": "code",
   "execution_count": 27,
   "metadata": {
    "scrolled": false
   },
   "outputs": [
    {
     "name": "stderr",
     "output_type": "stream",
     "text": [
      "/home/jkn/anaconda3/lib/python3.6/site-packages/ipykernel_launcher.py:1: DeprecationWarning: Call to deprecated `most_similar` (Method will be removed in 4.0.0, use self.wv.most_similar() instead).\n",
      "  \"\"\"Entry point for launching an IPython kernel.\n",
      "/home/jkn/anaconda3/lib/python3.6/site-packages/gensim/matutils.py:737: FutureWarning: Conversion of the second argument of issubdtype from `int` to `np.signedinteger` is deprecated. In future, it will be treated as `np.int64 == np.dtype(int).type`.\n",
      "  if np.issubdtype(vec.dtype, np.int):\n"
     ]
    },
    {
     "data": {
      "text/plain": [
       "[('cluster_27', 0.8433127403259277),\n",
       " ('cluster_41', 0.8374015092849731),\n",
       " ('cluster_09', 0.8179642558097839),\n",
       " ('cluster_44', 0.815779447555542),\n",
       " ('cluster_32', 0.7600679397583008),\n",
       " ('cluster_35', 0.7594320178031921),\n",
       " ('cluster_04', 0.7386809587478638),\n",
       " ('cluster_59', 0.7298378348350525),\n",
       " ('cluster_47', 0.7173379063606262),\n",
       " ('cluster_39', 0.707004189491272)]"
      ]
     },
     "execution_count": 27,
     "metadata": {},
     "output_type": "execute_result"
    }
   ],
   "source": [
    "model.most_similar(\"cluster_00\")"
   ]
  },
  {
   "cell_type": "code",
   "execution_count": 28,
   "metadata": {},
   "outputs": [],
   "source": [
    "import random"
   ]
  },
  {
   "cell_type": "code",
   "execution_count": 63,
   "metadata": {},
   "outputs": [],
   "source": [
    "prueba = []\n",
    "\n",
    "\"\"\"for i in range(3): \n",
    "    prueba.append(\"cluster_\"+str(random.randint(0,69))+\".0\")\n",
    "    \"\"\"\n",
    "prueba = ['cluster_29',\"cluster_00\", \"SinActividad\", \"SinActividad\"]"
   ]
  },
  {
   "cell_type": "code",
   "execution_count": 64,
   "metadata": {},
   "outputs": [
    {
     "data": {
      "text/plain": [
       "['cluster_29', 'cluster_00', 'SinActividad', 'SinActividad']"
      ]
     },
     "execution_count": 64,
     "metadata": {},
     "output_type": "execute_result"
    }
   ],
   "source": [
    "prueba"
   ]
  },
  {
   "cell_type": "code",
   "execution_count": 65,
   "metadata": {},
   "outputs": [
    {
     "data": {
      "text/plain": [
       "[('cluster_00', 0.03985915),\n",
       " ('cluster_27', 0.03670628),\n",
       " ('cluster_41', 0.03650439),\n",
       " ('cluster_09', 0.03147976),\n",
       " ('cluster_35', 0.028495274)]"
      ]
     },
     "execution_count": 65,
     "metadata": {},
     "output_type": "execute_result"
    }
   ],
   "source": [
    "# Predicion de la siguiente palabra\n",
    "\n",
    "model.predict_output_word(prueba, topn=5)"
   ]
  },
  {
   "cell_type": "code",
   "execution_count": 56,
   "metadata": {
    "scrolled": true
   },
   "outputs": [
    {
     "data": {
      "text/plain": [
       "[('cluster_49', 0.02102846),\n",
       " ('cluster_35', 0.020178417),\n",
       " ('cluster_15', 0.020018263),\n",
       " ('cluster_07', 0.019643178),\n",
       " ('cluster_40', 0.019266814),\n",
       " ('cluster_25', 0.019191433),\n",
       " ('cluster_27', 0.019084098),\n",
       " ('cluster_66', 0.018588684),\n",
       " ('cluster_56', 0.018498663),\n",
       " ('cluster_46', 0.018433262),\n",
       " ('cluster_04', 0.017946504),\n",
       " ('cluster_26', 0.017863272),\n",
       " ('cluster_44', 0.01784515),\n",
       " ('cluster_32', 0.01722876),\n",
       " ('cluster_55', 0.017153617),\n",
       " ('cluster_64', 0.016960876),\n",
       " ('cluster_59', 0.016897112),\n",
       " ('cluster_47', 0.016843623),\n",
       " ('cluster_36', 0.01680604),\n",
       " ('cluster_60', 0.016775558)]"
      ]
     },
     "execution_count": 56,
     "metadata": {},
     "output_type": "execute_result"
    }
   ],
   "source": [
    "model.predict_output_word(prueba, topn=20)"
   ]
  },
  {
   "cell_type": "code",
   "execution_count": 46,
   "metadata": {
    "scrolled": false
   },
   "outputs": [
    {
     "name": "stderr",
     "output_type": "stream",
     "text": [
      "/home/jkn/anaconda3/lib/python3.6/site-packages/ipykernel_launcher.py:3: DeprecationWarning: Call to deprecated `__getitem__` (Method will be removed in 4.0.0, use self.wv.__getitem__() instead).\n",
      "  This is separate from the ipykernel package so we can avoid doing imports until\n"
     ]
    },
    {
     "data": {
      "text/plain": [
       "array([-4.012762  ,  0.37017253, -3.2437015 ,  0.18191081, -1.0842882 ,\n",
       "        1.6514736 , -0.7659784 ], dtype=float32)"
      ]
     },
     "execution_count": 46,
     "metadata": {},
     "output_type": "execute_result"
    }
   ],
   "source": [
    "# Modelos\n",
    "\n",
    "model[\"cluster_00\"]"
   ]
  },
  {
   "cell_type": "code",
   "execution_count": 47,
   "metadata": {},
   "outputs": [
    {
     "name": "stderr",
     "output_type": "stream",
     "text": [
      "/home/jkn/anaconda3/lib/python3.6/site-packages/ipykernel_launcher.py:1: DeprecationWarning: Call to deprecated `__getitem__` (Method will be removed in 4.0.0, use self.wv.__getitem__() instead).\n",
      "  \"\"\"Entry point for launching an IPython kernel.\n"
     ]
    },
    {
     "data": {
      "text/plain": [
       "array([ 0.13033447,  0.2978028 , -0.72173613,  0.21796066, -0.3534182 ,\n",
       "        0.6917916 ,  0.27593198], dtype=float32)"
      ]
     },
     "execution_count": 47,
     "metadata": {},
     "output_type": "execute_result"
    }
   ],
   "source": [
    "model[\"SinActividad\"]"
   ]
  },
  {
   "cell_type": "code",
   "execution_count": 48,
   "metadata": {},
   "outputs": [
    {
     "name": "stderr",
     "output_type": "stream",
     "text": [
      "/home/jkn/anaconda3/lib/python3.6/site-packages/ipykernel_launcher.py:3: DeprecationWarning: Call to deprecated `most_similar` (Method will be removed in 4.0.0, use self.wv.most_similar() instead).\n",
      "  This is separate from the ipykernel package so we can avoid doing imports until\n",
      "/home/jkn/anaconda3/lib/python3.6/site-packages/gensim/matutils.py:737: FutureWarning: Conversion of the second argument of issubdtype from `int` to `np.signedinteger` is deprecated. In future, it will be treated as `np.int64 == np.dtype(int).type`.\n",
      "  if np.issubdtype(vec.dtype, np.int):\n"
     ]
    },
    {
     "data": {
      "text/plain": [
       "[('cluster_05', 0.6292538642883301),\n",
       " ('cluster_31', 0.6106607913970947),\n",
       " ('cluster_51', 0.5814326405525208),\n",
       " ('cluster_12', 0.5633707642555237),\n",
       " ('cluster_45', 0.5283991098403931),\n",
       " ('cluster_24', 0.5118153095245361),\n",
       " ('cluster_49', 0.5116891860961914),\n",
       " ('cluster_59', 0.5043812990188599),\n",
       " ('cluster_00', 0.5043807029724121),\n",
       " ('cluster_09', 0.4900956153869629)]"
      ]
     },
     "execution_count": 48,
     "metadata": {},
     "output_type": "execute_result"
    }
   ],
   "source": [
    "# Parecidos\n",
    "\n",
    "model.most_similar([\"SinActividad\"])"
   ]
  },
  {
   "cell_type": "code",
   "execution_count": 49,
   "metadata": {
    "scrolled": true
   },
   "outputs": [
    {
     "name": "stderr",
     "output_type": "stream",
     "text": [
      "/home/jkn/anaconda3/lib/python3.6/site-packages/ipykernel_launcher.py:1: DeprecationWarning: Call to deprecated `most_similar` (Method will be removed in 4.0.0, use self.wv.most_similar() instead).\n",
      "  \"\"\"Entry point for launching an IPython kernel.\n",
      "/home/jkn/anaconda3/lib/python3.6/site-packages/gensim/matutils.py:737: FutureWarning: Conversion of the second argument of issubdtype from `int` to `np.signedinteger` is deprecated. In future, it will be treated as `np.int64 == np.dtype(int).type`.\n",
      "  if np.issubdtype(vec.dtype, np.int):\n"
     ]
    },
    {
     "data": {
      "text/plain": [
       "[('cluster_51', 0.9146233201026917),\n",
       " ('cluster_12', 0.8005421757698059),\n",
       " ('cluster_62', 0.7763609886169434),\n",
       " ('cluster_50', 0.7576356530189514),\n",
       " ('cluster_48', 0.7394227981567383),\n",
       " ('cluster_08', 0.7371989488601685),\n",
       " ('cluster_37', 0.7224788069725037),\n",
       " ('cluster_40', 0.7164984345436096),\n",
       " ('cluster_41', 0.7058554887771606),\n",
       " ('cluster_59', 0.6882692575454712)]"
      ]
     },
     "execution_count": 49,
     "metadata": {},
     "output_type": "execute_result"
    }
   ],
   "source": [
    "model.most_similar([\"cluster_05\"])"
   ]
  },
  {
   "cell_type": "code",
   "execution_count": 50,
   "metadata": {},
   "outputs": [
    {
     "name": "stderr",
     "output_type": "stream",
     "text": [
      "/home/jkn/anaconda3/lib/python3.6/site-packages/ipykernel_launcher.py:1: DeprecationWarning: Call to deprecated `most_similar` (Method will be removed in 4.0.0, use self.wv.most_similar() instead).\n",
      "  \"\"\"Entry point for launching an IPython kernel.\n",
      "/home/jkn/anaconda3/lib/python3.6/site-packages/gensim/matutils.py:737: FutureWarning: Conversion of the second argument of issubdtype from `int` to `np.signedinteger` is deprecated. In future, it will be treated as `np.int64 == np.dtype(int).type`.\n",
      "  if np.issubdtype(vec.dtype, np.int):\n"
     ]
    },
    {
     "data": {
      "text/plain": [
       "[('cluster_05', 0.9146233201026917),\n",
       " ('cluster_08', 0.7733933925628662),\n",
       " ('cluster_62', 0.7488337755203247),\n",
       " ('cluster_40', 0.7364148497581482),\n",
       " ('cluster_50', 0.7140761613845825),\n",
       " ('cluster_57', 0.7080239057540894),\n",
       " ('cluster_07', 0.6977671384811401),\n",
       " ('cluster_49', 0.668401837348938),\n",
       " ('cluster_12', 0.6642203330993652),\n",
       " ('cluster_37', 0.6386265158653259)]"
      ]
     },
     "execution_count": 50,
     "metadata": {},
     "output_type": "execute_result"
    }
   ],
   "source": [
    "model.most_similar([\"cluster_51\"])"
   ]
  },
  {
   "cell_type": "markdown",
   "metadata": {},
   "source": [
    "### Referencias"
   ]
  },
  {
   "cell_type": "code",
   "execution_count": 51,
   "metadata": {},
   "outputs": [],
   "source": [
    "\n",
    "# https://github.com/RaRe-Technologies/gensim/tree/develop/docs/notebooks\n",
    "    "
   ]
  },
  {
   "cell_type": "code",
   "execution_count": null,
   "metadata": {},
   "outputs": [],
   "source": []
  },
  {
   "cell_type": "code",
   "execution_count": null,
   "metadata": {},
   "outputs": [],
   "source": []
  },
  {
   "cell_type": "code",
   "execution_count": null,
   "metadata": {},
   "outputs": [],
   "source": []
  },
  {
   "cell_type": "code",
   "execution_count": null,
   "metadata": {},
   "outputs": [],
   "source": []
  }
 ],
 "metadata": {
  "kernelspec": {
   "display_name": "Python 3",
   "language": "python",
   "name": "python3"
  },
  "language_info": {
   "codemirror_mode": {
    "name": "ipython",
    "version": 3
   },
   "file_extension": ".py",
   "mimetype": "text/x-python",
   "name": "python",
   "nbconvert_exporter": "python",
   "pygments_lexer": "ipython3",
   "version": "3.6.5"
  },
  "toc": {
   "base_numbering": 1,
   "nav_menu": {},
   "number_sections": false,
   "sideBar": true,
   "skip_h1_title": false,
   "title_cell": "Table of Contents",
   "title_sidebar": "Contents",
   "toc_cell": false,
   "toc_position": {
    "height": "calc(100% - 180px)",
    "left": "10px",
    "top": "150px",
    "width": "280px"
   },
   "toc_section_display": true,
   "toc_window_display": true
  }
 },
 "nbformat": 4,
 "nbformat_minor": 2
}
