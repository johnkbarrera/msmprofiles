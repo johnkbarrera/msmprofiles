{
 "cells": [
  {
   "cell_type": "markdown",
   "metadata": {},
   "source": [
    "# JOIN GROUPS"
   ]
  },
  {
   "cell_type": "code",
   "execution_count": 9,
   "metadata": {},
   "outputs": [],
   "source": [
    "import numpy as np\n",
    "import datetime\n",
    "from datetime import date\n",
    "import json\n",
    "import pylab\n",
    "import pandas as pd\n",
    "import matplotlib.pyplot as plt\n",
    "import os, sys\n",
    "from sklearn.preprocessing import normalize"
   ]
  },
  {
   "cell_type": "markdown",
   "metadata": {},
   "source": [
    "# RESULTADOS"
   ]
  },
  {
   "cell_type": "markdown",
   "metadata": {},
   "source": [
    "## Unimos los resultados por cada mccg"
   ]
  },
  {
   "cell_type": "markdown",
   "metadata": {},
   "source": [
    "Juntamos los datos originales con sus etiquetas de cluster individuale y cluster colectivo correspondientes.\n",
    "\n",
    "<div>Utulizamos solo 2 variables para el ahorro de memoria. </div>"
   ]
  },
  {
   "cell_type": "code",
   "execution_count": 10,
   "metadata": {
    "scrolled": true
   },
   "outputs": [],
   "source": [
    "path='./resultados' \n",
    "\n",
    "file=\"%s/U\" %(path) \n",
    "footprint=\"%s.footprint\" %(file)\n",
    "individual_clusters=\"%s.individual_footprint.clusters\" %(file)\n",
    "individual_labels=\"%s.individual_footprint.labels\" %(file)   \n",
    "collective_clusters=\"%s.collective_footprint.clusters\" %(file)\n",
    "collective_labels=\"%s.collective_footprint.labels\" %(file)"
   ]
  },
  {
   "cell_type": "code",
   "execution_count": 11,
   "metadata": {},
   "outputs": [],
   "source": [
    "# read file collective_labels\n",
    "b = pd.read_csv(collective_labels, sep=\";\", header=0, index_col=False, low_memory=False)[['CO_ID', 'INDIVIDUAL_CLUSTER', 'COLLECTIVE_CLUSTER']] \n",
    "# read file individual_labels\n",
    "a = pd.read_csv(individual_labels, sep=\";\", header=0, index_col=False, dtype={'WEEK': str,'YEAR': str}, low_memory=False)[['CO_ID', 'YEAR', 'WEEK', 'INDIVIDUAL_CLUSTER']]"
   ]
  },
  {
   "cell_type": "code",
   "execution_count": 12,
   "metadata": {},
   "outputs": [],
   "source": [
    "b = pd.merge(a, b, on=['CO_ID', 'INDIVIDUAL_CLUSTER'])\n",
    "del(a)"
   ]
  },
  {
   "cell_type": "code",
   "execution_count": 13,
   "metadata": {
    "scrolled": false
   },
   "outputs": [],
   "source": [
    "a = pd.read_csv(footprint, sep=\",\", header=0, dtype={'YEAR': str,'WEEK': str}, low_memory=False)   ## read file"
   ]
  },
  {
   "cell_type": "code",
   "execution_count": 14,
   "metadata": {},
   "outputs": [],
   "source": [
    "a = pd.merge(a, b, on=['CO_ID','YEAR', 'WEEK'])\n",
    "del(b)"
   ]
  },
  {
   "cell_type": "code",
   "execution_count": 15,
   "metadata": {},
   "outputs": [
    {
     "data": {
      "text/plain": [
       "550"
      ]
     },
     "execution_count": 15,
     "metadata": {},
     "output_type": "execute_result"
    }
   ],
   "source": [
    "len(a)"
   ]
  },
  {
   "cell_type": "code",
   "execution_count": 16,
   "metadata": {},
   "outputs": [
    {
     "name": "stdout",
     "output_type": "stream",
     "text": [
      "Done\n"
     ]
    }
   ],
   "source": [
    "path_res='%s/Results.csv' %(path)\n",
    "a.to_csv(path_res,index=False)\n",
    "del a\n",
    "print('Done')"
   ]
  },
  {
   "cell_type": "code",
   "execution_count": null,
   "metadata": {},
   "outputs": [],
   "source": []
  }
 ],
 "metadata": {
  "kernelspec": {
   "display_name": "Python 3",
   "language": "python",
   "name": "python3"
  },
  "language_info": {
   "codemirror_mode": {
    "name": "ipython",
    "version": 3
   },
   "file_extension": ".py",
   "mimetype": "text/x-python",
   "name": "python",
   "nbconvert_exporter": "python",
   "pygments_lexer": "ipython3",
   "version": "3.6.5"
  },
  "toc": {
   "base_numbering": 1,
   "nav_menu": {},
   "number_sections": false,
   "sideBar": true,
   "skip_h1_title": false,
   "title_cell": "Table of Contents",
   "title_sidebar": "Contents",
   "toc_cell": false,
   "toc_position": {
    "height": "calc(100% - 180px)",
    "left": "10px",
    "top": "150px",
    "width": "280px"
   },
   "toc_section_display": true,
   "toc_window_display": true
  }
 },
 "nbformat": 4,
 "nbformat_minor": 2
}
