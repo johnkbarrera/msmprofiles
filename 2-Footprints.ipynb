{
 "cells": [
  {
   "cell_type": "markdown",
   "metadata": {},
   "source": [
    "# CONSTRUCCIÓN DE LOS \"FOOTPRINTS\""
   ]
  },
  {
   "cell_type": "markdown",
   "metadata": {},
   "source": [
    "Construimos los footprints temporales de cada cliente a partir de sus transacciones, de tal manera que agrupamos en un intervalo de d días.\n",
    "\n",
    "\n",
    "Dado:\n",
    "\n",
    "    Sesion de TX\n",
    "        s = {cliente, timestamp, Monto}\n",
    "    \n",
    "    Cada cliente tiene una secuencia de sesiones de TX (S)\n",
    "        S = { s1, s2 , s3, ..., sn}                n: # de sesiones de cada cliente\n",
    "        \n",
    "        "
   ]
  },
  {
   "cell_type": "code",
   "execution_count": 1,
   "metadata": {},
   "outputs": [],
   "source": [
    "# LIBRERIAS\n",
    "import numpy as np\n",
    "import datetime\n",
    "from datetime import date\n",
    "import json\n",
    "import pylab\n",
    "import pandas as pd\n",
    "import matplotlib.pyplot as plt\n",
    "import os, sys"
   ]
  },
  {
   "cell_type": "markdown",
   "metadata": {},
   "source": [
    "## Preparacion de datos"
   ]
  },
  {
   "cell_type": "markdown",
   "metadata": {},
   "source": [
    "### Cargando datos"
   ]
  },
  {
   "cell_type": "code",
   "execution_count": 2,
   "metadata": {
    "scrolled": false
   },
   "outputs": [
    {
     "data": {
      "text/html": [
       "<div>\n",
       "<style scoped>\n",
       "    .dataframe tbody tr th:only-of-type {\n",
       "        vertical-align: middle;\n",
       "    }\n",
       "\n",
       "    .dataframe tbody tr th {\n",
       "        vertical-align: top;\n",
       "    }\n",
       "\n",
       "    .dataframe thead th {\n",
       "        text-align: right;\n",
       "    }\n",
       "</style>\n",
       "<table border=\"1\" class=\"dataframe\">\n",
       "  <thead>\n",
       "    <tr style=\"text-align: right;\">\n",
       "      <th></th>\n",
       "      <th>CO_ID</th>\n",
       "      <th>BILLCYCLE</th>\n",
       "      <th>NUMCODPLANTARIFARIO</th>\n",
       "      <th>F_ACT</th>\n",
       "      <th>F_TRAFICO</th>\n",
       "      <th>HORA</th>\n",
       "      <th>GB_TOTAL</th>\n",
       "      <th>NO_FREE</th>\n",
       "      <th>FREE</th>\n",
       "      <th>BANCOS</th>\n",
       "      <th>...</th>\n",
       "      <th>SPOTIFY_PI</th>\n",
       "      <th>APPLEM_PI</th>\n",
       "      <th>SOUNDC_PI</th>\n",
       "      <th>FACE_PI</th>\n",
       "      <th>MAIL_PI</th>\n",
       "      <th>WHATS_RO_I</th>\n",
       "      <th>WHATS_RO_IF</th>\n",
       "      <th>WAZE_RO</th>\n",
       "      <th>EMAIL_RO</th>\n",
       "      <th>WHARS_RO2</th>\n",
       "    </tr>\n",
       "  </thead>\n",
       "  <tbody>\n",
       "    <tr>\n",
       "      <th>0</th>\n",
       "      <td>27782393</td>\n",
       "      <td>3.0</td>\n",
       "      <td>1981</td>\n",
       "      <td>11/11/2016</td>\n",
       "      <td>02/08/2018</td>\n",
       "      <td>Noche</td>\n",
       "      <td>0.0000</td>\n",
       "      <td>0.0000</td>\n",
       "      <td>0.0000</td>\n",
       "      <td>0.0</td>\n",
       "      <td>...</td>\n",
       "      <td>0</td>\n",
       "      <td>0</td>\n",
       "      <td>0</td>\n",
       "      <td>0</td>\n",
       "      <td>0</td>\n",
       "      <td>0.0</td>\n",
       "      <td>0.0</td>\n",
       "      <td>0.0</td>\n",
       "      <td>0</td>\n",
       "      <td>0.0</td>\n",
       "    </tr>\n",
       "    <tr>\n",
       "      <th>1</th>\n",
       "      <td>41901365</td>\n",
       "      <td>5.0</td>\n",
       "      <td>1982</td>\n",
       "      <td>20/01/2018</td>\n",
       "      <td>02/08/2018</td>\n",
       "      <td>Mañana</td>\n",
       "      <td>0.0411</td>\n",
       "      <td>0.0301</td>\n",
       "      <td>0.0007</td>\n",
       "      <td>0.0</td>\n",
       "      <td>...</td>\n",
       "      <td>0</td>\n",
       "      <td>0</td>\n",
       "      <td>0</td>\n",
       "      <td>0</td>\n",
       "      <td>0</td>\n",
       "      <td>0.0</td>\n",
       "      <td>0.0</td>\n",
       "      <td>0.0</td>\n",
       "      <td>0</td>\n",
       "      <td>0.0</td>\n",
       "    </tr>\n",
       "    <tr>\n",
       "      <th>2</th>\n",
       "      <td>31801426</td>\n",
       "      <td>5.0</td>\n",
       "      <td>1981</td>\n",
       "      <td>17/04/2017</td>\n",
       "      <td>02/08/2018</td>\n",
       "      <td>Madrugada</td>\n",
       "      <td>0.0138</td>\n",
       "      <td>0.0078</td>\n",
       "      <td>0.0014</td>\n",
       "      <td>0.0</td>\n",
       "      <td>...</td>\n",
       "      <td>0</td>\n",
       "      <td>0</td>\n",
       "      <td>0</td>\n",
       "      <td>0</td>\n",
       "      <td>0</td>\n",
       "      <td>0.0</td>\n",
       "      <td>0.0</td>\n",
       "      <td>0.0</td>\n",
       "      <td>0</td>\n",
       "      <td>0.0</td>\n",
       "    </tr>\n",
       "    <tr>\n",
       "      <th>3</th>\n",
       "      <td>41410806</td>\n",
       "      <td>4.0</td>\n",
       "      <td>1982</td>\n",
       "      <td>05/01/2018</td>\n",
       "      <td>02/08/2018</td>\n",
       "      <td>Madrugada</td>\n",
       "      <td>0.0799</td>\n",
       "      <td>0.0603</td>\n",
       "      <td>0.0078</td>\n",
       "      <td>0.0</td>\n",
       "      <td>...</td>\n",
       "      <td>0</td>\n",
       "      <td>0</td>\n",
       "      <td>0</td>\n",
       "      <td>0</td>\n",
       "      <td>0</td>\n",
       "      <td>0.0</td>\n",
       "      <td>0.0</td>\n",
       "      <td>0.0</td>\n",
       "      <td>0</td>\n",
       "      <td>0.0</td>\n",
       "    </tr>\n",
       "    <tr>\n",
       "      <th>4</th>\n",
       "      <td>42886287</td>\n",
       "      <td>5.0</td>\n",
       "      <td>1981</td>\n",
       "      <td>20/02/2018</td>\n",
       "      <td>02/08/2018</td>\n",
       "      <td>Mañana</td>\n",
       "      <td>0.2182</td>\n",
       "      <td>0.0096</td>\n",
       "      <td>0.0000</td>\n",
       "      <td>0.0</td>\n",
       "      <td>...</td>\n",
       "      <td>0</td>\n",
       "      <td>0</td>\n",
       "      <td>0</td>\n",
       "      <td>0</td>\n",
       "      <td>0</td>\n",
       "      <td>0.0</td>\n",
       "      <td>0.0</td>\n",
       "      <td>0.0</td>\n",
       "      <td>0</td>\n",
       "      <td>0.0</td>\n",
       "    </tr>\n",
       "  </tbody>\n",
       "</table>\n",
       "<p>5 rows × 44 columns</p>\n",
       "</div>"
      ],
      "text/plain": [
       "      CO_ID  BILLCYCLE  NUMCODPLANTARIFARIO       F_ACT   F_TRAFICO  \\\n",
       "0  27782393        3.0                 1981  11/11/2016  02/08/2018   \n",
       "1  41901365        5.0                 1982  20/01/2018  02/08/2018   \n",
       "2  31801426        5.0                 1981  17/04/2017  02/08/2018   \n",
       "3  41410806        4.0                 1982  05/01/2018  02/08/2018   \n",
       "4  42886287        5.0                 1981  20/02/2018  02/08/2018   \n",
       "\n",
       "        HORA  GB_TOTAL  NO_FREE    FREE  BANCOS    ...      SPOTIFY_PI  \\\n",
       "0      Noche    0.0000   0.0000  0.0000     0.0    ...               0   \n",
       "1     Mañana    0.0411   0.0301  0.0007     0.0    ...               0   \n",
       "2  Madrugada    0.0138   0.0078  0.0014     0.0    ...               0   \n",
       "3  Madrugada    0.0799   0.0603  0.0078     0.0    ...               0   \n",
       "4     Mañana    0.2182   0.0096  0.0000     0.0    ...               0   \n",
       "\n",
       "   APPLEM_PI  SOUNDC_PI  FACE_PI  MAIL_PI  WHATS_RO_I  WHATS_RO_IF  WAZE_RO  \\\n",
       "0          0          0        0        0         0.0          0.0      0.0   \n",
       "1          0          0        0        0         0.0          0.0      0.0   \n",
       "2          0          0        0        0         0.0          0.0      0.0   \n",
       "3          0          0        0        0         0.0          0.0      0.0   \n",
       "4          0          0        0        0         0.0          0.0      0.0   \n",
       "\n",
       "   EMAIL_RO  WHARS_RO2  \n",
       "0         0        0.0  \n",
       "1         0        0.0  \n",
       "2         0        0.0  \n",
       "3         0        0.0  \n",
       "4         0        0.0  \n",
       "\n",
       "[5 rows x 44 columns]"
      ]
     },
     "execution_count": 2,
     "metadata": {},
     "output_type": "execute_result"
    }
   ],
   "source": [
    "data_original = pd.read_csv(\"./data/muestra.csv\", encoding = \"iso-8859-1\")\n",
    "data_original.head()"
   ]
  },
  {
   "cell_type": "markdown",
   "metadata": {},
   "source": [
    "### Preparacion de datos"
   ]
  },
  {
   "cell_type": "code",
   "execution_count": 3,
   "metadata": {
    "scrolled": false
   },
   "outputs": [
    {
     "name": "stderr",
     "output_type": "stream",
     "text": [
      "/home/jkn/anaconda3/lib/python3.6/site-packages/ipykernel_launcher.py:2: SettingWithCopyWarning: \n",
      "A value is trying to be set on a copy of a slice from a DataFrame.\n",
      "Try using .loc[row_indexer,col_indexer] = value instead\n",
      "\n",
      "See the caveats in the documentation: http://pandas.pydata.org/pandas-docs/stable/indexing.html#indexing-view-versus-copy\n",
      "  \n",
      "/home/jkn/anaconda3/lib/python3.6/site-packages/ipykernel_launcher.py:3: SettingWithCopyWarning: \n",
      "A value is trying to be set on a copy of a slice from a DataFrame.\n",
      "Try using .loc[row_indexer,col_indexer] = value instead\n",
      "\n",
      "See the caveats in the documentation: http://pandas.pydata.org/pandas-docs/stable/indexing.html#indexing-view-versus-copy\n",
      "  This is separate from the ipykernel package so we can avoid doing imports until\n",
      "/home/jkn/anaconda3/lib/python3.6/site-packages/ipykernel_launcher.py:4: SettingWithCopyWarning: \n",
      "A value is trying to be set on a copy of a slice from a DataFrame.\n",
      "Try using .loc[row_indexer,col_indexer] = value instead\n",
      "\n",
      "See the caveats in the documentation: http://pandas.pydata.org/pandas-docs/stable/indexing.html#indexing-view-versus-copy\n",
      "  after removing the cwd from sys.path.\n"
     ]
    },
    {
     "data": {
      "text/html": [
       "<div>\n",
       "<style scoped>\n",
       "    .dataframe tbody tr th:only-of-type {\n",
       "        vertical-align: middle;\n",
       "    }\n",
       "\n",
       "    .dataframe tbody tr th {\n",
       "        vertical-align: top;\n",
       "    }\n",
       "\n",
       "    .dataframe thead th {\n",
       "        text-align: right;\n",
       "    }\n",
       "</style>\n",
       "<table border=\"1\" class=\"dataframe\">\n",
       "  <thead>\n",
       "    <tr style=\"text-align: right;\">\n",
       "      <th></th>\n",
       "      <th>CO_ID</th>\n",
       "      <th>BILLCYCLE</th>\n",
       "      <th>F_TRAFICO</th>\n",
       "      <th>HORA</th>\n",
       "      <th>GB_TOTAL</th>\n",
       "      <th>año</th>\n",
       "      <th>mes</th>\n",
       "      <th>dia</th>\n",
       "    </tr>\n",
       "  </thead>\n",
       "  <tbody>\n",
       "    <tr>\n",
       "      <th>0</th>\n",
       "      <td>27782393</td>\n",
       "      <td>3.0</td>\n",
       "      <td>02/08/2018</td>\n",
       "      <td>Noche</td>\n",
       "      <td>0.0000</td>\n",
       "      <td>2018</td>\n",
       "      <td>8</td>\n",
       "      <td>2</td>\n",
       "    </tr>\n",
       "    <tr>\n",
       "      <th>1</th>\n",
       "      <td>41901365</td>\n",
       "      <td>5.0</td>\n",
       "      <td>02/08/2018</td>\n",
       "      <td>Mañana</td>\n",
       "      <td>0.0411</td>\n",
       "      <td>2018</td>\n",
       "      <td>8</td>\n",
       "      <td>2</td>\n",
       "    </tr>\n",
       "    <tr>\n",
       "      <th>2</th>\n",
       "      <td>31801426</td>\n",
       "      <td>5.0</td>\n",
       "      <td>02/08/2018</td>\n",
       "      <td>Madrugada</td>\n",
       "      <td>0.0138</td>\n",
       "      <td>2018</td>\n",
       "      <td>8</td>\n",
       "      <td>2</td>\n",
       "    </tr>\n",
       "    <tr>\n",
       "      <th>3</th>\n",
       "      <td>41410806</td>\n",
       "      <td>4.0</td>\n",
       "      <td>02/08/2018</td>\n",
       "      <td>Madrugada</td>\n",
       "      <td>0.0799</td>\n",
       "      <td>2018</td>\n",
       "      <td>8</td>\n",
       "      <td>2</td>\n",
       "    </tr>\n",
       "    <tr>\n",
       "      <th>4</th>\n",
       "      <td>42886287</td>\n",
       "      <td>5.0</td>\n",
       "      <td>02/08/2018</td>\n",
       "      <td>Mañana</td>\n",
       "      <td>0.2182</td>\n",
       "      <td>2018</td>\n",
       "      <td>8</td>\n",
       "      <td>2</td>\n",
       "    </tr>\n",
       "  </tbody>\n",
       "</table>\n",
       "</div>"
      ],
      "text/plain": [
       "      CO_ID  BILLCYCLE   F_TRAFICO       HORA  GB_TOTAL   año  mes  dia\n",
       "0  27782393        3.0  02/08/2018      Noche    0.0000  2018    8    2\n",
       "1  41901365        5.0  02/08/2018     Mañana    0.0411  2018    8    2\n",
       "2  31801426        5.0  02/08/2018  Madrugada    0.0138  2018    8    2\n",
       "3  41410806        4.0  02/08/2018  Madrugada    0.0799  2018    8    2\n",
       "4  42886287        5.0  02/08/2018     Mañana    0.2182  2018    8    2"
      ]
     },
     "execution_count": 3,
     "metadata": {},
     "output_type": "execute_result"
    }
   ],
   "source": [
    "data = data_original[['CO_ID','BILLCYCLE','F_TRAFICO','HORA','GB_TOTAL']]\n",
    "data['año'] = data['F_TRAFICO'].apply(lambda fecha: int(fecha[6:]))\n",
    "data['mes'] = data['F_TRAFICO'].apply(lambda fecha: int(fecha[4:5]))\n",
    "data['dia'] = data['F_TRAFICO'].apply(lambda fecha: int(fecha[1:2]))"
   ]
  },
  {
   "cell_type": "markdown",
   "metadata": {},
   "source": [
    "### Limpiza de datos]"
   ]
  },
  {
   "cell_type": "code",
   "execution_count": 4,
   "metadata": {},
   "outputs": [
    {
     "data": {
      "text/html": [
       "<div>\n",
       "<style scoped>\n",
       "    .dataframe tbody tr th:only-of-type {\n",
       "        vertical-align: middle;\n",
       "    }\n",
       "\n",
       "    .dataframe tbody tr th {\n",
       "        vertical-align: top;\n",
       "    }\n",
       "\n",
       "    .dataframe thead th {\n",
       "        text-align: right;\n",
       "    }\n",
       "</style>\n",
       "<table border=\"1\" class=\"dataframe\">\n",
       "  <thead>\n",
       "    <tr style=\"text-align: right;\">\n",
       "      <th></th>\n",
       "      <th>CO_ID</th>\n",
       "      <th>BILLCYCLE</th>\n",
       "      <th>F_TRAFICO</th>\n",
       "      <th>HORA</th>\n",
       "      <th>GB_TOTAL</th>\n",
       "      <th>año</th>\n",
       "      <th>mes</th>\n",
       "      <th>dia</th>\n",
       "    </tr>\n",
       "  </thead>\n",
       "  <tbody>\n",
       "    <tr>\n",
       "      <th>62</th>\n",
       "      <td>45866282</td>\n",
       "      <td>NaN</td>\n",
       "      <td>02/08/2018</td>\n",
       "      <td>Madrugada</td>\n",
       "      <td>0.3994</td>\n",
       "      <td>2018</td>\n",
       "      <td>8</td>\n",
       "      <td>2</td>\n",
       "    </tr>\n",
       "    <tr>\n",
       "      <th>120</th>\n",
       "      <td>45119243</td>\n",
       "      <td>NaN</td>\n",
       "      <td>04/08/2018</td>\n",
       "      <td>Noche</td>\n",
       "      <td>0.4427</td>\n",
       "      <td>2018</td>\n",
       "      <td>8</td>\n",
       "      <td>4</td>\n",
       "    </tr>\n",
       "    <tr>\n",
       "      <th>213</th>\n",
       "      <td>44466028</td>\n",
       "      <td>NaN</td>\n",
       "      <td>01/08/2018</td>\n",
       "      <td>Tarde</td>\n",
       "      <td>0.0118</td>\n",
       "      <td>2018</td>\n",
       "      <td>8</td>\n",
       "      <td>1</td>\n",
       "    </tr>\n",
       "    <tr>\n",
       "      <th>324</th>\n",
       "      <td>44466625</td>\n",
       "      <td>NaN</td>\n",
       "      <td>02/08/2018</td>\n",
       "      <td>Noche</td>\n",
       "      <td>0.0785</td>\n",
       "      <td>2018</td>\n",
       "      <td>8</td>\n",
       "      <td>2</td>\n",
       "    </tr>\n",
       "    <tr>\n",
       "      <th>471</th>\n",
       "      <td>45866282</td>\n",
       "      <td>NaN</td>\n",
       "      <td>02/08/2018</td>\n",
       "      <td>Noche</td>\n",
       "      <td>0.1304</td>\n",
       "      <td>2018</td>\n",
       "      <td>8</td>\n",
       "      <td>2</td>\n",
       "    </tr>\n",
       "  </tbody>\n",
       "</table>\n",
       "</div>"
      ],
      "text/plain": [
       "        CO_ID  BILLCYCLE   F_TRAFICO       HORA  GB_TOTAL   año  mes  dia\n",
       "62   45866282        NaN  02/08/2018  Madrugada    0.3994  2018    8    2\n",
       "120  45119243        NaN  04/08/2018      Noche    0.4427  2018    8    4\n",
       "213  44466028        NaN  01/08/2018      Tarde    0.0118  2018    8    1\n",
       "324  44466625        NaN  02/08/2018      Noche    0.0785  2018    8    2\n",
       "471  45866282        NaN  02/08/2018      Noche    0.1304  2018    8    2"
      ]
     },
     "execution_count": 4,
     "metadata": {},
     "output_type": "execute_result"
    }
   ],
   "source": [
    "data[data.isnull().any(axis=1)].head(5)"
   ]
  },
  {
   "cell_type": "code",
   "execution_count": 5,
   "metadata": {},
   "outputs": [],
   "source": [
    "data = data.fillna(9)\n",
    "data.head(5)"
   ]
  },
  {
   "cell_type": "markdown",
   "metadata": {},
   "source": [
    "## Definicion de variables"
   ]
  },
  {
   "cell_type": "markdown",
   "metadata": {},
   "source": [
    "### Billcycle"
   ]
  },
  {
   "cell_type": "code",
   "execution_count": 6,
   "metadata": {
    "scrolled": false
   },
   "outputs": [
    {
     "data": {
      "text/plain": [
       "[1, 3, 4, 5, 9]"
      ]
     },
     "execution_count": 6,
     "metadata": {},
     "output_type": "execute_result"
    }
   ],
   "source": [
    "# DEFINIMOS Billcycles: PARA CREAR UN FOOTPRINT DINAMICO\n",
    "billcycles = ((data.groupby(['BILLCYCLE'], as_index=False, sort=True)).count())['BILLCYCLE']\n",
    "billcycles = list(map(int, billcycles))\n",
    "billcycles"
   ]
  },
  {
   "cell_type": "markdown",
   "metadata": {},
   "source": [
    "### Clientes"
   ]
  },
  {
   "cell_type": "code",
   "execution_count": 7,
   "metadata": {},
   "outputs": [
    {
     "data": {
      "text/plain": [
       "Int64Index([ 2581717,  3132200,  3273844,  3478078,  3768670,  3877738,\n",
       "             3903875,  3952329,  3954876,  3956151,\n",
       "            ...\n",
       "            46812929, 46813575, 46817874, 46822457, 46832405, 46842470,\n",
       "            46845419, 46845790, 46853110, 46856084],\n",
       "           dtype='int64', name='CO_ID', length=40059)"
      ]
     },
     "execution_count": 7,
     "metadata": {},
     "output_type": "execute_result"
    }
   ],
   "source": [
    "# DEFINIMOS LA LISTA DE CLIENTES\n",
    "clientes =  data.groupby('CO_ID').CO_ID.count().index\n",
    "clientes"
   ]
  },
  {
   "cell_type": "markdown",
   "metadata": {},
   "source": [
    "# FOOTPRINT PARA CADA MCCG"
   ]
  },
  {
   "cell_type": "markdown",
   "metadata": {},
   "source": [
    "## Unidad de TXs temporales (U)"
   ]
  },
  {
   "cell_type": "markdown",
   "metadata": {},
   "source": [
    "Resume un conjunto de TXs en un periodo de tiempo **“tau”**.\n",
    "<div>Los footprints que creamos será la agrupación de todas las transacciones en \"tau\" de cada cliente, y representará una unidad de comportamiento con 3 dimensiones.</div> \n",
    "\n",
    "\n",
    "Donde:\n",
    "1.  **tau** = 1 semana\n",
    "2.  dimensión 1:    **d**   = 7 días\n",
    "3.  dimensión 2:\t**t**   = 4 turnos\t \n",
    "4.  dimensión 3:    **m**   = # de mccgs en nuestra data.\n",
    "\n",
    "    \n",
    "Para cada cliente:\n",
    "    \n",
    "    Entrada:   S = {s1, ..., sn}\n",
    "    Salida:    SS = {U(1), U(2), U(3), ...,U(m)}     donde m <=n"
   ]
  },
  {
   "cell_type": "markdown",
   "metadata": {},
   "source": [
    "### Funciones de apoyo"
   ]
  },
  {
   "cell_type": "markdown",
   "metadata": {},
   "source": [
    "Definimos funcion para generar los footprint (U) de un usuario, con los parametros:\n",
    "\n",
    "1. <div> **user**:  Dataset original filtrado para un cliente determinado</div> \n",
    "2. <div> **monto**: Indica si los footprint seran generados con la suma de los el numero de TXs (False) o la suma de los montos por cada TX (True)</div> "
   ]
  },
  {
   "cell_type": "code",
   "execution_count": 8,
   "metadata": {},
   "outputs": [],
   "source": [
    "def procesar_u(user, tipo_eth = False):    \n",
    "    uid=list(user['CO_ID'])[0]              # Cliente_id\n",
    "    years = set(list(user['año']))              # Lista los años en que se tiene TXs registradas\n",
    "    anni = {year:{} for year in list(years)}    # definimos anni como una lista \n",
    "    \n",
    "    # para cada fila, es decir, cada TXs del cliente)\n",
    "    for dat in  range(0,len(user)):\n",
    "        año = user.iloc[dat]['año']\n",
    "        mes = user.iloc[dat]['mes']\n",
    "        dia = user.iloc[dat]['dia']\n",
    "        week=str(datetime.datetime(año,mes,dia).isocalendar()[1])\n",
    "        if len(week)==1:\n",
    "            week = '0' + week\n",
    "        weekday=datetime.datetime(año,mes,dia).weekday()\n",
    "        turn = user.iloc[dat]['HORA']\n",
    "        billcycle = user.iloc[dat]['BILLCYCLE']\n",
    "        \n",
    "        # Si la semana no existe en el año\n",
    "        if not(week in anni[año]):\n",
    "            anni[año][week] = {}\n",
    "        # Si el billcycle no existe en la semana y año\n",
    "        if not (billcycle in anni[año][week]):\n",
    "            anni[año][week][billcycle]={}  #NUMERO DE MCCGs VARIABLES\n",
    "        # Si el turno no existe en el mccg,semana y año\n",
    "        if not (turn in anni[año][week][billcycle]):\n",
    "            anni[año][week][billcycle][turn]=np.array([0]*7)  #CUATRO TURNOS\n",
    "            \n",
    "        if tipo_eth:\n",
    "            anni[año][week][billcycle][turn][weekday]+=user.iloc[dat]['GB_TOTAL'].astype(float)\n",
    "        else:\n",
    "            anni[año][week][billcycle][turn][weekday]+=1 \n",
    "            \n",
    "    return uid,anni"
   ]
  },
  {
   "cell_type": "markdown",
   "metadata": {},
   "source": [
    "### Procesando U"
   ]
  },
  {
   "cell_type": "markdown",
   "metadata": {},
   "source": [
    "Generamos en formato json el footprint de cada cliente\n",
    "donde el los índices son: **cliente_id**, **año**, **semana**, **mccg**, **turno** conteniendo un **array[0,...,6]** con los dias.\n",
    "\n"
   ]
  },
  {
   "cell_type": "code",
   "execution_count": 9,
   "metadata": {},
   "outputs": [
    {
     "name": "stdout",
     "output_type": "stream",
     "text": [
      "Number of rows 108587\n",
      "vamos en el  1\n"
     ]
    }
   ],
   "source": [
    "##################################################\n",
    "#        Procesando U de cada CLIENTE\n",
    "##################################################\n",
    "    \n",
    "profiles={}           # Creamos lista de prefiles\n",
    "contador=0 \n",
    "print(\"Number of rows \"+str(len(data))) \n",
    "\n",
    "# Para cada cliente\n",
    "for cliente in clientes:\n",
    "    cliente_i= data[data['CO_ID'] == cliente]       # filtramos dataset solo para el cliente i\n",
    "    results=procesar_u(cliente_i, tipo_eth=False)          # procesamos u del usuario i\n",
    "    profiles[results[0]]=results[1]                     # cargamos lista de indice \"uid\" con la data del cliente(json)\n",
    "    contador += 1\n",
    "    if contador % 100000 == 1:\n",
    "        print(\"vamos en el \",contador)"
   ]
  },
  {
   "cell_type": "code",
   "execution_count": 10,
   "metadata": {},
   "outputs": [],
   "source": [
    "# profiles"
   ]
  },
  {
   "cell_type": "markdown",
   "metadata": {},
   "source": [
    "Creamos la cabecera dinámica donde se guardaran todos los footprints generados"
   ]
  },
  {
   "cell_type": "code",
   "execution_count": 11,
   "metadata": {},
   "outputs": [
    {
     "data": {
      "text/plain": [
       "'CO_ID,YEAR,WEEK,PROFILE_ID,BILLCYCLE,TURN,SIZE,b1t0d0,b1t0d1,b1t0d2,b1t0d3,b1t0d4,b1t0d5,b1t0d6,b1t1d0,b1t1d1,b1t1d2,b1t1d3,b1t1d4,b1t1d5,b1t1d6,b1t2d0,b1t2d1,b1t2d2,b1t2d3,b1t2d4,b1t2d5,b1t2d6,b1t3d0,b1t3d1,b1t3d2,b1t3d3,b1t3d4,b1t3d5,b1t3d6,b3t0d0,b3t0d1,b3t0d2,b3t0d3,b3t0d4,b3t0d5,b3t0d6,b3t1d0,b3t1d1,b3t1d2,b3t1d3,b3t1d4,b3t1d5,b3t1d6,b3t2d0,b3t2d1,b3t2d2,b3t2d3,b3t2d4,b3t2d5,b3t2d6,b3t3d0,b3t3d1,b3t3d2,b3t3d3,b3t3d4,b3t3d5,b3t3d6,b4t0d0,b4t0d1,b4t0d2,b4t0d3,b4t0d4,b4t0d5,b4t0d6,b4t1d0,b4t1d1,b4t1d2,b4t1d3,b4t1d4,b4t1d5,b4t1d6,b4t2d0,b4t2d1,b4t2d2,b4t2d3,b4t2d4,b4t2d5,b4t2d6,b4t3d0,b4t3d1,b4t3d2,b4t3d3,b4t3d4,b4t3d5,b4t3d6,b5t0d0,b5t0d1,b5t0d2,b5t0d3,b5t0d4,b5t0d5,b5t0d6,b5t1d0,b5t1d1,b5t1d2,b5t1d3,b5t1d4,b5t1d5,b5t1d6,b5t2d0,b5t2d1,b5t2d2,b5t2d3,b5t2d4,b5t2d5,b5t2d6,b5t3d0,b5t3d1,b5t3d2,b5t3d3,b5t3d4,b5t3d5,b5t3d6,b9t0d0,b9t0d1,b9t0d2,b9t0d3,b9t0d4,b9t0d5,b9t0d6,b9t1d0,b9t1d1,b9t1d2,b9t1d3,b9t1d4,b9t1d5,b9t1d6,b9t2d0,b9t2d1,b9t2d2,b9t2d3,b9t2d4,b9t2d5,b9t2d6,b9t3d0,b9t3d1,b9t3d2,b9t3d3,b9t3d4,b9t3d5,b9t3d6\\n'"
      ]
     },
     "execution_count": 11,
     "metadata": {},
     "output_type": "execute_result"
    }
   ],
   "source": [
    "cabecera = 'CO_ID,YEAR,WEEK,PROFILE_ID,BILLCYCLE,TURN,SIZE'\n",
    "for i in range(len(billcycles)):\n",
    "    for j in range(4):                # numero de turnos\n",
    "        for k in range(7):            # numero de dias\n",
    "            cabecera = cabecera+','+'b'+str(billcycles[i])+'t'+str(j)+'d'+str(k)\n",
    "cabecera = cabecera+'\\n'\n",
    "cabecera"
   ]
  },
  {
   "cell_type": "code",
   "execution_count": 12,
   "metadata": {},
   "outputs": [],
   "source": [
    "def turnos_def(x):\n",
    "    res = -1\n",
    "    if x == \"Madrugada\":\n",
    "        res = 0\n",
    "    if x == \"Mañana\":\n",
    "        res = 1\n",
    "    if x == \"Tarde\":\n",
    "        res = 2\n",
    "    if x == \"Noche\":\n",
    "        res = 3\n",
    "    return res"
   ]
  },
  {
   "cell_type": "code",
   "execution_count": 13,
   "metadata": {},
   "outputs": [
    {
     "name": "stdout",
     "output_type": "stream",
     "text": [
      "number of footprint: 40059\n"
     ]
    }
   ],
   "source": [
    "outfile='./resultados/U'           # Indicamos archivo de salida \n",
    "individual_footprint=\"%s.footprint\" %(outfile)\n",
    "fw=open(individual_footprint,'w')  \n",
    "\n",
    "fw.write(cabecera)                    # Escribimos la cabecera\n",
    "footprints=0 \n",
    "\n",
    "# Guardamos el Json como un dataframe\n",
    "# Para cada uid (cliente)\n",
    "for uid in profiles:   \n",
    "    profile_id=0\n",
    "    # En cada año\n",
    "    for year in profiles[uid]:       \n",
    "        # Por cada semana\n",
    "        for week in profiles[uid][year]:                        \n",
    "            temp=np.zeros(4*7*len(billcycles))                      # creamos tensor con 0s\n",
    "            \n",
    "            for billcycle in profiles[uid][year][week]:             # cargamos los mccgs\n",
    "                pos_billcycle = list(billcycles).index(billcycle)             # posicion del mccg\n",
    "                temp2 = np.zeros(4*7)                          # creamos vector temporal turnos por dias con 0s\n",
    "                for turn in profiles[uid][year][week][billcycle]:   # cargamos turnos\n",
    "                    pos_turn = turnos_def(turn)                            # posicion del turno\n",
    "                    \n",
    "                    d=profiles[uid][year][week][billcycle][turn]    # Dias como array        \n",
    "                    \n",
    "                    for k in range(pos_turn*7,(pos_turn+1)*7): # cargamos dias\n",
    "                        temp2[k] += d[k-(pos_turn*7)]          # posicion de cada dia en el vector temporal\n",
    "                \n",
    "                for j in range(pos_billcycle*28,(pos_billcycle+1)*28):\n",
    "                    temp[j] = temp2[j-(pos_billcycle*28)]           # vector temporal es cargado en el tensor\n",
    "                \n",
    "            # Escribimos los datos del primer comportamiento (Tensor)    \n",
    "            txt = ''+str(uid)+','+str(year)+','+str(week)+','+str(profile_id)+','+str(billcycle)+','+str(turn)+','+str(sum(temp))\n",
    "            for i in range(len(temp)):\n",
    "                txt = txt +','+str(temp[i])\n",
    "            fw.write(txt +'\\n')\n",
    "\n",
    "            profile_id += 1    # perfil cambia cada unidad de fecha diferente (eg. cada semana != es un perfil) de cada cliente\n",
    "            footprints += 1\n",
    "    fw.flush()\n",
    "fw.close()\n",
    "print (\"number of footprint: \"+str(footprints))"
   ]
  },
  {
   "cell_type": "code",
   "execution_count": null,
   "metadata": {},
   "outputs": [],
   "source": []
  },
  {
   "cell_type": "code",
   "execution_count": null,
   "metadata": {},
   "outputs": [],
   "source": []
  }
 ],
 "metadata": {
  "kernelspec": {
   "display_name": "Python 3",
   "language": "python",
   "name": "python3"
  },
  "language_info": {
   "codemirror_mode": {
    "name": "ipython",
    "version": 3
   },
   "file_extension": ".py",
   "mimetype": "text/x-python",
   "name": "python",
   "nbconvert_exporter": "python",
   "pygments_lexer": "ipython3",
   "version": "3.6.5"
  },
  "toc": {
   "base_numbering": 1,
   "nav_menu": {},
   "number_sections": false,
   "sideBar": true,
   "skip_h1_title": false,
   "title_cell": "Table of Contents",
   "title_sidebar": "Contents",
   "toc_cell": false,
   "toc_position": {
    "height": "calc(100% - 180px)",
    "left": "10px",
    "top": "150px",
    "width": "280px"
   },
   "toc_section_display": true,
   "toc_window_display": true
  }
 },
 "nbformat": 4,
 "nbformat_minor": 2
}
