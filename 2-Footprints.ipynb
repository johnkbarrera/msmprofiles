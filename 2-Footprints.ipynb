{
 "cells": [
  {
   "cell_type": "markdown",
   "metadata": {},
   "source": [
    "# CONSTRUCCIÓN DE LOS \"FOOTPRINTS\""
   ]
  },
  {
   "cell_type": "markdown",
   "metadata": {},
   "source": [
    "Construimos los footprints temporales de cada cliente a partir de sus transacciones, de tal manera que agrupamos en un intervalo de d días.\n",
    "\n",
    "\n",
    "Dado:\n",
    "\n",
    "    Sesion de TX\n",
    "        s = {cliente, timestamp, Monto}\n",
    "    \n",
    "    Cada cliente tiene una secuencia de sesiones de TX (S)\n",
    "        S = { s1, s2 , s3, ..., sn}                n: # de sesiones de cada cliente\n",
    "        \n",
    "        "
   ]
  },
  {
   "cell_type": "code",
   "execution_count": 1,
   "metadata": {},
   "outputs": [],
   "source": [
    "# LIBRERIAS\n",
    "import numpy as np\n",
    "import datetime\n",
    "from datetime import date\n",
    "import json\n",
    "import pylab\n",
    "import pandas as pd\n",
    "import matplotlib.pyplot as plt\n",
    "import os, sys"
   ]
  },
  {
   "cell_type": "markdown",
   "metadata": {},
   "source": [
    "## Preparacion de datos"
   ]
  },
  {
   "cell_type": "markdown",
   "metadata": {},
   "source": [
    "### Cargando datos"
   ]
  },
  {
   "cell_type": "code",
   "execution_count": 2,
   "metadata": {},
   "outputs": [],
   "source": [
    "#path = \"../data\"   #Path server \n",
    "path = \"./data\" \n",
    "p_header=\"%s/header.txt\" %(path)\n",
    "p_data=\"%s/mobile_consume.csv\" %(path)"
   ]
  },
  {
   "cell_type": "code",
   "execution_count": 3,
   "metadata": {},
   "outputs": [],
   "source": [
    "header = pd.read_csv(p_header)\n",
    "data = pd.read_csv(p_data , header = None)\n",
    "data.columns = list(header)"
   ]
  },
  {
   "cell_type": "markdown",
   "metadata": {},
   "source": [
    "### Preparacion de datos"
   ]
  },
  {
   "cell_type": "code",
   "execution_count": 9,
   "metadata": {
    "scrolled": false
   },
   "outputs": [],
   "source": [
    "data['AÑO'] = data['F_TRAFICO'].apply(lambda fecha: int(fecha[6:]))"
   ]
  },
  {
   "cell_type": "code",
   "execution_count": 10,
   "metadata": {
    "scrolled": false
   },
   "outputs": [
    {
     "data": {
      "text/html": [
       "<div>\n",
       "<style scoped>\n",
       "    .dataframe tbody tr th:only-of-type {\n",
       "        vertical-align: middle;\n",
       "    }\n",
       "\n",
       "    .dataframe tbody tr th {\n",
       "        vertical-align: top;\n",
       "    }\n",
       "\n",
       "    .dataframe thead th {\n",
       "        text-align: right;\n",
       "    }\n",
       "</style>\n",
       "<table border=\"1\" class=\"dataframe\">\n",
       "  <thead>\n",
       "    <tr style=\"text-align: right;\">\n",
       "      <th></th>\n",
       "      <th>CO_ID</th>\n",
       "      <th>BILLCYCLE</th>\n",
       "      <th>NUMCODPLANTARIFARIO</th>\n",
       "      <th>F_ACT</th>\n",
       "      <th>F_TRAFICO</th>\n",
       "      <th>HORA</th>\n",
       "      <th>GB_TOTAL</th>\n",
       "      <th>NO_FREE</th>\n",
       "      <th>FREE</th>\n",
       "      <th>BANCOS</th>\n",
       "      <th>...</th>\n",
       "      <th>APPLEM_PI</th>\n",
       "      <th>SOUNDC_PI</th>\n",
       "      <th>FACE_PI</th>\n",
       "      <th>MAIL_PI</th>\n",
       "      <th>WHATS_RO_I</th>\n",
       "      <th>WHATS_RO_IF</th>\n",
       "      <th>WAZE_RO</th>\n",
       "      <th>EMAIL_RO</th>\n",
       "      <th>WHARS_RO2</th>\n",
       "      <th>AÑO</th>\n",
       "    </tr>\n",
       "  </thead>\n",
       "  <tbody>\n",
       "    <tr>\n",
       "      <th>0</th>\n",
       "      <td>10002698</td>\n",
       "      <td>3</td>\n",
       "      <td>1981</td>\n",
       "      <td>12/05/2015</td>\n",
       "      <td>01/05/2018</td>\n",
       "      <td>0</td>\n",
       "      <td>0.0000</td>\n",
       "      <td>0.0000</td>\n",
       "      <td>0.0</td>\n",
       "      <td>0</td>\n",
       "      <td>...</td>\n",
       "      <td>0</td>\n",
       "      <td>0</td>\n",
       "      <td>0</td>\n",
       "      <td>0</td>\n",
       "      <td>0</td>\n",
       "      <td>0</td>\n",
       "      <td>0</td>\n",
       "      <td>0</td>\n",
       "      <td>0</td>\n",
       "      <td>2018</td>\n",
       "    </tr>\n",
       "    <tr>\n",
       "      <th>1</th>\n",
       "      <td>10002698</td>\n",
       "      <td>3</td>\n",
       "      <td>1981</td>\n",
       "      <td>12/05/2015</td>\n",
       "      <td>01/05/2018</td>\n",
       "      <td>1</td>\n",
       "      <td>0.0019</td>\n",
       "      <td>0.0012</td>\n",
       "      <td>0.0</td>\n",
       "      <td>0</td>\n",
       "      <td>...</td>\n",
       "      <td>0</td>\n",
       "      <td>0</td>\n",
       "      <td>0</td>\n",
       "      <td>0</td>\n",
       "      <td>0</td>\n",
       "      <td>0</td>\n",
       "      <td>0</td>\n",
       "      <td>0</td>\n",
       "      <td>0</td>\n",
       "      <td>2018</td>\n",
       "    </tr>\n",
       "    <tr>\n",
       "      <th>2</th>\n",
       "      <td>10002698</td>\n",
       "      <td>3</td>\n",
       "      <td>1981</td>\n",
       "      <td>12/05/2015</td>\n",
       "      <td>01/05/2018</td>\n",
       "      <td>2</td>\n",
       "      <td>0.0001</td>\n",
       "      <td>0.0001</td>\n",
       "      <td>0.0</td>\n",
       "      <td>0</td>\n",
       "      <td>...</td>\n",
       "      <td>0</td>\n",
       "      <td>0</td>\n",
       "      <td>0</td>\n",
       "      <td>0</td>\n",
       "      <td>0</td>\n",
       "      <td>0</td>\n",
       "      <td>0</td>\n",
       "      <td>0</td>\n",
       "      <td>0</td>\n",
       "      <td>2018</td>\n",
       "    </tr>\n",
       "    <tr>\n",
       "      <th>3</th>\n",
       "      <td>10002698</td>\n",
       "      <td>3</td>\n",
       "      <td>1981</td>\n",
       "      <td>12/05/2015</td>\n",
       "      <td>01/05/2018</td>\n",
       "      <td>3</td>\n",
       "      <td>0.0000</td>\n",
       "      <td>0.0000</td>\n",
       "      <td>0.0</td>\n",
       "      <td>0</td>\n",
       "      <td>...</td>\n",
       "      <td>0</td>\n",
       "      <td>0</td>\n",
       "      <td>0</td>\n",
       "      <td>0</td>\n",
       "      <td>0</td>\n",
       "      <td>0</td>\n",
       "      <td>0</td>\n",
       "      <td>0</td>\n",
       "      <td>0</td>\n",
       "      <td>2018</td>\n",
       "    </tr>\n",
       "    <tr>\n",
       "      <th>4</th>\n",
       "      <td>10002698</td>\n",
       "      <td>3</td>\n",
       "      <td>1981</td>\n",
       "      <td>12/05/2015</td>\n",
       "      <td>02/05/2018</td>\n",
       "      <td>1</td>\n",
       "      <td>0.0029</td>\n",
       "      <td>0.0026</td>\n",
       "      <td>0.0</td>\n",
       "      <td>0</td>\n",
       "      <td>...</td>\n",
       "      <td>0</td>\n",
       "      <td>0</td>\n",
       "      <td>0</td>\n",
       "      <td>0</td>\n",
       "      <td>0</td>\n",
       "      <td>0</td>\n",
       "      <td>0</td>\n",
       "      <td>0</td>\n",
       "      <td>0</td>\n",
       "      <td>2018</td>\n",
       "    </tr>\n",
       "  </tbody>\n",
       "</table>\n",
       "<p>5 rows × 45 columns</p>\n",
       "</div>"
      ],
      "text/plain": [
       "      CO_ID  BILLCYCLE  NUMCODPLANTARIFARIO       F_ACT   F_TRAFICO  HORA  \\\n",
       "0  10002698          3                 1981  12/05/2015  01/05/2018     0   \n",
       "1  10002698          3                 1981  12/05/2015  01/05/2018     1   \n",
       "2  10002698          3                 1981  12/05/2015  01/05/2018     2   \n",
       "3  10002698          3                 1981  12/05/2015  01/05/2018     3   \n",
       "4  10002698          3                 1981  12/05/2015  02/05/2018     1   \n",
       "\n",
       "   GB_TOTAL  NO_FREE  FREE  BANCOS  ...   APPLEM_PI  SOUNDC_PI  FACE_PI  \\\n",
       "0    0.0000   0.0000   0.0       0  ...           0          0        0   \n",
       "1    0.0019   0.0012   0.0       0  ...           0          0        0   \n",
       "2    0.0001   0.0001   0.0       0  ...           0          0        0   \n",
       "3    0.0000   0.0000   0.0       0  ...           0          0        0   \n",
       "4    0.0029   0.0026   0.0       0  ...           0          0        0   \n",
       "\n",
       "   MAIL_PI  WHATS_RO_I  WHATS_RO_IF  WAZE_RO  EMAIL_RO  WHARS_RO2   AÑO  \n",
       "0        0           0            0        0         0          0  2018  \n",
       "1        0           0            0        0         0          0  2018  \n",
       "2        0           0            0        0         0          0  2018  \n",
       "3        0           0            0        0         0          0  2018  \n",
       "4        0           0            0        0         0          0  2018  \n",
       "\n",
       "[5 rows x 45 columns]"
      ]
     },
     "execution_count": 10,
     "metadata": {},
     "output_type": "execute_result"
    }
   ],
   "source": [
    "data.head()"
   ]
  },
  {
   "cell_type": "markdown",
   "metadata": {},
   "source": [
    "## Definicion de variables"
   ]
  },
  {
   "cell_type": "markdown",
   "metadata": {},
   "source": [
    "### Clientes"
   ]
  },
  {
   "cell_type": "code",
   "execution_count": 11,
   "metadata": {},
   "outputs": [
    {
     "data": {
      "text/plain": [
       "Int64Index([10002698, 10012082, 10017768, 10018071, 10018341, 10029507,\n",
       "            10030093, 10031033, 10033129, 10033196,\n",
       "            ...\n",
       "            10188600, 10189118, 10189191, 10192503, 10196546, 10197397,\n",
       "            10197516, 10197569, 10199101, 10199140],\n",
       "           dtype='int64', name='CO_ID', length=112)"
      ]
     },
     "execution_count": 11,
     "metadata": {},
     "output_type": "execute_result"
    }
   ],
   "source": [
    "# DEFINIMOS LA LISTA DE CLIENTES\n",
    "clientes =  data.groupby('CO_ID').CO_ID.count().index\n",
    "clientes"
   ]
  },
  {
   "cell_type": "markdown",
   "metadata": {},
   "source": [
    "# FOOTPRINT PARA CADA MCCG"
   ]
  },
  {
   "cell_type": "markdown",
   "metadata": {},
   "source": [
    "## Unidad de TXs temporales (U)"
   ]
  },
  {
   "cell_type": "markdown",
   "metadata": {},
   "source": [
    "Resume un conjunto de TXs en un periodo de tiempo **“tau”**.\n",
    "<div>Los footprints que creamos será la agrupación de todas las transacciones en \"tau\" de cada cliente, y representará una unidad de comportamiento con 3 dimensiones.</div> \n",
    "\n",
    "\n",
    "Donde:\n",
    "1.  **tau** = 1 semana\n",
    "2.  dimensión 1:    **d**   = 7 días\n",
    "3.  dimensión 2:\t**t**   = 4 turnos\t \n",
    "4.  dimensión 3:    **m**   = # de mccgs en nuestra data.\n",
    "\n",
    "    \n",
    "Para cada cliente:\n",
    "    \n",
    "    Entrada:   S = {s1, ..., sn}\n",
    "    Salida:    SS = {U(1), U(2), U(3), ...,U(m)}     donde m <=n"
   ]
  },
  {
   "cell_type": "markdown",
   "metadata": {},
   "source": [
    "### Funciones de apoyo"
   ]
  },
  {
   "cell_type": "markdown",
   "metadata": {},
   "source": [
    "Definimos funcion para generar los footprint (U) de un usuario, con los parametros:\n",
    "\n",
    "1. <div> **user**:  Dataset original filtrado para un cliente determinado</div> \n",
    "2. <div> **monto**: Indica si los footprint seran generados con la suma de los el numero de TXs (False) o la suma de los montos por cada TX (True)</div> "
   ]
  },
  {
   "cell_type": "code",
   "execution_count": 12,
   "metadata": {},
   "outputs": [],
   "source": [
    "def procesar_u(user, tipo_eth = False):    \n",
    "    uid=list(user['CO_ID'])[0]              # Cliente_id\n",
    "    years = set(list(user['AÑO']))              # Lista los años en que se tiene TXs registradas\n",
    "    anni = {year:{} for year in list(years)}    # definimos anni como una lista \n",
    "    \n",
    "    # para cada fila, es decir, cada TXs del cliente)\n",
    "    for dat in  range(0,len(user)):\n",
    "        año = int(user.iloc[dat]['AÑO'])\n",
    "        fecha = user.iloc[dat]['F_TRAFICO']\n",
    "        fecha = pd.to_datetime(fecha, format='%d/%m/%Y', errors='coerce')\n",
    "        mes = fecha.month\n",
    "        dia = fecha.day        \n",
    "        turn = user.iloc[dat]['HORA']\n",
    "        \n",
    "        week=str(datetime.datetime(año,mes,dia).isocalendar()[1])\n",
    "        if len(week)==1:\n",
    "            week = '0' + week\n",
    "        weekday=datetime.datetime(año,mes,dia).weekday()\n",
    "        \n",
    "        # Si la semana no existe en el año\n",
    "        if not(week in anni[año]):\n",
    "            anni[año][week] = {}\n",
    "        # Si el billcycle no existe en la semana y año\n",
    "        if not (weekday in anni[año][week]):\n",
    "            anni[año][week][weekday]={}  #NUMERO DE MCCGs VARIABLES\n",
    "        # Si el turno no existe en el mccg,semana y año\n",
    "        \n",
    "        anni[año][week][weekday][turn]=list(user.iloc[dat,6:-1]) \n",
    "                \n",
    "    return uid,anni"
   ]
  },
  {
   "cell_type": "markdown",
   "metadata": {},
   "source": [
    "### Procesando U"
   ]
  },
  {
   "cell_type": "markdown",
   "metadata": {},
   "source": [
    "Generamos en formato json el footprint de cada cliente\n",
    "donde el los índices son: **cliente_id**, **año**, **semana**, **mccg**, **turno** conteniendo un **array[0,...,6]** con los dias.\n",
    "\n"
   ]
  },
  {
   "cell_type": "code",
   "execution_count": 13,
   "metadata": {},
   "outputs": [
    {
     "name": "stdout",
     "output_type": "stream",
     "text": [
      "Number of rows 12340\n",
      "vamos en el  1\n"
     ]
    }
   ],
   "source": [
    "##################################################\n",
    "#        Procesando U de cada CLIENTE\n",
    "##################################################\n",
    "    \n",
    "profiles={}           # Creamos lista de prefiles\n",
    "contador=0 \n",
    "print(\"Number of rows \"+str(len(data))) \n",
    "\n",
    "# Para cada cliente\n",
    "for cliente in clientes:\n",
    "    cliente_i= data[data['CO_ID'] == cliente]       # filtramos dataset solo para el cliente i\n",
    "    results=procesar_u(cliente_i, tipo_eth=False)          # procesamos u del usuario i\n",
    "    profiles[results[0]]=results[1]                     # cargamos lista de indice \"uid\" con la data del cliente(json)\n",
    "    contador += 1\n",
    "    if contador % 1000 == 1:\n",
    "        print(\"vamos en el \",contador)"
   ]
  },
  {
   "cell_type": "code",
   "execution_count": 14,
   "metadata": {},
   "outputs": [],
   "source": [
    "# profiles"
   ]
  },
  {
   "cell_type": "markdown",
   "metadata": {},
   "source": [
    "Creamos la cabecera dinámica donde se guardaran todos los footprints generados"
   ]
  },
  {
   "cell_type": "code",
   "execution_count": 15,
   "metadata": {},
   "outputs": [],
   "source": [
    "cabecera = 'CO_ID,YEAR,WEEK,PROFILE_ID,SIZE'"
   ]
  },
  {
   "cell_type": "code",
   "execution_count": 16,
   "metadata": {},
   "outputs": [],
   "source": [
    "for i in range(7):      # numero de dias\n",
    "    for j in range(4):                # numero de turnos\n",
    "        for k in range(38):            # numero de planes\n",
    "            cabecera = cabecera+','+'D'+str(i)+'T'+str(j)+'P'+str(k)\n",
    "cabecera = cabecera+'\\n'"
   ]
  },
  {
   "cell_type": "code",
   "execution_count": 17,
   "metadata": {},
   "outputs": [
    {
     "data": {
      "text/plain": [
       "8264"
      ]
     },
     "execution_count": 17,
     "metadata": {},
     "output_type": "execute_result"
    }
   ],
   "source": [
    "outfile='./resultados/U'           # Indicamos archivo de salida \n",
    "individual_footprint=\"%s.footprint\" %(outfile)\n",
    "fw=open(individual_footprint,'w')  \n",
    "\n",
    "fw.write(cabecera)                    # Escribimos la cabecera"
   ]
  },
  {
   "cell_type": "code",
   "execution_count": 18,
   "metadata": {},
   "outputs": [
    {
     "name": "stdout",
     "output_type": "stream",
     "text": [
      "number of footprint: 550\n"
     ]
    }
   ],
   "source": [
    "\n",
    "# Para cada uid (cliente)\n",
    "footprints=0\n",
    "for uid in profiles:   \n",
    "    profile_id=0\n",
    "    # En cada año\n",
    "    for year in profiles[uid]:       \n",
    "        # Por cada semana\n",
    "        for week in profiles[uid][year]:    \n",
    "                             \n",
    "            temp=np.zeros(7*4*38) \n",
    "            # Por cada semana\n",
    "            for weekday in profiles[uid][year][week]:\n",
    "                temp2=np.zeros(4*38) \n",
    "                # Por cada turno\n",
    "                for turno in profiles[uid][year][week][weekday]:                        \n",
    "                    # print(uid,year,week,weekday,turno,len(profiles[uid][year][week][weekday][turno]))\n",
    "                    temp2[turno*38:(turno+1)*38] = profiles[uid][year][week][weekday][turno]\n",
    "                temp[weekday*len(temp2):(weekday+1)*len(temp2)] = temp2\n",
    "          \n",
    "            # Escribimos los datos del primer comportamiento (Tensor)    \n",
    "            txt = ''+str(uid)+','+str(year)+','+str(week)+','+str(profile_id)+','+str(sum(temp))\n",
    "            for i in range(len(temp)):\n",
    "                txt = txt +','+str(temp[i])\n",
    "            fw.write(txt +'\\n')\n",
    "\n",
    "            profile_id += 1   \n",
    "            footprints += 1  \n",
    "            \n",
    "    fw.flush()\n",
    "fw.close()               \n",
    "print (\"number of footprint: \"+str(footprints))"
   ]
  },
  {
   "cell_type": "code",
   "execution_count": 19,
   "metadata": {},
   "outputs": [],
   "source": [
    "file='./resultados/U' \n",
    "footprint=\"%s.footprint\" %(file)\n",
    "data = pd.read_csv(footprint)"
   ]
  },
  {
   "cell_type": "code",
   "execution_count": 20,
   "metadata": {},
   "outputs": [
    {
     "name": "stdout",
     "output_type": "stream",
     "text": [
      "Done\n"
     ]
    }
   ],
   "source": [
    "print(\"Done\")"
   ]
  },
  {
   "cell_type": "code",
   "execution_count": null,
   "metadata": {},
   "outputs": [],
   "source": []
  },
  {
   "cell_type": "code",
   "execution_count": null,
   "metadata": {},
   "outputs": [],
   "source": []
  }
 ],
 "metadata": {
  "kernelspec": {
   "display_name": "Python 3",
   "language": "python",
   "name": "python3"
  },
  "language_info": {
   "codemirror_mode": {
    "name": "ipython",
    "version": 3
   },
   "file_extension": ".py",
   "mimetype": "text/x-python",
   "name": "python",
   "nbconvert_exporter": "python",
   "pygments_lexer": "ipython3",
   "version": "3.6.5"
  },
  "toc": {
   "base_numbering": 1,
   "nav_menu": {},
   "number_sections": false,
   "sideBar": true,
   "skip_h1_title": false,
   "title_cell": "Table of Contents",
   "title_sidebar": "Contents",
   "toc_cell": false,
   "toc_position": {
    "height": "calc(100% - 180px)",
    "left": "10px",
    "top": "150px",
    "width": "280px"
   },
   "toc_section_display": true,
   "toc_window_display": true
  }
 },
 "nbformat": 4,
 "nbformat_minor": 2
}
